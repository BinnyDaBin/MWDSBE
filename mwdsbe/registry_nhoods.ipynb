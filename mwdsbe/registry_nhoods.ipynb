{
 "cells": [
  {
   "cell_type": "code",
   "execution_count": 1,
   "metadata": {},
   "outputs": [],
   "source": [
    "import geopandas as gpd\n",
    "import mwdsbe"
   ]
  },
  {
   "cell_type": "code",
   "execution_count": 2,
   "metadata": {},
   "outputs": [],
   "source": [
    "zillow = gpd.read_file('data/neighborhood/zillow_neighborhoods.geojson')\n",
    "# zillow = zillow.to_crs(epsg=3857)"
   ]
  },
  {
   "cell_type": "code",
   "execution_count": 3,
   "metadata": {},
   "outputs": [],
   "source": [
    "registry = mwdsbe.load_registry() # geopandas df"
   ]
  },
  {
   "cell_type": "code",
   "execution_count": 4,
   "metadata": {},
   "outputs": [],
   "source": [
    "registry_geo = registry.dropna(subset=['geometry'])"
   ]
  },
  {
   "cell_type": "code",
   "execution_count": 5,
   "metadata": {},
   "outputs": [],
   "source": [
    "registry_gdf = gpd.GeoDataFrame(registry_geo, geometry='geometry', crs={\"init\": \"epsg:4326\"})"
   ]
  },
  {
   "cell_type": "code",
   "execution_count": 6,
   "metadata": {},
   "outputs": [],
   "source": [
    "# registry_gdf = registry_gdf.to_crs(epsg=3857)"
   ]
  },
  {
   "cell_type": "code",
   "execution_count": 7,
   "metadata": {},
   "outputs": [],
   "source": [
    "joined = gpd.sjoin(registry_gdf, zillow, op='within', how='left')"
   ]
  },
  {
   "cell_type": "code",
   "execution_count": 8,
   "metadata": {},
   "outputs": [],
   "source": [
    "joined.to_excel (r'C:\\Users\\dabinlee\\Documents\\GitHub\\mwdsbe_binny\\MWDSBE\\analysis\\data\\registry\\joined_nhoods.xlsx', header=True)"
   ]
  },
  {
   "cell_type": "code",
   "execution_count": 9,
   "metadata": {},
   "outputs": [
    {
     "data": {
      "text/html": [
       "<div>\n",
       "<style scoped>\n",
       "    .dataframe tbody tr th:only-of-type {\n",
       "        vertical-align: middle;\n",
       "    }\n",
       "\n",
       "    .dataframe tbody tr th {\n",
       "        vertical-align: top;\n",
       "    }\n",
       "\n",
       "    .dataframe thead th {\n",
       "        text-align: right;\n",
       "    }\n",
       "</style>\n",
       "<table border=\"1\" class=\"dataframe\">\n",
       "  <thead>\n",
       "    <tr style=\"text-align: right;\">\n",
       "      <th></th>\n",
       "      <th>ZillowName</th>\n",
       "      <th>N</th>\n",
       "    </tr>\n",
       "  </thead>\n",
       "  <tbody>\n",
       "    <tr>\n",
       "      <th>0</th>\n",
       "      <td>Airport</td>\n",
       "      <td>2</td>\n",
       "    </tr>\n",
       "    <tr>\n",
       "      <th>1</th>\n",
       "      <td>Allegheny West</td>\n",
       "      <td>6</td>\n",
       "    </tr>\n",
       "    <tr>\n",
       "      <th>2</th>\n",
       "      <td>Andorra</td>\n",
       "      <td>2</td>\n",
       "    </tr>\n",
       "    <tr>\n",
       "      <th>3</th>\n",
       "      <td>Aston Woodbridge</td>\n",
       "      <td>2</td>\n",
       "    </tr>\n",
       "    <tr>\n",
       "      <th>4</th>\n",
       "      <td>Bartram Village</td>\n",
       "      <td>1</td>\n",
       "    </tr>\n",
       "  </tbody>\n",
       "</table>\n",
       "</div>"
      ],
      "text/plain": [
       "         ZillowName  N\n",
       "0           Airport  2\n",
       "1    Allegheny West  6\n",
       "2           Andorra  2\n",
       "3  Aston Woodbridge  2\n",
       "4   Bartram Village  1"
      ]
     },
     "execution_count": 9,
     "metadata": {},
     "output_type": "execute_result"
    }
   ],
   "source": [
    "totals = joined.groupby('ZillowName').size()\n",
    "totals = totals.to_frame('N').reset_index()\n",
    "totals.head()"
   ]
  },
  {
   "cell_type": "code",
   "execution_count": 10,
   "metadata": {},
   "outputs": [],
   "source": [
    "totals = zillow.merge(totals, on='ZillowName', how='left')"
   ]
  },
  {
   "cell_type": "code",
   "execution_count": 11,
   "metadata": {},
   "outputs": [
    {
     "data": {
      "text/plain": [
       "158"
      ]
     },
     "execution_count": 11,
     "metadata": {},
     "output_type": "execute_result"
    }
   ],
   "source": [
    "len(totals)"
   ]
  },
  {
   "cell_type": "code",
   "execution_count": 12,
   "metadata": {},
   "outputs": [],
   "source": [
    "totals['N'] = totals['N'].fillna(0)"
   ]
  },
  {
   "cell_type": "code",
   "execution_count": 13,
   "metadata": {},
   "outputs": [
    {
     "data": {
      "text/html": [
       "<div>\n",
       "<style scoped>\n",
       "    .dataframe tbody tr th:only-of-type {\n",
       "        vertical-align: middle;\n",
       "    }\n",
       "\n",
       "    .dataframe tbody tr th {\n",
       "        vertical-align: top;\n",
       "    }\n",
       "\n",
       "    .dataframe thead th {\n",
       "        text-align: right;\n",
       "    }\n",
       "</style>\n",
       "<table border=\"1\" class=\"dataframe\">\n",
       "  <thead>\n",
       "    <tr style=\"text-align: right;\">\n",
       "      <th></th>\n",
       "      <th>ZillowName</th>\n",
       "      <th>geometry</th>\n",
       "      <th>N</th>\n",
       "    </tr>\n",
       "  </thead>\n",
       "  <tbody>\n",
       "    <tr>\n",
       "      <th>0</th>\n",
       "      <td>Academy Gardens</td>\n",
       "      <td>POLYGON ((-74.99851 40.06435, -74.99456 40.061...</td>\n",
       "      <td>0.0</td>\n",
       "    </tr>\n",
       "    <tr>\n",
       "      <th>1</th>\n",
       "      <td>Airport</td>\n",
       "      <td>POLYGON ((-75.19728 39.89252, -75.19617 39.892...</td>\n",
       "      <td>2.0</td>\n",
       "    </tr>\n",
       "    <tr>\n",
       "      <th>2</th>\n",
       "      <td>Allegheny West</td>\n",
       "      <td>POLYGON ((-75.16592 40.00327, -75.16596 40.003...</td>\n",
       "      <td>6.0</td>\n",
       "    </tr>\n",
       "    <tr>\n",
       "      <th>3</th>\n",
       "      <td>Andorra</td>\n",
       "      <td>POLYGON ((-75.22463 40.06686, -75.22588 40.065...</td>\n",
       "      <td>2.0</td>\n",
       "    </tr>\n",
       "    <tr>\n",
       "      <th>4</th>\n",
       "      <td>Aston Woodbridge</td>\n",
       "      <td>POLYGON ((-75.00860 40.05369, -75.00861 40.053...</td>\n",
       "      <td>2.0</td>\n",
       "    </tr>\n",
       "    <tr>\n",
       "      <th>...</th>\n",
       "      <td>...</td>\n",
       "      <td>...</td>\n",
       "      <td>...</td>\n",
       "    </tr>\n",
       "    <tr>\n",
       "      <th>153</th>\n",
       "      <td>Wister</td>\n",
       "      <td>POLYGON ((-75.17210 40.03840, -75.17197 40.037...</td>\n",
       "      <td>4.0</td>\n",
       "    </tr>\n",
       "    <tr>\n",
       "      <th>154</th>\n",
       "      <td>Woodland Terrace</td>\n",
       "      <td>POLYGON ((-75.20399 39.94968, -75.20396 39.949...</td>\n",
       "      <td>1.0</td>\n",
       "    </tr>\n",
       "    <tr>\n",
       "      <th>155</th>\n",
       "      <td>Wynnefield</td>\n",
       "      <td>POLYGON ((-75.22070 40.00392, -75.21792 39.994...</td>\n",
       "      <td>6.0</td>\n",
       "    </tr>\n",
       "    <tr>\n",
       "      <th>156</th>\n",
       "      <td>Wynnefield Heights</td>\n",
       "      <td>POLYGON ((-75.20103 40.00419, -75.20410 40.000...</td>\n",
       "      <td>7.0</td>\n",
       "    </tr>\n",
       "    <tr>\n",
       "      <th>157</th>\n",
       "      <td>Yorktown</td>\n",
       "      <td>POLYGON ((-75.14917 39.97907, -75.15096 39.970...</td>\n",
       "      <td>0.0</td>\n",
       "    </tr>\n",
       "  </tbody>\n",
       "</table>\n",
       "<p>158 rows × 3 columns</p>\n",
       "</div>"
      ],
      "text/plain": [
       "             ZillowName                                           geometry  \\\n",
       "0       Academy Gardens  POLYGON ((-74.99851 40.06435, -74.99456 40.061...   \n",
       "1               Airport  POLYGON ((-75.19728 39.89252, -75.19617 39.892...   \n",
       "2        Allegheny West  POLYGON ((-75.16592 40.00327, -75.16596 40.003...   \n",
       "3               Andorra  POLYGON ((-75.22463 40.06686, -75.22588 40.065...   \n",
       "4      Aston Woodbridge  POLYGON ((-75.00860 40.05369, -75.00861 40.053...   \n",
       "..                  ...                                                ...   \n",
       "153              Wister  POLYGON ((-75.17210 40.03840, -75.17197 40.037...   \n",
       "154    Woodland Terrace  POLYGON ((-75.20399 39.94968, -75.20396 39.949...   \n",
       "155          Wynnefield  POLYGON ((-75.22070 40.00392, -75.21792 39.994...   \n",
       "156  Wynnefield Heights  POLYGON ((-75.20103 40.00419, -75.20410 40.000...   \n",
       "157            Yorktown  POLYGON ((-75.14917 39.97907, -75.15096 39.970...   \n",
       "\n",
       "       N  \n",
       "0    0.0  \n",
       "1    2.0  \n",
       "2    6.0  \n",
       "3    2.0  \n",
       "4    2.0  \n",
       "..   ...  \n",
       "153  4.0  \n",
       "154  1.0  \n",
       "155  6.0  \n",
       "156  7.0  \n",
       "157  0.0  \n",
       "\n",
       "[158 rows x 3 columns]"
      ]
     },
     "execution_count": 13,
     "metadata": {},
     "output_type": "execute_result"
    }
   ],
   "source": [
    "totals"
   ]
  },
  {
   "cell_type": "code",
   "execution_count": 24,
   "metadata": {},
   "outputs": [],
   "source": [
    "totals.to_file(r'C:\\Users\\dabinlee\\Documents\\GitHub\\mwdsbe_binny\\MWDSBE\\analysis\\data\\registry\\totals_nhoods.geojson', driver='GeoJSON')"
   ]
  }
 ],
 "metadata": {
  "kernelspec": {
   "display_name": "Python 3",
   "language": "python",
   "name": "python3"
  },
  "language_info": {
   "codemirror_mode": {
    "name": "ipython",
    "version": 3
   },
   "file_extension": ".py",
   "mimetype": "text/x-python",
   "name": "python",
   "nbconvert_exporter": "python",
   "pygments_lexer": "ipython3",
   "version": "3.7.4"
  }
 },
 "nbformat": 4,
 "nbformat_minor": 2
}
