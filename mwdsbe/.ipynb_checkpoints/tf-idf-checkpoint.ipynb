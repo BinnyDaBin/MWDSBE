{
 "cells": [
  {
   "cell_type": "markdown",
   "metadata": {},
   "source": [
    "# TF-IDF\n",
    "Joining registry and license data using TF-IDF string matching algorithm"
   ]
  },
  {
   "cell_type": "code",
   "execution_count": 7,
   "metadata": {},
   "outputs": [],
   "source": [
    "import mwdsbe\n",
    "import mwdsbe.datasets.licenses as licenses\n",
    "import schuylkill as skool\n",
    "import time"
   ]
  },
  {
   "cell_type": "code",
   "execution_count": 2,
   "metadata": {},
   "outputs": [],
   "source": [
    "registry = mwdsbe.load_registry() # geopandas df\n",
    "license = licenses.CommercialActivityLicenses().download()"
   ]
  },
  {
   "cell_type": "code",
   "execution_count": 34,
   "metadata": {},
   "outputs": [],
   "source": [
    "# clean data\n",
    "ignore_words = ['inc', 'group', 'llc', 'corp', 'pc', 'incorporated', 'ltd', 'co', 'associates', 'services', 'company', 'enterprises', 'enterprise', 'service']\n",
    "cleaned_registry = skool.clean_strings(registry, ['company_name', 'dba_name'], True, ignore_words)\n",
    "cleaned_license = skool.clean_strings(license, ['company_name'], True, ignore_words)"
   ]
  },
  {
   "cell_type": "code",
   "execution_count": 35,
   "metadata": {
    "scrolled": false
   },
   "outputs": [
    {
     "name": "stdout",
     "output_type": "stream",
     "text": [
      "Total number of cleaned registry: 3119\n"
     ]
    }
   ],
   "source": [
    "print('Total number of cleaned registry:', len(cleaned_registry))"
   ]
  },
  {
   "cell_type": "code",
   "execution_count": 36,
   "metadata": {},
   "outputs": [
    {
     "name": "stdout",
     "output_type": "stream",
     "text": [
      "Total number of cleaned license: 203578\n"
     ]
    }
   ],
   "source": [
    "print('Total number of cleaned license:', len(cleaned_license))"
   ]
  },
  {
   "cell_type": "markdown",
   "metadata": {},
   "source": [
    "## 1. Score-cutoff 90"
   ]
  },
  {
   "cell_type": "code",
   "execution_count": 64,
   "metadata": {},
   "outputs": [],
   "source": [
    "t1 = time.time()\n",
    "merged = (\n",
    "    skool.tf_idf_merge(cleaned_registry, cleaned_license, on=\"company_name\", score_cutoff=90)\n",
    "    .pipe(skool.tf_idf_merge, cleaned_registry, cleaned_license, left_on=\"dba_name\", right_on=\"company_name\", score_cutoff=90)\n",
    ")\n",
    "t = time.time() - t1"
   ]
  },
  {
   "cell_type": "code",
   "execution_count": 65,
   "metadata": {},
   "outputs": [
    {
     "name": "stdout",
     "output_type": "stream",
     "text": [
      "Execution time: 186.1156096458435 sec\n"
     ]
    }
   ],
   "source": [
    "print('Execution time:', t, 'sec')"
   ]
  },
  {
   "cell_type": "code",
   "execution_count": 66,
   "metadata": {},
   "outputs": [],
   "source": [
    "matched = merged.dropna(subset=['company_name_y'])"
   ]
  },
  {
   "cell_type": "code",
   "execution_count": 67,
   "metadata": {},
   "outputs": [
    {
     "name": "stdout",
     "output_type": "stream",
     "text": [
      "Match: 1376 out of 3119\n"
     ]
    }
   ],
   "source": [
    "print('Match:', len(matched), 'out of', len(cleaned_registry))"
   ]
  },
  {
   "cell_type": "code",
   "execution_count": 68,
   "metadata": {},
   "outputs": [
    {
     "name": "stdout",
     "output_type": "stream",
     "text": [
      "Non-exact match above 90: 88 out of 1376\n"
     ]
    }
   ],
   "source": [
    "non_exact_match = matched[matched.match_probability < 0.999999]\n",
    "non_exact_match = non_exact_match[['company_name_x', 'match_probability', 'company_name_y']]\n",
    "print('Non-exact match above 90:', len(non_exact_match), 'out of', len(matched))"
   ]
  },
  {
   "cell_type": "markdown",
   "metadata": {},
   "source": [
    "### TODO: Check with Nick if this seems promising or not"
   ]
  },
  {
   "cell_type": "code",
   "execution_count": 69,
   "metadata": {},
   "outputs": [],
   "source": [
    "# non_exact_match.to_excel (r'C:\\Users\\dabinlee\\Desktop\\mwdsbe\\data\\tf-idf\\tf-idf-90.xlsx', index = None, header=True)"
   ]
  },
  {
   "cell_type": "markdown",
   "metadata": {},
   "source": [
    "## 2. Score-cutoff 85"
   ]
  },
  {
   "cell_type": "code",
   "execution_count": 70,
   "metadata": {},
   "outputs": [],
   "source": [
    "t1 = time.time()\n",
    "merged = (\n",
    "    skool.tf_idf_merge(cleaned_registry, cleaned_license, on=\"company_name\", score_cutoff=85)\n",
    "    .pipe(skool.tf_idf_merge, cleaned_registry, cleaned_license, left_on=\"dba_name\", right_on=\"company_name\", score_cutoff=85)\n",
    ")\n",
    "t = time.time() - t1"
   ]
  },
  {
   "cell_type": "code",
   "execution_count": 71,
   "metadata": {},
   "outputs": [
    {
     "name": "stdout",
     "output_type": "stream",
     "text": [
      "Execution time: 190.3540334701538 sec\n"
     ]
    }
   ],
   "source": [
    "print('Execution time:', t, 'sec')"
   ]
  },
  {
   "cell_type": "code",
   "execution_count": 72,
   "metadata": {},
   "outputs": [],
   "source": [
    "matched = merged.dropna(subset=['company_name_y'])"
   ]
  },
  {
   "cell_type": "code",
   "execution_count": 73,
   "metadata": {},
   "outputs": [
    {
     "name": "stdout",
     "output_type": "stream",
     "text": [
      "Match: 1485 out of 3119\n"
     ]
    }
   ],
   "source": [
    "print('Match:', len(matched), 'out of', len(cleaned_registry))"
   ]
  },
  {
   "cell_type": "code",
   "execution_count": 76,
   "metadata": {},
   "outputs": [
    {
     "name": "stdout",
     "output_type": "stream",
     "text": [
      "Match between 85 and 90: 111 out of 1485\n"
     ]
    }
   ],
   "source": [
    "match_to_check = matched[matched.match_probability < 0.9]\n",
    "match_to_check = match_to_check[['company_name_x', 'match_probability', 'company_name_y']]\n",
    "print('Match between 85 and 90:', len(match_to_check), 'out of', len(matched))"
   ]
  },
  {
   "cell_type": "code",
   "execution_count": 77,
   "metadata": {},
   "outputs": [],
   "source": [
    "# match_to_check.to_excel (r'C:\\Users\\dabinlee\\Desktop\\mwdsbe\\data\\tf-idf\\tf-idf-85.xlsx', index = None, header=True)"
   ]
  },
  {
   "cell_type": "markdown",
   "metadata": {},
   "source": [
    "## 3. Score-cutoff 80"
   ]
  },
  {
   "cell_type": "code",
   "execution_count": 78,
   "metadata": {},
   "outputs": [],
   "source": [
    "t1 = time.time()\n",
    "merged = (\n",
    "    skool.tf_idf_merge(cleaned_registry, cleaned_license, on=\"company_name\", score_cutoff=80)\n",
    "    .pipe(skool.tf_idf_merge, cleaned_registry, cleaned_license, left_on=\"dba_name\", right_on=\"company_name\", score_cutoff=80)\n",
    ")\n",
    "t = time.time() - t1"
   ]
  },
  {
   "cell_type": "code",
   "execution_count": 79,
   "metadata": {},
   "outputs": [
    {
     "name": "stdout",
     "output_type": "stream",
     "text": [
      "Execution time: 192.23722171783447 sec\n"
     ]
    }
   ],
   "source": [
    "print('Execution time:', t, 'sec')"
   ]
  },
  {
   "cell_type": "code",
   "execution_count": 80,
   "metadata": {},
   "outputs": [],
   "source": [
    "matched = merged.dropna(subset=['company_name_y'])"
   ]
  },
  {
   "cell_type": "code",
   "execution_count": 81,
   "metadata": {},
   "outputs": [
    {
     "name": "stdout",
     "output_type": "stream",
     "text": [
      "Match: 1650 out of 3119\n"
     ]
    }
   ],
   "source": [
    "print('Match:', len(matched), 'out of', len(cleaned_registry))"
   ]
  },
  {
   "cell_type": "code",
   "execution_count": 82,
   "metadata": {},
   "outputs": [
    {
     "name": "stdout",
     "output_type": "stream",
     "text": [
      "Match between 80 and 85: 170 out of 1650\n"
     ]
    }
   ],
   "source": [
    "match_to_check = matched[matched.match_probability < 0.85]\n",
    "match_to_check = match_to_check[['company_name_x', 'match_probability', 'company_name_y']]\n",
    "print('Match between 80 and 85:', len(match_to_check), 'out of', len(matched))"
   ]
  },
  {
   "cell_type": "code",
   "execution_count": 83,
   "metadata": {},
   "outputs": [],
   "source": [
    "# match_to_check.to_excel (r'C:\\Users\\dabinlee\\Desktop\\mwdsbe\\data\\tf-idf\\tf-idf-80.xlsx', index = None, header=True)"
   ]
  },
  {
   "cell_type": "markdown",
   "metadata": {},
   "source": [
    "## 4. Score-cutoff 75"
   ]
  },
  {
   "cell_type": "code",
   "execution_count": 84,
   "metadata": {},
   "outputs": [],
   "source": [
    "t1 = time.time()\n",
    "merged = (\n",
    "    skool.tf_idf_merge(cleaned_registry, cleaned_license, on=\"company_name\", score_cutoff=75)\n",
    "    .pipe(skool.tf_idf_merge, cleaned_registry, cleaned_license, left_on=\"dba_name\", right_on=\"company_name\", score_cutoff=75)\n",
    ")\n",
    "t = time.time() - t1"
   ]
  },
  {
   "cell_type": "code",
   "execution_count": 85,
   "metadata": {},
   "outputs": [
    {
     "name": "stdout",
     "output_type": "stream",
     "text": [
      "Execution time: 191.79217743873596 sec\n"
     ]
    }
   ],
   "source": [
    "print('Execution time:', t, 'sec')"
   ]
  },
  {
   "cell_type": "code",
   "execution_count": 86,
   "metadata": {},
   "outputs": [],
   "source": [
    "matched = merged.dropna(subset=['company_name_y'])"
   ]
  },
  {
   "cell_type": "code",
   "execution_count": 87,
   "metadata": {},
   "outputs": [
    {
     "name": "stdout",
     "output_type": "stream",
     "text": [
      "Match: 1859 out of 3119\n"
     ]
    }
   ],
   "source": [
    "print('Match:', len(matched), 'out of', len(cleaned_registry))"
   ]
  },
  {
   "cell_type": "code",
   "execution_count": 88,
   "metadata": {},
   "outputs": [
    {
     "name": "stdout",
     "output_type": "stream",
     "text": [
      "Match between 75 and 80: 215 out of 1859\n"
     ]
    }
   ],
   "source": [
    "match_to_check = matched[matched.match_probability < 0.8]\n",
    "match_to_check = match_to_check[['company_name_x', 'match_probability', 'company_name_y']]\n",
    "print('Match between 75 and 80:', len(match_to_check), 'out of', len(matched))"
   ]
  },
  {
   "cell_type": "code",
   "execution_count": 89,
   "metadata": {},
   "outputs": [],
   "source": [
    "# match_to_check.to_excel (r'C:\\Users\\dabinlee\\Desktop\\mwdsbe\\data\\tf-idf\\tf-idf-75.xlsx', index = None, header=True)"
   ]
  },
  {
   "cell_type": "code",
   "execution_count": null,
   "metadata": {},
   "outputs": [],
   "source": []
  }
 ],
 "metadata": {
  "kernelspec": {
   "display_name": "Python 3",
   "language": "python",
   "name": "python3"
  },
  "language_info": {
   "codemirror_mode": {
    "name": "ipython",
    "version": 3
   },
   "file_extension": ".py",
   "mimetype": "text/x-python",
   "name": "python",
   "nbconvert_exporter": "python",
   "pygments_lexer": "ipython3",
   "version": "3.7.4"
  }
 },
 "nbformat": 4,
 "nbformat_minor": 2
}
