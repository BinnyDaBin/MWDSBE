{
 "cells": [
  {
   "cell_type": "code",
   "execution_count": 1,
   "metadata": {},
   "outputs": [],
   "source": [
    "import pandas as pd\n",
    "import mwdsbe\n",
    "import mwdsbe.datasets.licenses as licenses\n",
    "import schuylkill as skool\n",
    "import time"
   ]
  },
  {
   "cell_type": "code",
   "execution_count": 31,
   "metadata": {},
   "outputs": [],
   "source": [
    "def drop_duplicates_by_date(df, date_column):\n",
    "    df.sort_values(by=date_column, ascending=False, inplace=True)\n",
    "    df = df.loc[~df.index.duplicated(keep=\"first\")]\n",
    "    df.sort_index(inplace=True)\n",
    "    return df"
   ]
  },
  {
   "cell_type": "code",
   "execution_count": 2,
   "metadata": {},
   "outputs": [],
   "source": [
    "registry = mwdsbe.load_registry() # geopandas df\n",
    "license = licenses.CommercialActivityLicenses().get()"
   ]
  },
  {
   "cell_type": "code",
   "execution_count": 3,
   "metadata": {},
   "outputs": [],
   "source": [
    "state_license = pd.read_csv('./data/PAStateBusinessLicense/Sales_Tax_Licenses_and_Certificates_Current_Monthly_County_Revenue.csv')"
   ]
  },
  {
   "cell_type": "code",
   "execution_count": 4,
   "metadata": {},
   "outputs": [],
   "source": [
    "# convert state_license column names from titlecase to snakecase\n",
    "def to_snake_case(aList):\n",
    "    res = []\n",
    "    for item in aList:\n",
    "        words = item.strip().lower().split(' ')\n",
    "        item = '_'.join(words)\n",
    "        res.append(item)\n",
    "    return res"
   ]
  },
  {
   "cell_type": "code",
   "execution_count": 5,
   "metadata": {},
   "outputs": [],
   "source": [
    "state_license.columns = to_snake_case(state_license.columns.tolist())"
   ]
  },
  {
   "cell_type": "code",
   "execution_count": 6,
   "metadata": {},
   "outputs": [],
   "source": [
    "# clean data\n",
    "ignore_words = ['inc', 'group', 'llc', 'corp', 'pc', 'incorporated', 'ltd', 'co', 'associates', 'services', 'company', 'enterprises', 'enterprise', 'service', 'corporation']\n",
    "cleaned_registry = skool.clean_strings(registry, ['company_name', 'dba_name'], True, ignore_words)\n",
    "cleaned_license = skool.clean_strings(license, ['company_name'], True, ignore_words)\n",
    "cleaned_state_license = skool.clean_strings(state_license, ['legal_name', 'trade_name'], True, ignore_words)\n",
    "\n",
    "cleaned_registry = cleaned_registry.dropna(subset=['company_name'])\n",
    "cleaned_license = cleaned_license.dropna(subset=['company_name'])"
   ]
  },
  {
   "cell_type": "code",
   "execution_count": 8,
   "metadata": {},
   "outputs": [],
   "source": [
    "pa_registry = cleaned_registry[cleaned_registry.location_state == 'PA']"
   ]
  },
  {
   "cell_type": "code",
   "execution_count": 13,
   "metadata": {},
   "outputs": [
    {
     "data": {
      "text/plain": [
       "1769"
      ]
     },
     "execution_count": 13,
     "metadata": {},
     "output_type": "execute_result"
    }
   ],
   "source": [
    "len(pa_registry)"
   ]
  },
  {
   "cell_type": "code",
   "execution_count": 9,
   "metadata": {
    "scrolled": true
   },
   "outputs": [
    {
     "data": {
      "text/html": [
       "<div>\n",
       "<style scoped>\n",
       "    .dataframe tbody tr th:only-of-type {\n",
       "        vertical-align: middle;\n",
       "    }\n",
       "\n",
       "    .dataframe tbody tr th {\n",
       "        vertical-align: top;\n",
       "    }\n",
       "\n",
       "    .dataframe thead th {\n",
       "        text-align: right;\n",
       "    }\n",
       "</style>\n",
       "<table border=\"1\" class=\"dataframe\">\n",
       "  <thead>\n",
       "    <tr style=\"text-align: right;\">\n",
       "      <th></th>\n",
       "      <th>county</th>\n",
       "      <th>legal_name</th>\n",
       "      <th>trade_name</th>\n",
       "      <th>postal_code</th>\n",
       "      <th>country</th>\n",
       "      <th>account_number</th>\n",
       "      <th>license_type</th>\n",
       "      <th>expiration_date</th>\n",
       "      <th>address_with_lat/long</th>\n",
       "    </tr>\n",
       "  </thead>\n",
       "  <tbody>\n",
       "    <tr>\n",
       "      <th>0</th>\n",
       "      <td>ADAMS</td>\n",
       "      <td>nugen energy</td>\n",
       "      <td>nugen energy</td>\n",
       "      <td>17331</td>\n",
       "      <td>US</td>\n",
       "      <td>67**9551</td>\n",
       "      <td>Retail</td>\n",
       "      <td>09/30/2021</td>\n",
       "      <td>1601 CARLISLE PIKE\\nHANOVER, PA 17331\\n(39.834...</td>\n",
       "    </tr>\n",
       "    <tr>\n",
       "      <th>1</th>\n",
       "      <td>ALLEGHENY</td>\n",
       "      <td>cellux</td>\n",
       "      <td>mobilexpress west mifflin</td>\n",
       "      <td>15123</td>\n",
       "      <td>US</td>\n",
       "      <td>85**6245</td>\n",
       "      <td>Retail</td>\n",
       "      <td>01/31/2021</td>\n",
       "      <td>3075 CLAIRON RD CENTURY III MA\\nWEST MIFFLIN, ...</td>\n",
       "    </tr>\n",
       "    <tr>\n",
       "      <th>2</th>\n",
       "      <td>ALLEGHENY</td>\n",
       "      <td>dina persichetti hill</td>\n",
       "      <td>nails at last</td>\n",
       "      <td>15101</td>\n",
       "      <td>US</td>\n",
       "      <td>81**6740</td>\n",
       "      <td>Retail</td>\n",
       "      <td>02/29/2024</td>\n",
       "      <td>4085 WM FLYNN HWY STE 10A\\nALLISON PARK, PA 15101</td>\n",
       "    </tr>\n",
       "    <tr>\n",
       "      <th>3</th>\n",
       "      <td>ADAMS</td>\n",
       "      <td>elwood mummert</td>\n",
       "      <td>mummert elwood k</td>\n",
       "      <td>17331-7700</td>\n",
       "      <td>US</td>\n",
       "      <td>81**7441</td>\n",
       "      <td>Retail</td>\n",
       "      <td>01/31/2021</td>\n",
       "      <td>700 PINE GROVE RD\\nHANOVER, PA 17331-7700\\n(39...</td>\n",
       "    </tr>\n",
       "    <tr>\n",
       "      <th>4</th>\n",
       "      <td>ALLEGHENY</td>\n",
       "      <td>cosmograce</td>\n",
       "      <td>brillobox</td>\n",
       "      <td>15224</td>\n",
       "      <td>US</td>\n",
       "      <td>67**9185</td>\n",
       "      <td>Retail</td>\n",
       "      <td>09/30/2021</td>\n",
       "      <td>4104 PENN AVE\\nPITTSBURGH, PA 15224\\n(40.46574...</td>\n",
       "    </tr>\n",
       "  </tbody>\n",
       "</table>\n",
       "</div>"
      ],
      "text/plain": [
       "      county             legal_name                 trade_name postal_code  \\\n",
       "0      ADAMS           nugen energy               nugen energy       17331   \n",
       "1  ALLEGHENY                 cellux  mobilexpress west mifflin       15123   \n",
       "2  ALLEGHENY  dina persichetti hill              nails at last       15101   \n",
       "3      ADAMS         elwood mummert           mummert elwood k  17331-7700   \n",
       "4  ALLEGHENY             cosmograce                  brillobox       15224   \n",
       "\n",
       "  country account_number license_type expiration_date  \\\n",
       "0      US       67**9551       Retail      09/30/2021   \n",
       "1      US       85**6245       Retail      01/31/2021   \n",
       "2      US       81**6740       Retail      02/29/2024   \n",
       "3      US       81**7441       Retail      01/31/2021   \n",
       "4      US       67**9185       Retail      09/30/2021   \n",
       "\n",
       "                               address_with_lat/long  \n",
       "0  1601 CARLISLE PIKE\\nHANOVER, PA 17331\\n(39.834...  \n",
       "1  3075 CLAIRON RD CENTURY III MA\\nWEST MIFFLIN, ...  \n",
       "2  4085 WM FLYNN HWY STE 10A\\nALLISON PARK, PA 15101  \n",
       "3  700 PINE GROVE RD\\nHANOVER, PA 17331-7700\\n(39...  \n",
       "4  4104 PENN AVE\\nPITTSBURGH, PA 15224\\n(40.46574...  "
      ]
     },
     "execution_count": 9,
     "metadata": {},
     "output_type": "execute_result"
    }
   ],
   "source": [
    "cleaned_state_license.head()"
   ]
  },
  {
   "cell_type": "markdown",
   "metadata": {},
   "source": [
    "## Merge PA_Registry and State License with Fuzz95 and TF-IDF85"
   ]
  },
  {
   "cell_type": "code",
   "execution_count": 10,
   "metadata": {},
   "outputs": [],
   "source": [
    "t1 = time.time()\n",
    "merged = (\n",
    "    skool.fuzzy_merge(pa_registry, cleaned_state_license, left_on=\"company_name\", right_on=\"legal_name\", score_cutoff=95)\n",
    "    .pipe(skool.fuzzy_merge, pa_registry, cleaned_state_license, left_on=\"company_name\", right_on=\"trade_name\", score_cutoff=95)\n",
    "    .pipe(skool.fuzzy_merge, pa_registry, cleaned_state_license, left_on=\"dba_name\", right_on=\"legal_name\", score_cutoff=95)\n",
    "    .pipe(skool.fuzzy_merge, pa_registry, cleaned_state_license, left_on=\"dba_name\", right_on=\"trade_name\", score_cutoff=95)\n",
    "    .pipe(skool.tf_idf_merge, pa_registry, cleaned_state_license, left_on=\"company_name\", right_on=\"legal_name\", score_cutoff=85)\n",
    "    .pipe(skool.tf_idf_merge, pa_registry, cleaned_state_license, left_on=\"company_name\", right_on=\"trade_name\", score_cutoff=85)\n",
    "    .pipe(skool.tf_idf_merge, pa_registry, cleaned_state_license, left_on=\"dba_name\", right_on=\"legal_name\", score_cutoff=85)\n",
    "    .pipe(skool.tf_idf_merge, pa_registry, cleaned_state_license, left_on=\"dba_name\", right_on=\"trade_name\", score_cutoff=85)\n",
    ")\n",
    "t = time.time() - t1"
   ]
  },
  {
   "cell_type": "code",
   "execution_count": 22,
   "metadata": {},
   "outputs": [],
   "source": [
    "# merged.to_excel (r'C:\\Users\\dabinlee\\Desktop\\mwdsbe\\data\\state_license\\pa-registry-full-state-license\\fuzz95-tfidf85.xlsx', header=True)"
   ]
  },
  {
   "cell_type": "code",
   "execution_count": 11,
   "metadata": {},
   "outputs": [
    {
     "name": "stdout",
     "output_type": "stream",
     "text": [
      "Execution time: 51.068942018349965 min\n"
     ]
    }
   ],
   "source": [
    "print('Execution time:', t/60, 'min')"
   ]
  },
  {
   "cell_type": "code",
   "execution_count": 12,
   "metadata": {},
   "outputs": [
    {
     "data": {
      "text/plain": [
       "1769"
      ]
     },
     "execution_count": 12,
     "metadata": {},
     "output_type": "execute_result"
    }
   ],
   "source": [
    "len(merged)"
   ]
  },
  {
   "cell_type": "code",
   "execution_count": 46,
   "metadata": {},
   "outputs": [],
   "source": [
    "matched = merged.dropna(subset=['legal_name', 'dba_name'], how='all')"
   ]
  },
  {
   "cell_type": "code",
   "execution_count": 47,
   "metadata": {},
   "outputs": [
    {
     "data": {
      "text/plain": [
       "583"
      ]
     },
     "execution_count": 47,
     "metadata": {},
     "output_type": "execute_result"
    }
   ],
   "source": [
    "len(matched)"
   ]
  },
  {
   "cell_type": "code",
   "execution_count": 43,
   "metadata": {},
   "outputs": [],
   "source": [
    "# test = matched[['company_name', 'legal_name', 'dba_name', 'zip_code', 'postal_code_clean', 'match_probability']]"
   ]
  },
  {
   "cell_type": "code",
   "execution_count": 48,
   "metadata": {},
   "outputs": [
    {
     "name": "stderr",
     "output_type": "stream",
     "text": [
      "C:\\Users\\dabinlee\\AppData\\Local\\Continuum\\anaconda3\\lib\\site-packages\\ipykernel_launcher.py:1: SettingWithCopyWarning: \n",
      "A value is trying to be set on a copy of a slice from a DataFrame.\n",
      "Try using .loc[row_indexer,col_indexer] = value instead\n",
      "\n",
      "See the caveats in the documentation: http://pandas.pydata.org/pandas-docs/stable/user_guide/indexing.html#returning-a-view-versus-a-copy\n",
      "  \"\"\"Entry point for launching an IPython kernel.\n"
     ]
    }
   ],
   "source": [
    "matched['expiration_date'] = pd.to_datetime(matched['expiration_date'], errors='coerce')"
   ]
  },
  {
   "cell_type": "code",
   "execution_count": 49,
   "metadata": {},
   "outputs": [
    {
     "name": "stderr",
     "output_type": "stream",
     "text": [
      "C:\\Users\\dabinlee\\AppData\\Local\\Continuum\\anaconda3\\lib\\site-packages\\ipykernel_launcher.py:2: SettingWithCopyWarning: \n",
      "A value is trying to be set on a copy of a slice from a DataFrame\n",
      "\n",
      "See the caveats in the documentation: http://pandas.pydata.org/pandas-docs/stable/user_guide/indexing.html#returning-a-view-versus-a-copy\n",
      "  \n"
     ]
    }
   ],
   "source": [
    "matched = drop_duplicates_by_date(matched, 'expiration_date')"
   ]
  },
  {
   "cell_type": "code",
   "execution_count": 50,
   "metadata": {},
   "outputs": [
    {
     "data": {
      "text/plain": [
       "583"
      ]
     },
     "execution_count": 50,
     "metadata": {},
     "output_type": "execute_result"
    }
   ],
   "source": [
    "len(matched)"
   ]
  },
  {
   "cell_type": "markdown",
   "metadata": {},
   "source": [
    "##### Load OL data"
   ]
  },
  {
   "cell_type": "code",
   "execution_count": 36,
   "metadata": {},
   "outputs": [],
   "source": [
    "matched_OL = pd.read_excel(r'C:\\Users\\dabinlee\\Desktop\\mwdsbe\\data\\license-opendataphilly\\tf-idf\\tf-idf-85.xlsx')\n",
    "matched_OL = matched_OL.set_index('left_index')"
   ]
  },
  {
   "cell_type": "code",
   "execution_count": 37,
   "metadata": {},
   "outputs": [
    {
     "data": {
      "text/plain": [
       "1642"
      ]
     },
     "execution_count": 37,
     "metadata": {},
     "output_type": "execute_result"
    }
   ],
   "source": [
    "len(matched_OL)"
   ]
  },
  {
   "cell_type": "code",
   "execution_count": 38,
   "metadata": {},
   "outputs": [
    {
     "name": "stderr",
     "output_type": "stream",
     "text": [
      "C:\\Users\\dabinlee\\AppData\\Local\\Continuum\\anaconda3\\lib\\site-packages\\ipykernel_launcher.py:4: SettingWithCopyWarning: \n",
      "A value is trying to be set on a copy of a slice from a DataFrame\n",
      "\n",
      "See the caveats in the documentation: http://pandas.pydata.org/pandas-docs/stable/user_guide/indexing.html#returning-a-view-versus-a-copy\n",
      "  after removing the cwd from sys.path.\n"
     ]
    }
   ],
   "source": [
    "matched_OL = drop_duplicates_by_date(matched_OL, \"issue_date\") # without duplicates"
   ]
  },
  {
   "cell_type": "code",
   "execution_count": 39,
   "metadata": {},
   "outputs": [
    {
     "data": {
      "text/plain": [
       "1502"
      ]
     },
     "execution_count": 39,
     "metadata": {},
     "output_type": "execute_result"
    }
   ],
   "source": [
    "len(matched_OL)"
   ]
  },
  {
   "cell_type": "code",
   "execution_count": 40,
   "metadata": {},
   "outputs": [],
   "source": [
    "difference = matched_zip.index.difference(matched_OL.index).tolist()"
   ]
  },
  {
   "cell_type": "code",
   "execution_count": 41,
   "metadata": {},
   "outputs": [
    {
     "data": {
      "text/plain": [
       "98"
      ]
     },
     "execution_count": 41,
     "metadata": {},
     "output_type": "execute_result"
    }
   ],
   "source": [
    "len(difference)"
   ]
  },
  {
   "cell_type": "code",
   "execution_count": null,
   "metadata": {},
   "outputs": [],
   "source": []
  }
 ],
 "metadata": {
  "kernelspec": {
   "display_name": "Python 3",
   "language": "python",
   "name": "python3"
  },
  "language_info": {
   "codemirror_mode": {
    "name": "ipython",
    "version": 3
   },
   "file_extension": ".py",
   "mimetype": "text/x-python",
   "name": "python",
   "nbconvert_exporter": "python",
   "pygments_lexer": "ipython3",
   "version": "3.7.4"
  }
 },
 "nbformat": 4,
 "nbformat_minor": 2
}
