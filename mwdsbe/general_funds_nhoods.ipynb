{
 "cells": [
  {
   "cell_type": "markdown",
   "metadata": {},
   "source": [
    "# Top Neighborhoods for Registry + General Funds Matching"
   ]
  },
  {
   "cell_type": "code",
   "execution_count": 2,
   "metadata": {},
   "outputs": [],
   "source": [
    "import pandas as pd\n",
    "import mwdsbe\n",
    "import schuylkill as skool\n",
    "import time\n",
    "import geopandas as gpd"
   ]
  },
  {
   "cell_type": "markdown",
   "metadata": {},
   "source": [
    "## Data\n",
    "* registry\n",
    "* general funds\n",
    "* matches: matching between registry and general funds\n",
    "* full_matches: full funds per vendor"
   ]
  },
  {
   "cell_type": "code",
   "execution_count": 5,
   "metadata": {},
   "outputs": [],
   "source": [
    "registry = mwdsbe.load_registry() # geopandas df\n",
    "# gf = pd.read_excel(r'C:\\Users\\dabinlee\\Documents\\GitHub\\mwdsbe_binny\\MWDSBE\\mwdsbe\\data\\cwedp_37_report.xlsx', sheet_name='general_funds')\n",
    "gf = pd.read_excel('/Users/dabinlee/Documents/github/MWDSBE/mwdsbe/data/cwedp_37_report.xlsx', sheet_name='general_funds')"
   ]
  },
  {
   "cell_type": "code",
   "execution_count": 6,
   "metadata": {},
   "outputs": [],
   "source": [
    "# filter general funds data\n",
    "gf = gf.loc[gf['MAJ_CLASS'] != 1]\n",
    "gf = gf.loc[gf['VEND_NAME'].dropna().index]"
   ]
  },
  {
   "cell_type": "code",
   "execution_count": 7,
   "metadata": {},
   "outputs": [],
   "source": [
    "# clean data\n",
    "ignore_words = ['inc', 'group', 'llc', 'corp', 'pc', 'incorporated', 'ltd', 'co', 'associates', 'services', 'company', 'enterprises', 'enterprise', 'service', 'corporation']\n",
    "cleaned_registry = skool.clean_strings(registry, ['company_name', 'dba_name'], True, ignore_words)\n",
    "cleaned_gf = skool.clean_strings(gf, ['VEND_NAME'], True, ignore_words)\n",
    "\n",
    "cleaned_registry = cleaned_registry.dropna(subset=['company_name'])\n",
    "cleaned_gf = cleaned_gf.dropna(subset=['VEND_NAME'])"
   ]
  },
  {
   "cell_type": "code",
   "execution_count": 8,
   "metadata": {},
   "outputs": [],
   "source": [
    "# matches = pd.read_excel(r'C:\\Users\\dabinlee\\Documents\\GitHub\\mwdsbe_binny\\MWDSBE\\analysis\\data\\general_funds\\fuzz95_tfidf913.xlsx')\n",
    "matches = pd.read_excel('/Users/dabinlee/Documents/github/MWDSBE/analysis/data/general_funds/fuzz95_tfidf913.xlsx')"
   ]
  },
  {
   "cell_type": "code",
   "execution_count": 9,
   "metadata": {},
   "outputs": [],
   "source": [
    "matches.rename(columns={'Unnamed: 0': 'left_index'}, inplace=True)\n",
    "matches.set_index('left_index', inplace=True)"
   ]
  },
  {
   "cell_type": "code",
   "execution_count": 10,
   "metadata": {},
   "outputs": [
    {
     "data": {
      "text/plain": [
       "127"
      ]
     },
     "execution_count": 10,
     "metadata": {},
     "output_type": "execute_result"
    }
   ],
   "source": [
    "len(matches)"
   ]
  },
  {
   "cell_type": "code",
   "execution_count": 12,
   "metadata": {},
   "outputs": [],
   "source": [
    "unique_vendors = matches['VEND_NAME'].tolist()"
   ]
  },
  {
   "cell_type": "code",
   "execution_count": 13,
   "metadata": {},
   "outputs": [],
   "source": [
    "full_matches = cleaned_gf.loc[cleaned_gf['VEND_NAME'].apply(lambda x : x in unique_vendors)]"
   ]
  },
  {
   "cell_type": "code",
   "execution_count": 14,
   "metadata": {},
   "outputs": [
    {
     "data": {
      "text/html": [
       "<div>\n",
       "<style scoped>\n",
       "    .dataframe tbody tr th:only-of-type {\n",
       "        vertical-align: middle;\n",
       "    }\n",
       "\n",
       "    .dataframe tbody tr th {\n",
       "        vertical-align: top;\n",
       "    }\n",
       "\n",
       "    .dataframe thead th {\n",
       "        text-align: right;\n",
       "    }\n",
       "</style>\n",
       "<table border=\"1\" class=\"dataframe\">\n",
       "  <thead>\n",
       "    <tr style=\"text-align: right;\">\n",
       "      <th></th>\n",
       "      <th>DR_ACCT</th>\n",
       "      <th>CR_ACCT</th>\n",
       "      <th>CURR_PRIOR_FLAG</th>\n",
       "      <th>POSTED_DATE</th>\n",
       "      <th>DEPT</th>\n",
       "      <th>SEC_FD</th>\n",
       "      <th>INDEX</th>\n",
       "      <th>PROGRAM_CD</th>\n",
       "      <th>MAJ_CLASS</th>\n",
       "      <th>CLASS</th>\n",
       "      <th>DOC_NUM</th>\n",
       "      <th>TRANS_DESC</th>\n",
       "      <th>DOC_REF_NUM</th>\n",
       "      <th>VEND_NAME</th>\n",
       "      <th>VEND_NUM</th>\n",
       "      <th>AMT</th>\n",
       "      <th>DOC_NUM4</th>\n",
       "      <th>DOC_REF4</th>\n",
       "    </tr>\n",
       "  </thead>\n",
       "  <tbody>\n",
       "    <tr>\n",
       "      <td>76494</td>\n",
       "      <td>433</td>\n",
       "      <td>201</td>\n",
       "      <td>PRIOR</td>\n",
       "      <td>2018-07-05</td>\n",
       "      <td>1</td>\n",
       "      <td>10</td>\n",
       "      <td>10058</td>\n",
       "      <td>NaN</td>\n",
       "      <td>2</td>\n",
       "      <td>0258</td>\n",
       "      <td>VCXX1900008101</td>\n",
       "      <td>*JUN34828S*              CRT RPRTING SVS-6/18</td>\n",
       "      <td>POXX1812349101</td>\n",
       "      <td>strehlow</td>\n",
       "      <td>233036541 01</td>\n",
       "      <td>11125.54</td>\n",
       "      <td>VCXX</td>\n",
       "      <td>POXX</td>\n",
       "    </tr>\n",
       "    <tr>\n",
       "      <td>76510</td>\n",
       "      <td>433</td>\n",
       "      <td>201</td>\n",
       "      <td>PRIOR</td>\n",
       "      <td>2018-07-19</td>\n",
       "      <td>1</td>\n",
       "      <td>10</td>\n",
       "      <td>10058</td>\n",
       "      <td>NaN</td>\n",
       "      <td>2</td>\n",
       "      <td>0258</td>\n",
       "      <td>VCXX1900408101</td>\n",
       "      <td>*JUL35226S*              CRT RPRTING SVS-6/18</td>\n",
       "      <td>POXX1812349101</td>\n",
       "      <td>strehlow</td>\n",
       "      <td>233036541 01</td>\n",
       "      <td>3273.93</td>\n",
       "      <td>VCXX</td>\n",
       "      <td>POXX</td>\n",
       "    </tr>\n",
       "    <tr>\n",
       "      <td>76511</td>\n",
       "      <td>433</td>\n",
       "      <td>201</td>\n",
       "      <td>PRIOR</td>\n",
       "      <td>2018-07-19</td>\n",
       "      <td>1</td>\n",
       "      <td>10</td>\n",
       "      <td>10058</td>\n",
       "      <td>NaN</td>\n",
       "      <td>2</td>\n",
       "      <td>0258</td>\n",
       "      <td>VCXX1900383201</td>\n",
       "      <td>*MAY34385S*              CRT RPRTING SVS-4/18&amp;...</td>\n",
       "      <td>POXX1812349101</td>\n",
       "      <td>strehlow</td>\n",
       "      <td>233036541 01</td>\n",
       "      <td>18024.30</td>\n",
       "      <td>VCXX</td>\n",
       "      <td>POXX</td>\n",
       "    </tr>\n",
       "    <tr>\n",
       "      <td>76694</td>\n",
       "      <td>431</td>\n",
       "      <td>201</td>\n",
       "      <td>CURR</td>\n",
       "      <td>2018-08-10</td>\n",
       "      <td>1</td>\n",
       "      <td>10</td>\n",
       "      <td>10058</td>\n",
       "      <td>NaN</td>\n",
       "      <td>2</td>\n",
       "      <td>0258</td>\n",
       "      <td>VCXX1901049401</td>\n",
       "      <td>*JUL35228S*              CRT RRT WAIT TIME-6/18</td>\n",
       "      <td>POXX1910295101</td>\n",
       "      <td>strehlow</td>\n",
       "      <td>233036541 01</td>\n",
       "      <td>70.00</td>\n",
       "      <td>VCXX</td>\n",
       "      <td>POXX</td>\n",
       "    </tr>\n",
       "    <tr>\n",
       "      <td>76695</td>\n",
       "      <td>431</td>\n",
       "      <td>201</td>\n",
       "      <td>CURR</td>\n",
       "      <td>2018-08-13</td>\n",
       "      <td>1</td>\n",
       "      <td>10</td>\n",
       "      <td>10058</td>\n",
       "      <td>NaN</td>\n",
       "      <td>2</td>\n",
       "      <td>0258</td>\n",
       "      <td>VCXX1901062201</td>\n",
       "      <td>*JUL35391S*              CRT RPRTING SVS-7/18</td>\n",
       "      <td>POXX1910293901</td>\n",
       "      <td>strehlow</td>\n",
       "      <td>233036541 01</td>\n",
       "      <td>587.10</td>\n",
       "      <td>VCXX</td>\n",
       "      <td>POXX</td>\n",
       "    </tr>\n",
       "    <tr>\n",
       "      <td>...</td>\n",
       "      <td>...</td>\n",
       "      <td>...</td>\n",
       "      <td>...</td>\n",
       "      <td>...</td>\n",
       "      <td>...</td>\n",
       "      <td>...</td>\n",
       "      <td>...</td>\n",
       "      <td>...</td>\n",
       "      <td>...</td>\n",
       "      <td>...</td>\n",
       "      <td>...</td>\n",
       "      <td>...</td>\n",
       "      <td>...</td>\n",
       "      <td>...</td>\n",
       "      <td>...</td>\n",
       "      <td>...</td>\n",
       "      <td>...</td>\n",
       "      <td>...</td>\n",
       "    </tr>\n",
       "    <tr>\n",
       "      <td>317129</td>\n",
       "      <td>433</td>\n",
       "      <td>201</td>\n",
       "      <td>PRIOR</td>\n",
       "      <td>2018-07-27</td>\n",
       "      <td>23</td>\n",
       "      <td>10</td>\n",
       "      <td>230073</td>\n",
       "      <td>NaN</td>\n",
       "      <td>4</td>\n",
       "      <td>0427</td>\n",
       "      <td>VCXX1900606001</td>\n",
       "      <td>*B08480763*              B08480763/EQUIP/06/18</td>\n",
       "      <td>POXX1812162501</td>\n",
       "      <td>shi international</td>\n",
       "      <td>223009648 01</td>\n",
       "      <td>21700.00</td>\n",
       "      <td>VCXX</td>\n",
       "      <td>POXX</td>\n",
       "    </tr>\n",
       "    <tr>\n",
       "      <td>317142</td>\n",
       "      <td>431</td>\n",
       "      <td>201</td>\n",
       "      <td>CURR</td>\n",
       "      <td>2019-06-27</td>\n",
       "      <td>22</td>\n",
       "      <td>10</td>\n",
       "      <td>226280</td>\n",
       "      <td>NaN</td>\n",
       "      <td>4</td>\n",
       "      <td>0427</td>\n",
       "      <td>VCXX1909362302</td>\n",
       "      <td>#B10002045#              SCANNER</td>\n",
       "      <td>POXX1912118102</td>\n",
       "      <td>shi international</td>\n",
       "      <td>223009648 01</td>\n",
       "      <td>168.80</td>\n",
       "      <td>VCXX</td>\n",
       "      <td>POXX</td>\n",
       "    </tr>\n",
       "    <tr>\n",
       "      <td>317146</td>\n",
       "      <td>431</td>\n",
       "      <td>201</td>\n",
       "      <td>CURR</td>\n",
       "      <td>2019-06-18</td>\n",
       "      <td>22</td>\n",
       "      <td>10</td>\n",
       "      <td>226280</td>\n",
       "      <td>NaN</td>\n",
       "      <td>4</td>\n",
       "      <td>0427</td>\n",
       "      <td>VCXX1909085702</td>\n",
       "      <td>#B10068691#              WEBCAM</td>\n",
       "      <td>POXX1912141802</td>\n",
       "      <td>shi international</td>\n",
       "      <td>223009648 01</td>\n",
       "      <td>166.00</td>\n",
       "      <td>VCXX</td>\n",
       "      <td>POXX</td>\n",
       "    </tr>\n",
       "    <tr>\n",
       "      <td>317156</td>\n",
       "      <td>433</td>\n",
       "      <td>201</td>\n",
       "      <td>PRIOR</td>\n",
       "      <td>2019-01-08</td>\n",
       "      <td>22</td>\n",
       "      <td>10</td>\n",
       "      <td>226280</td>\n",
       "      <td>NaN</td>\n",
       "      <td>4</td>\n",
       "      <td>0427</td>\n",
       "      <td>VCXX1903988102</td>\n",
       "      <td>#B08440820#              ENDRUN</td>\n",
       "      <td>POXX1812335002</td>\n",
       "      <td>shi international</td>\n",
       "      <td>223009648 01</td>\n",
       "      <td>1785.53</td>\n",
       "      <td>VCXX</td>\n",
       "      <td>POXX</td>\n",
       "    </tr>\n",
       "    <tr>\n",
       "      <td>324164</td>\n",
       "      <td>431</td>\n",
       "      <td>201</td>\n",
       "      <td>CURR</td>\n",
       "      <td>2019-04-15</td>\n",
       "      <td>37</td>\n",
       "      <td>10</td>\n",
       "      <td>370072</td>\n",
       "      <td>NaN</td>\n",
       "      <td>7</td>\n",
       "      <td>0705</td>\n",
       "      <td>PVXX1901010901</td>\n",
       "      <td>*09B EXTENSION* FA FEES</td>\n",
       "      <td>NaN</td>\n",
       "      <td>acacia financial</td>\n",
       "      <td>204775407 01</td>\n",
       "      <td>3000.00</td>\n",
       "      <td>PVXX</td>\n",
       "      <td>NaN</td>\n",
       "    </tr>\n",
       "  </tbody>\n",
       "</table>\n",
       "<p>5597 rows × 18 columns</p>\n",
       "</div>"
      ],
      "text/plain": [
       "        DR_ACCT  CR_ACCT CURR_PRIOR_FLAG POSTED_DATE  DEPT  SEC_FD   INDEX  \\\n",
       "76494       433      201           PRIOR  2018-07-05     1      10   10058   \n",
       "76510       433      201           PRIOR  2018-07-19     1      10   10058   \n",
       "76511       433      201           PRIOR  2018-07-19     1      10   10058   \n",
       "76694       431      201            CURR  2018-08-10     1      10   10058   \n",
       "76695       431      201            CURR  2018-08-13     1      10   10058   \n",
       "...         ...      ...             ...         ...   ...     ...     ...   \n",
       "317129      433      201           PRIOR  2018-07-27    23      10  230073   \n",
       "317142      431      201            CURR  2019-06-27    22      10  226280   \n",
       "317146      431      201            CURR  2019-06-18    22      10  226280   \n",
       "317156      433      201           PRIOR  2019-01-08    22      10  226280   \n",
       "324164      431      201            CURR  2019-04-15    37      10  370072   \n",
       "\n",
       "        PROGRAM_CD  MAJ_CLASS CLASS         DOC_NUM  \\\n",
       "76494          NaN          2  0258  VCXX1900008101   \n",
       "76510          NaN          2  0258  VCXX1900408101   \n",
       "76511          NaN          2  0258  VCXX1900383201   \n",
       "76694          NaN          2  0258  VCXX1901049401   \n",
       "76695          NaN          2  0258  VCXX1901062201   \n",
       "...            ...        ...   ...             ...   \n",
       "317129         NaN          4  0427  VCXX1900606001   \n",
       "317142         NaN          4  0427  VCXX1909362302   \n",
       "317146         NaN          4  0427  VCXX1909085702   \n",
       "317156         NaN          4  0427  VCXX1903988102   \n",
       "324164         NaN          7  0705  PVXX1901010901   \n",
       "\n",
       "                                               TRANS_DESC     DOC_REF_NUM  \\\n",
       "76494       *JUN34828S*              CRT RPRTING SVS-6/18  POXX1812349101   \n",
       "76510       *JUL35226S*              CRT RPRTING SVS-6/18  POXX1812349101   \n",
       "76511   *MAY34385S*              CRT RPRTING SVS-4/18&...  POXX1812349101   \n",
       "76694     *JUL35228S*              CRT RRT WAIT TIME-6/18  POXX1910295101   \n",
       "76695       *JUL35391S*              CRT RPRTING SVS-7/18  POXX1910293901   \n",
       "...                                                   ...             ...   \n",
       "317129     *B08480763*              B08480763/EQUIP/06/18  POXX1812162501   \n",
       "317142                   #B10002045#              SCANNER  POXX1912118102   \n",
       "317146                    #B10068691#              WEBCAM  POXX1912141802   \n",
       "317156                    #B08440820#              ENDRUN  POXX1812335002   \n",
       "324164                            *09B EXTENSION* FA FEES             NaN   \n",
       "\n",
       "                VEND_NAME      VEND_NUM       AMT DOC_NUM4 DOC_REF4  \n",
       "76494            strehlow  233036541 01  11125.54     VCXX     POXX  \n",
       "76510            strehlow  233036541 01   3273.93     VCXX     POXX  \n",
       "76511            strehlow  233036541 01  18024.30     VCXX     POXX  \n",
       "76694            strehlow  233036541 01     70.00     VCXX     POXX  \n",
       "76695            strehlow  233036541 01    587.10     VCXX     POXX  \n",
       "...                   ...           ...       ...      ...      ...  \n",
       "317129  shi international  223009648 01  21700.00     VCXX     POXX  \n",
       "317142  shi international  223009648 01    168.80     VCXX     POXX  \n",
       "317146  shi international  223009648 01    166.00     VCXX     POXX  \n",
       "317156  shi international  223009648 01   1785.53     VCXX     POXX  \n",
       "324164   acacia financial  204775407 01   3000.00     PVXX      NaN  \n",
       "\n",
       "[5597 rows x 18 columns]"
      ]
     },
     "execution_count": 14,
     "metadata": {},
     "output_type": "execute_result"
    }
   ],
   "source": [
    "full_matches"
   ]
  },
  {
   "cell_type": "code",
   "execution_count": 15,
   "metadata": {},
   "outputs": [],
   "source": [
    "data = matches.merge(full_matches, how='right', on='VEND_NAME')"
   ]
  },
  {
   "cell_type": "code",
   "execution_count": 16,
   "metadata": {},
   "outputs": [],
   "source": [
    "data.drop(data.columns[40:], axis=1, inplace=True)"
   ]
  },
  {
   "cell_type": "markdown",
   "metadata": {},
   "source": [
    "data has invalid geometry. Drop the existing geometry column and recreate it using lng and lat"
   ]
  },
  {
   "cell_type": "code",
   "execution_count": 18,
   "metadata": {},
   "outputs": [],
   "source": [
    "data_geo = data.dropna(subset=['geometry'])"
   ]
  },
  {
   "cell_type": "code",
   "execution_count": 19,
   "metadata": {},
   "outputs": [
    {
     "data": {
      "text/plain": [
       "2656"
      ]
     },
     "execution_count": 19,
     "metadata": {},
     "output_type": "execute_result"
    }
   ],
   "source": [
    "len(data_geo)"
   ]
  },
  {
   "cell_type": "code",
   "execution_count": 20,
   "metadata": {},
   "outputs": [
    {
     "name": "stderr",
     "output_type": "stream",
     "text": [
      "/Users/dabinlee/opt/anaconda3/lib/python3.7/site-packages/pandas/core/frame.py:4102: SettingWithCopyWarning: \n",
      "A value is trying to be set on a copy of a slice from a DataFrame\n",
      "\n",
      "See the caveats in the documentation: http://pandas.pydata.org/pandas-docs/stable/user_guide/indexing.html#returning-a-view-versus-a-copy\n",
      "  errors=errors,\n"
     ]
    }
   ],
   "source": [
    "# drop existing geometry and create a new one\n",
    "data_geo.drop('geometry', axis=1, inplace=True)"
   ]
  },
  {
   "cell_type": "code",
   "execution_count": 21,
   "metadata": {},
   "outputs": [
    {
     "name": "stderr",
     "output_type": "stream",
     "text": [
      "/Users/dabinlee/opt/anaconda3/lib/python3.7/site-packages/ipykernel_launcher.py:1: SettingWithCopyWarning: \n",
      "A value is trying to be set on a copy of a slice from a DataFrame.\n",
      "Try using .loc[row_indexer,col_indexer] = value instead\n",
      "\n",
      "See the caveats in the documentation: http://pandas.pydata.org/pandas-docs/stable/user_guide/indexing.html#returning-a-view-versus-a-copy\n",
      "  \"\"\"Entry point for launching an IPython kernel.\n"
     ]
    }
   ],
   "source": [
    "data_geo['geometry'] = list(zip(data_geo['lng'], data_geo['lat']))"
   ]
  },
  {
   "cell_type": "code",
   "execution_count": 22,
   "metadata": {},
   "outputs": [
    {
     "name": "stderr",
     "output_type": "stream",
     "text": [
      "/Users/dabinlee/opt/anaconda3/lib/python3.7/site-packages/ipykernel_launcher.py:2: SettingWithCopyWarning: \n",
      "A value is trying to be set on a copy of a slice from a DataFrame.\n",
      "Try using .loc[row_indexer,col_indexer] = value instead\n",
      "\n",
      "See the caveats in the documentation: http://pandas.pydata.org/pandas-docs/stable/user_guide/indexing.html#returning-a-view-versus-a-copy\n",
      "  \n"
     ]
    }
   ],
   "source": [
    "from shapely.geometry import Point\n",
    "data_geo['geometry'] = data_geo['geometry'].apply(Point)"
   ]
  },
  {
   "cell_type": "code",
   "execution_count": 23,
   "metadata": {},
   "outputs": [],
   "source": [
    "data_gdf = gpd.GeoDataFrame(data_geo, geometry='geometry', crs={\"init\": \"epsg:4326\"})"
   ]
  },
  {
   "cell_type": "code",
   "execution_count": 26,
   "metadata": {},
   "outputs": [
    {
     "data": {
      "text/plain": [
       "2656"
      ]
     },
     "execution_count": 26,
     "metadata": {},
     "output_type": "execute_result"
    }
   ],
   "source": [
    "len(data_gdf)"
   ]
  },
  {
   "cell_type": "code",
   "execution_count": 27,
   "metadata": {},
   "outputs": [],
   "source": [
    "zillow = gpd.read_file('data/neighborhood/zillow_neighborhoods.geojson')\n",
    "# zillow = zillow.to_crs(epsg=3857)"
   ]
  },
  {
   "cell_type": "code",
   "execution_count": 28,
   "metadata": {},
   "outputs": [],
   "source": [
    "joined = gpd.sjoin(data_gdf, zillow, op='within', how='left')"
   ]
  },
  {
   "cell_type": "code",
   "execution_count": 52,
   "metadata": {},
   "outputs": [
    {
     "data": {
      "text/plain": [
       "2656"
      ]
     },
     "execution_count": 52,
     "metadata": {},
     "output_type": "execute_result"
    }
   ],
   "source": [
    "len(joined)"
   ]
  },
  {
   "cell_type": "code",
   "execution_count": 50,
   "metadata": {},
   "outputs": [],
   "source": [
    "# joined with unique companies for exact number of vendors by neighborhoods\n",
    "unique_joined = joined.drop_duplicates(subset=['VEND_NAME'])"
   ]
  },
  {
   "cell_type": "code",
   "execution_count": 51,
   "metadata": {},
   "outputs": [
    {
     "data": {
      "text/plain": [
       "52"
      ]
     },
     "execution_count": 51,
     "metadata": {},
     "output_type": "execute_result"
    }
   ],
   "source": [
    "len(unique_joined)"
   ]
  },
  {
   "cell_type": "code",
   "execution_count": 29,
   "metadata": {},
   "outputs": [
    {
     "data": {
      "text/plain": [
       "Index(['company_name', 'dba_name', 'owner_first', 'owner_last', 'location',\n",
       "       'location_city', 'location_state', 'zip_code', 'mailing_address',\n",
       "       'mailing_city', 'mailing_state', 'mailing_zip', 'certification_type',\n",
       "       'capability', 'local', 'out_of_state', 'location_standard', 'lat',\n",
       "       'lng', 'match_probability', 'right_index', 'DR_ACCT_x', 'CR_ACCT_x',\n",
       "       'CURR_PRIOR_FLAG_x', 'POSTED_DATE_x', 'DEPT_x', 'SEC_FD_x', 'INDEX_x',\n",
       "       'PROGRAM_CD_x', 'MAJ_CLASS_x', 'CLASS_x', 'DOC_NUM_x', 'TRANS_DESC_x',\n",
       "       'DOC_REF_NUM_x', 'VEND_NAME', 'VEND_NUM_x', 'AMT_x', 'DOC_NUM4_x',\n",
       "       'DOC_REF4_x', 'geometry', 'index_right', 'ZillowName'],\n",
       "      dtype='object')"
      ]
     },
     "execution_count": 29,
     "metadata": {},
     "output_type": "execute_result"
    }
   ],
   "source": [
    "joined.columns"
   ]
  },
  {
   "cell_type": "code",
   "execution_count": 30,
   "metadata": {},
   "outputs": [
    {
     "data": {
      "text/html": [
       "<div>\n",
       "<style scoped>\n",
       "    .dataframe tbody tr th:only-of-type {\n",
       "        vertical-align: middle;\n",
       "    }\n",
       "\n",
       "    .dataframe tbody tr th {\n",
       "        vertical-align: top;\n",
       "    }\n",
       "\n",
       "    .dataframe thead th {\n",
       "        text-align: right;\n",
       "    }\n",
       "</style>\n",
       "<table border=\"1\" class=\"dataframe\">\n",
       "  <thead>\n",
       "    <tr style=\"text-align: right;\">\n",
       "      <th></th>\n",
       "      <th>ZillowName</th>\n",
       "      <th>total_amt</th>\n",
       "    </tr>\n",
       "  </thead>\n",
       "  <tbody>\n",
       "    <tr>\n",
       "      <td>0</td>\n",
       "      <td>Allegheny West</td>\n",
       "      <td>1214066.88</td>\n",
       "    </tr>\n",
       "    <tr>\n",
       "      <td>1</td>\n",
       "      <td>Callow Hill</td>\n",
       "      <td>15332.85</td>\n",
       "    </tr>\n",
       "    <tr>\n",
       "      <td>2</td>\n",
       "      <td>Chestnut Hill</td>\n",
       "      <td>600.00</td>\n",
       "    </tr>\n",
       "    <tr>\n",
       "      <td>3</td>\n",
       "      <td>East Passyunk</td>\n",
       "      <td>530.00</td>\n",
       "    </tr>\n",
       "    <tr>\n",
       "      <td>4</td>\n",
       "      <td>Fishtown</td>\n",
       "      <td>37576.00</td>\n",
       "    </tr>\n",
       "  </tbody>\n",
       "</table>\n",
       "</div>"
      ],
      "text/plain": [
       "       ZillowName   total_amt\n",
       "0  Allegheny West  1214066.88\n",
       "1     Callow Hill    15332.85\n",
       "2   Chestnut Hill      600.00\n",
       "3   East Passyunk      530.00\n",
       "4        Fishtown    37576.00"
      ]
     },
     "execution_count": 30,
     "metadata": {},
     "output_type": "execute_result"
    }
   ],
   "source": [
    "total_amt = joined.groupby('ZillowName')['AMT_x'].sum()\n",
    "total_amt = total_amt.to_frame('total_amt').reset_index()\n",
    "total_amt.head()"
   ]
  },
  {
   "cell_type": "code",
   "execution_count": 53,
   "metadata": {},
   "outputs": [
    {
     "data": {
      "text/html": [
       "<div>\n",
       "<style scoped>\n",
       "    .dataframe tbody tr th:only-of-type {\n",
       "        vertical-align: middle;\n",
       "    }\n",
       "\n",
       "    .dataframe tbody tr th {\n",
       "        vertical-align: top;\n",
       "    }\n",
       "\n",
       "    .dataframe thead th {\n",
       "        text-align: right;\n",
       "    }\n",
       "</style>\n",
       "<table border=\"1\" class=\"dataframe\">\n",
       "  <thead>\n",
       "    <tr style=\"text-align: right;\">\n",
       "      <th></th>\n",
       "      <th>ZillowName</th>\n",
       "      <th>total_n</th>\n",
       "    </tr>\n",
       "  </thead>\n",
       "  <tbody>\n",
       "    <tr>\n",
       "      <td>0</td>\n",
       "      <td>Allegheny West</td>\n",
       "      <td>1</td>\n",
       "    </tr>\n",
       "    <tr>\n",
       "      <td>1</td>\n",
       "      <td>Callow Hill</td>\n",
       "      <td>1</td>\n",
       "    </tr>\n",
       "    <tr>\n",
       "      <td>2</td>\n",
       "      <td>Chestnut Hill</td>\n",
       "      <td>1</td>\n",
       "    </tr>\n",
       "    <tr>\n",
       "      <td>3</td>\n",
       "      <td>East Passyunk</td>\n",
       "      <td>1</td>\n",
       "    </tr>\n",
       "    <tr>\n",
       "      <td>4</td>\n",
       "      <td>Fishtown</td>\n",
       "      <td>1</td>\n",
       "    </tr>\n",
       "  </tbody>\n",
       "</table>\n",
       "</div>"
      ],
      "text/plain": [
       "       ZillowName  total_n\n",
       "0  Allegheny West        1\n",
       "1     Callow Hill        1\n",
       "2   Chestnut Hill        1\n",
       "3   East Passyunk        1\n",
       "4        Fishtown        1"
      ]
     },
     "execution_count": 53,
     "metadata": {},
     "output_type": "execute_result"
    }
   ],
   "source": [
    "total_n = unique_joined.groupby('ZillowName').size()\n",
    "total_n = total_n.to_frame('total_n').reset_index()\n",
    "total_n.head()"
   ]
  },
  {
   "cell_type": "code",
   "execution_count": 32,
   "metadata": {},
   "outputs": [
    {
     "data": {
      "text/plain": [
       "array(['WBE', 'MBE', 'MWBE'], dtype=object)"
      ]
     },
     "execution_count": 32,
     "metadata": {},
     "output_type": "execute_result"
    }
   ],
   "source": [
    "joined.certification_type.unique()"
   ]
  },
  {
   "cell_type": "code",
   "execution_count": 33,
   "metadata": {},
   "outputs": [
    {
     "data": {
      "text/html": [
       "<div>\n",
       "<style scoped>\n",
       "    .dataframe tbody tr th:only-of-type {\n",
       "        vertical-align: middle;\n",
       "    }\n",
       "\n",
       "    .dataframe tbody tr th {\n",
       "        vertical-align: top;\n",
       "    }\n",
       "\n",
       "    .dataframe thead th {\n",
       "        text-align: right;\n",
       "    }\n",
       "</style>\n",
       "<table border=\"1\" class=\"dataframe\">\n",
       "  <thead>\n",
       "    <tr style=\"text-align: right;\">\n",
       "      <th></th>\n",
       "      <th>ZillowName</th>\n",
       "      <th>certification_type</th>\n",
       "      <th>amt_cert_type</th>\n",
       "    </tr>\n",
       "  </thead>\n",
       "  <tbody>\n",
       "    <tr>\n",
       "      <td>0</td>\n",
       "      <td>Allegheny West</td>\n",
       "      <td>MBE</td>\n",
       "      <td>1214066.88</td>\n",
       "    </tr>\n",
       "    <tr>\n",
       "      <td>1</td>\n",
       "      <td>Callow Hill</td>\n",
       "      <td>MBE</td>\n",
       "      <td>15332.85</td>\n",
       "    </tr>\n",
       "    <tr>\n",
       "      <td>2</td>\n",
       "      <td>Chestnut Hill</td>\n",
       "      <td>MWBE</td>\n",
       "      <td>600.00</td>\n",
       "    </tr>\n",
       "    <tr>\n",
       "      <td>3</td>\n",
       "      <td>East Passyunk</td>\n",
       "      <td>MBE</td>\n",
       "      <td>530.00</td>\n",
       "    </tr>\n",
       "    <tr>\n",
       "      <td>4</td>\n",
       "      <td>Fishtown</td>\n",
       "      <td>WBE</td>\n",
       "      <td>37576.00</td>\n",
       "    </tr>\n",
       "  </tbody>\n",
       "</table>\n",
       "</div>"
      ],
      "text/plain": [
       "       ZillowName certification_type  amt_cert_type\n",
       "0  Allegheny West                MBE     1214066.88\n",
       "1     Callow Hill                MBE       15332.85\n",
       "2   Chestnut Hill               MWBE         600.00\n",
       "3   East Passyunk                MBE         530.00\n",
       "4        Fishtown                WBE       37576.00"
      ]
     },
     "execution_count": 33,
     "metadata": {},
     "output_type": "execute_result"
    }
   ],
   "source": [
    "total_cert = joined.groupby(['ZillowName', 'certification_type'])['AMT_x'].sum()\n",
    "total_cert = total_cert.to_frame('amt_cert_type').reset_index()\n",
    "total_cert.head()"
   ]
  },
  {
   "cell_type": "code",
   "execution_count": 34,
   "metadata": {},
   "outputs": [
    {
     "name": "stderr",
     "output_type": "stream",
     "text": [
      "/Users/dabinlee/opt/anaconda3/lib/python3.7/site-packages/pandas/core/frame.py:4102: SettingWithCopyWarning: \n",
      "A value is trying to be set on a copy of a slice from a DataFrame\n",
      "\n",
      "See the caveats in the documentation: http://pandas.pydata.org/pandas-docs/stable/user_guide/indexing.html#returning-a-view-versus-a-copy\n",
      "  errors=errors,\n",
      "/Users/dabinlee/opt/anaconda3/lib/python3.7/site-packages/pandas/core/frame.py:4223: SettingWithCopyWarning: \n",
      "A value is trying to be set on a copy of a slice from a DataFrame\n",
      "\n",
      "See the caveats in the documentation: http://pandas.pydata.org/pandas-docs/stable/user_guide/indexing.html#returning-a-view-versus-a-copy\n",
      "  return super().rename(**kwargs)\n"
     ]
    }
   ],
   "source": [
    "total_mbe_amt = total_cert.loc[total_cert['certification_type'] == 'MBE']\n",
    "total_mbe_amt.drop('certification_type', axis=1, inplace=True)\n",
    "total_mbe_amt.rename(columns={'amt_cert_type': 'mbe_amt'}, inplace=True)"
   ]
  },
  {
   "cell_type": "code",
   "execution_count": 37,
   "metadata": {},
   "outputs": [
    {
     "data": {
      "text/html": [
       "<div>\n",
       "<style scoped>\n",
       "    .dataframe tbody tr th:only-of-type {\n",
       "        vertical-align: middle;\n",
       "    }\n",
       "\n",
       "    .dataframe tbody tr th {\n",
       "        vertical-align: top;\n",
       "    }\n",
       "\n",
       "    .dataframe thead th {\n",
       "        text-align: right;\n",
       "    }\n",
       "</style>\n",
       "<table border=\"1\" class=\"dataframe\">\n",
       "  <thead>\n",
       "    <tr style=\"text-align: right;\">\n",
       "      <th></th>\n",
       "      <th>ZillowName</th>\n",
       "      <th>mbe_amt</th>\n",
       "    </tr>\n",
       "  </thead>\n",
       "  <tbody>\n",
       "    <tr>\n",
       "      <td>0</td>\n",
       "      <td>Allegheny West</td>\n",
       "      <td>1214066.88</td>\n",
       "    </tr>\n",
       "    <tr>\n",
       "      <td>1</td>\n",
       "      <td>Callow Hill</td>\n",
       "      <td>15332.85</td>\n",
       "    </tr>\n",
       "    <tr>\n",
       "      <td>3</td>\n",
       "      <td>East Passyunk</td>\n",
       "      <td>530.00</td>\n",
       "    </tr>\n",
       "    <tr>\n",
       "      <td>7</td>\n",
       "      <td>Holmesburg</td>\n",
       "      <td>47040.00</td>\n",
       "    </tr>\n",
       "    <tr>\n",
       "      <td>10</td>\n",
       "      <td>Logan Square</td>\n",
       "      <td>28465.40</td>\n",
       "    </tr>\n",
       "  </tbody>\n",
       "</table>\n",
       "</div>"
      ],
      "text/plain": [
       "        ZillowName     mbe_amt\n",
       "0   Allegheny West  1214066.88\n",
       "1      Callow Hill    15332.85\n",
       "3    East Passyunk      530.00\n",
       "7       Holmesburg    47040.00\n",
       "10    Logan Square    28465.40"
      ]
     },
     "execution_count": 37,
     "metadata": {},
     "output_type": "execute_result"
    }
   ],
   "source": [
    "total_mbe_amt.head()"
   ]
  },
  {
   "cell_type": "code",
   "execution_count": 35,
   "metadata": {},
   "outputs": [],
   "source": [
    "total_wbe_amt = total_cert.loc[total_cert['certification_type'] == 'WBE']\n",
    "total_wbe_amt.drop('certification_type', axis=1, inplace=True)\n",
    "total_wbe_amt.rename(columns={'amt_cert_type': 'wbe_amt'}, inplace=True)"
   ]
  },
  {
   "cell_type": "code",
   "execution_count": 38,
   "metadata": {},
   "outputs": [
    {
     "data": {
      "text/html": [
       "<div>\n",
       "<style scoped>\n",
       "    .dataframe tbody tr th:only-of-type {\n",
       "        vertical-align: middle;\n",
       "    }\n",
       "\n",
       "    .dataframe tbody tr th {\n",
       "        vertical-align: top;\n",
       "    }\n",
       "\n",
       "    .dataframe thead th {\n",
       "        text-align: right;\n",
       "    }\n",
       "</style>\n",
       "<table border=\"1\" class=\"dataframe\">\n",
       "  <thead>\n",
       "    <tr style=\"text-align: right;\">\n",
       "      <th></th>\n",
       "      <th>ZillowName</th>\n",
       "      <th>wbe_amt</th>\n",
       "    </tr>\n",
       "  </thead>\n",
       "  <tbody>\n",
       "    <tr>\n",
       "      <td>4</td>\n",
       "      <td>Fishtown</td>\n",
       "      <td>37576.00</td>\n",
       "    </tr>\n",
       "    <tr>\n",
       "      <td>6</td>\n",
       "      <td>Germantown West Central</td>\n",
       "      <td>1147.74</td>\n",
       "    </tr>\n",
       "    <tr>\n",
       "      <td>8</td>\n",
       "      <td>Holmesburg</td>\n",
       "      <td>16863.39</td>\n",
       "    </tr>\n",
       "    <tr>\n",
       "      <td>11</td>\n",
       "      <td>Logan Square</td>\n",
       "      <td>7863.12</td>\n",
       "    </tr>\n",
       "    <tr>\n",
       "      <td>15</td>\n",
       "      <td>Northeast Airport</td>\n",
       "      <td>9062.77</td>\n",
       "    </tr>\n",
       "  </tbody>\n",
       "</table>\n",
       "</div>"
      ],
      "text/plain": [
       "                 ZillowName   wbe_amt\n",
       "4                  Fishtown  37576.00\n",
       "6   Germantown West Central   1147.74\n",
       "8                Holmesburg  16863.39\n",
       "11             Logan Square   7863.12\n",
       "15        Northeast Airport   9062.77"
      ]
     },
     "execution_count": 38,
     "metadata": {},
     "output_type": "execute_result"
    }
   ],
   "source": [
    "total_wbe_amt.head()"
   ]
  },
  {
   "cell_type": "code",
   "execution_count": 39,
   "metadata": {},
   "outputs": [
    {
     "name": "stderr",
     "output_type": "stream",
     "text": [
      "/Users/dabinlee/opt/anaconda3/lib/python3.7/site-packages/pandas/core/frame.py:4102: SettingWithCopyWarning: \n",
      "A value is trying to be set on a copy of a slice from a DataFrame\n",
      "\n",
      "See the caveats in the documentation: http://pandas.pydata.org/pandas-docs/stable/user_guide/indexing.html#returning-a-view-versus-a-copy\n",
      "  errors=errors,\n",
      "/Users/dabinlee/opt/anaconda3/lib/python3.7/site-packages/pandas/core/frame.py:4223: SettingWithCopyWarning: \n",
      "A value is trying to be set on a copy of a slice from a DataFrame\n",
      "\n",
      "See the caveats in the documentation: http://pandas.pydata.org/pandas-docs/stable/user_guide/indexing.html#returning-a-view-versus-a-copy\n",
      "  return super().rename(**kwargs)\n"
     ]
    }
   ],
   "source": [
    "total_mwbe_amt = total_cert.loc[total_cert['certification_type'] == 'MWBE']\n",
    "total_mwbe_amt.drop('certification_type', axis=1, inplace=True)\n",
    "total_mwbe_amt.rename(columns={'amt_cert_type': 'mwbe_amt'}, inplace=True)"
   ]
  },
  {
   "cell_type": "code",
   "execution_count": 40,
   "metadata": {},
   "outputs": [
    {
     "data": {
      "text/html": [
       "<div>\n",
       "<style scoped>\n",
       "    .dataframe tbody tr th:only-of-type {\n",
       "        vertical-align: middle;\n",
       "    }\n",
       "\n",
       "    .dataframe tbody tr th {\n",
       "        vertical-align: top;\n",
       "    }\n",
       "\n",
       "    .dataframe thead th {\n",
       "        text-align: right;\n",
       "    }\n",
       "</style>\n",
       "<table border=\"1\" class=\"dataframe\">\n",
       "  <thead>\n",
       "    <tr style=\"text-align: right;\">\n",
       "      <th></th>\n",
       "      <th>ZillowName</th>\n",
       "      <th>mwbe_amt</th>\n",
       "    </tr>\n",
       "  </thead>\n",
       "  <tbody>\n",
       "    <tr>\n",
       "      <td>2</td>\n",
       "      <td>Chestnut Hill</td>\n",
       "      <td>600.00</td>\n",
       "    </tr>\n",
       "    <tr>\n",
       "      <td>5</td>\n",
       "      <td>Germantown Southwest</td>\n",
       "      <td>895.83</td>\n",
       "    </tr>\n",
       "    <tr>\n",
       "      <td>9</td>\n",
       "      <td>Lawndale</td>\n",
       "      <td>1271.00</td>\n",
       "    </tr>\n",
       "    <tr>\n",
       "      <td>12</td>\n",
       "      <td>Mount Airy East</td>\n",
       "      <td>112500.00</td>\n",
       "    </tr>\n",
       "    <tr>\n",
       "      <td>13</td>\n",
       "      <td>Mount Airy West</td>\n",
       "      <td>58350.00</td>\n",
       "    </tr>\n",
       "  </tbody>\n",
       "</table>\n",
       "</div>"
      ],
      "text/plain": [
       "              ZillowName   mwbe_amt\n",
       "2          Chestnut Hill     600.00\n",
       "5   Germantown Southwest     895.83\n",
       "9               Lawndale    1271.00\n",
       "12       Mount Airy East  112500.00\n",
       "13       Mount Airy West   58350.00"
      ]
     },
     "execution_count": 40,
     "metadata": {},
     "output_type": "execute_result"
    }
   ],
   "source": [
    "total_mwbe_amt.head()"
   ]
  },
  {
   "cell_type": "code",
   "execution_count": 54,
   "metadata": {},
   "outputs": [
    {
     "data": {
      "text/html": [
       "<div>\n",
       "<style scoped>\n",
       "    .dataframe tbody tr th:only-of-type {\n",
       "        vertical-align: middle;\n",
       "    }\n",
       "\n",
       "    .dataframe tbody tr th {\n",
       "        vertical-align: top;\n",
       "    }\n",
       "\n",
       "    .dataframe thead th {\n",
       "        text-align: right;\n",
       "    }\n",
       "</style>\n",
       "<table border=\"1\" class=\"dataframe\">\n",
       "  <thead>\n",
       "    <tr style=\"text-align: right;\">\n",
       "      <th></th>\n",
       "      <th>ZillowName</th>\n",
       "      <th>certification_type</th>\n",
       "      <th>n_cert_type</th>\n",
       "    </tr>\n",
       "  </thead>\n",
       "  <tbody>\n",
       "    <tr>\n",
       "      <td>0</td>\n",
       "      <td>Allegheny West</td>\n",
       "      <td>MBE</td>\n",
       "      <td>1</td>\n",
       "    </tr>\n",
       "    <tr>\n",
       "      <td>1</td>\n",
       "      <td>Callow Hill</td>\n",
       "      <td>MBE</td>\n",
       "      <td>1</td>\n",
       "    </tr>\n",
       "    <tr>\n",
       "      <td>2</td>\n",
       "      <td>Chestnut Hill</td>\n",
       "      <td>MWBE</td>\n",
       "      <td>1</td>\n",
       "    </tr>\n",
       "    <tr>\n",
       "      <td>3</td>\n",
       "      <td>East Passyunk</td>\n",
       "      <td>MBE</td>\n",
       "      <td>1</td>\n",
       "    </tr>\n",
       "    <tr>\n",
       "      <td>4</td>\n",
       "      <td>Fishtown</td>\n",
       "      <td>WBE</td>\n",
       "      <td>1</td>\n",
       "    </tr>\n",
       "  </tbody>\n",
       "</table>\n",
       "</div>"
      ],
      "text/plain": [
       "       ZillowName certification_type  n_cert_type\n",
       "0  Allegheny West                MBE            1\n",
       "1     Callow Hill                MBE            1\n",
       "2   Chestnut Hill               MWBE            1\n",
       "3   East Passyunk                MBE            1\n",
       "4        Fishtown                WBE            1"
      ]
     },
     "execution_count": 54,
     "metadata": {},
     "output_type": "execute_result"
    }
   ],
   "source": [
    "total_cert_n = unique_joined.groupby(['ZillowName', 'certification_type']).size()\n",
    "total_cert_n = total_cert_n.to_frame('n_cert_type').reset_index()\n",
    "total_cert_n.head()"
   ]
  },
  {
   "cell_type": "code",
   "execution_count": 55,
   "metadata": {},
   "outputs": [
    {
     "name": "stderr",
     "output_type": "stream",
     "text": [
      "/Users/dabinlee/opt/anaconda3/lib/python3.7/site-packages/pandas/core/frame.py:4102: SettingWithCopyWarning: \n",
      "A value is trying to be set on a copy of a slice from a DataFrame\n",
      "\n",
      "See the caveats in the documentation: http://pandas.pydata.org/pandas-docs/stable/user_guide/indexing.html#returning-a-view-versus-a-copy\n",
      "  errors=errors,\n",
      "/Users/dabinlee/opt/anaconda3/lib/python3.7/site-packages/pandas/core/frame.py:4223: SettingWithCopyWarning: \n",
      "A value is trying to be set on a copy of a slice from a DataFrame\n",
      "\n",
      "See the caveats in the documentation: http://pandas.pydata.org/pandas-docs/stable/user_guide/indexing.html#returning-a-view-versus-a-copy\n",
      "  return super().rename(**kwargs)\n"
     ]
    }
   ],
   "source": [
    "total_mbe_n = total_cert_n.loc[total_cert_n['certification_type'] == 'MBE']\n",
    "total_mbe_n.drop('certification_type', axis=1, inplace=True)\n",
    "total_mbe_n.rename(columns={'n_cert_type': 'mbe_n'}, inplace=True)"
   ]
  },
  {
   "cell_type": "code",
   "execution_count": 56,
   "metadata": {},
   "outputs": [
    {
     "data": {
      "text/html": [
       "<div>\n",
       "<style scoped>\n",
       "    .dataframe tbody tr th:only-of-type {\n",
       "        vertical-align: middle;\n",
       "    }\n",
       "\n",
       "    .dataframe tbody tr th {\n",
       "        vertical-align: top;\n",
       "    }\n",
       "\n",
       "    .dataframe thead th {\n",
       "        text-align: right;\n",
       "    }\n",
       "</style>\n",
       "<table border=\"1\" class=\"dataframe\">\n",
       "  <thead>\n",
       "    <tr style=\"text-align: right;\">\n",
       "      <th></th>\n",
       "      <th>ZillowName</th>\n",
       "      <th>mbe_n</th>\n",
       "    </tr>\n",
       "  </thead>\n",
       "  <tbody>\n",
       "    <tr>\n",
       "      <td>0</td>\n",
       "      <td>Allegheny West</td>\n",
       "      <td>1</td>\n",
       "    </tr>\n",
       "    <tr>\n",
       "      <td>1</td>\n",
       "      <td>Callow Hill</td>\n",
       "      <td>1</td>\n",
       "    </tr>\n",
       "    <tr>\n",
       "      <td>3</td>\n",
       "      <td>East Passyunk</td>\n",
       "      <td>1</td>\n",
       "    </tr>\n",
       "    <tr>\n",
       "      <td>7</td>\n",
       "      <td>Holmesburg</td>\n",
       "      <td>1</td>\n",
       "    </tr>\n",
       "    <tr>\n",
       "      <td>10</td>\n",
       "      <td>Logan Square</td>\n",
       "      <td>3</td>\n",
       "    </tr>\n",
       "  </tbody>\n",
       "</table>\n",
       "</div>"
      ],
      "text/plain": [
       "        ZillowName  mbe_n\n",
       "0   Allegheny West      1\n",
       "1      Callow Hill      1\n",
       "3    East Passyunk      1\n",
       "7       Holmesburg      1\n",
       "10    Logan Square      3"
      ]
     },
     "execution_count": 56,
     "metadata": {},
     "output_type": "execute_result"
    }
   ],
   "source": [
    "total_mbe_n.head()"
   ]
  },
  {
   "cell_type": "code",
   "execution_count": 57,
   "metadata": {
    "scrolled": true
   },
   "outputs": [],
   "source": [
    "total_wbe_n = total_cert_n.loc[total_cert_n['certification_type'] == 'WBE']\n",
    "total_wbe_n.drop('certification_type', axis=1, inplace=True)\n",
    "total_wbe_n.rename(columns={'n_cert_type': 'wbe_n'}, inplace=True)"
   ]
  },
  {
   "cell_type": "code",
   "execution_count": 58,
   "metadata": {},
   "outputs": [
    {
     "data": {
      "text/html": [
       "<div>\n",
       "<style scoped>\n",
       "    .dataframe tbody tr th:only-of-type {\n",
       "        vertical-align: middle;\n",
       "    }\n",
       "\n",
       "    .dataframe tbody tr th {\n",
       "        vertical-align: top;\n",
       "    }\n",
       "\n",
       "    .dataframe thead th {\n",
       "        text-align: right;\n",
       "    }\n",
       "</style>\n",
       "<table border=\"1\" class=\"dataframe\">\n",
       "  <thead>\n",
       "    <tr style=\"text-align: right;\">\n",
       "      <th></th>\n",
       "      <th>ZillowName</th>\n",
       "      <th>wbe_n</th>\n",
       "    </tr>\n",
       "  </thead>\n",
       "  <tbody>\n",
       "    <tr>\n",
       "      <td>4</td>\n",
       "      <td>Fishtown</td>\n",
       "      <td>1</td>\n",
       "    </tr>\n",
       "    <tr>\n",
       "      <td>6</td>\n",
       "      <td>Germantown West Central</td>\n",
       "      <td>1</td>\n",
       "    </tr>\n",
       "    <tr>\n",
       "      <td>8</td>\n",
       "      <td>Holmesburg</td>\n",
       "      <td>3</td>\n",
       "    </tr>\n",
       "    <tr>\n",
       "      <td>11</td>\n",
       "      <td>Logan Square</td>\n",
       "      <td>1</td>\n",
       "    </tr>\n",
       "    <tr>\n",
       "      <td>15</td>\n",
       "      <td>Northeast Airport</td>\n",
       "      <td>1</td>\n",
       "    </tr>\n",
       "  </tbody>\n",
       "</table>\n",
       "</div>"
      ],
      "text/plain": [
       "                 ZillowName  wbe_n\n",
       "4                  Fishtown      1\n",
       "6   Germantown West Central      1\n",
       "8                Holmesburg      3\n",
       "11             Logan Square      1\n",
       "15        Northeast Airport      1"
      ]
     },
     "execution_count": 58,
     "metadata": {},
     "output_type": "execute_result"
    }
   ],
   "source": [
    "total_wbe_n.head()"
   ]
  },
  {
   "cell_type": "code",
   "execution_count": 59,
   "metadata": {},
   "outputs": [],
   "source": [
    "total_mwbe_n = total_cert_n.loc[total_cert_n['certification_type'] == 'MWBE']\n",
    "total_mwbe_n.drop('certification_type', axis=1, inplace=True)\n",
    "total_mwbe_n.rename(columns={'n_cert_type': 'mwbe_n'}, inplace=True)"
   ]
  },
  {
   "cell_type": "code",
   "execution_count": 60,
   "metadata": {},
   "outputs": [
    {
     "data": {
      "text/html": [
       "<div>\n",
       "<style scoped>\n",
       "    .dataframe tbody tr th:only-of-type {\n",
       "        vertical-align: middle;\n",
       "    }\n",
       "\n",
       "    .dataframe tbody tr th {\n",
       "        vertical-align: top;\n",
       "    }\n",
       "\n",
       "    .dataframe thead th {\n",
       "        text-align: right;\n",
       "    }\n",
       "</style>\n",
       "<table border=\"1\" class=\"dataframe\">\n",
       "  <thead>\n",
       "    <tr style=\"text-align: right;\">\n",
       "      <th></th>\n",
       "      <th>ZillowName</th>\n",
       "      <th>mwbe_n</th>\n",
       "    </tr>\n",
       "  </thead>\n",
       "  <tbody>\n",
       "    <tr>\n",
       "      <td>2</td>\n",
       "      <td>Chestnut Hill</td>\n",
       "      <td>1</td>\n",
       "    </tr>\n",
       "    <tr>\n",
       "      <td>5</td>\n",
       "      <td>Germantown Southwest</td>\n",
       "      <td>1</td>\n",
       "    </tr>\n",
       "    <tr>\n",
       "      <td>9</td>\n",
       "      <td>Lawndale</td>\n",
       "      <td>1</td>\n",
       "    </tr>\n",
       "    <tr>\n",
       "      <td>12</td>\n",
       "      <td>Mount Airy East</td>\n",
       "      <td>1</td>\n",
       "    </tr>\n",
       "    <tr>\n",
       "      <td>13</td>\n",
       "      <td>Mount Airy West</td>\n",
       "      <td>1</td>\n",
       "    </tr>\n",
       "  </tbody>\n",
       "</table>\n",
       "</div>"
      ],
      "text/plain": [
       "              ZillowName  mwbe_n\n",
       "2          Chestnut Hill       1\n",
       "5   Germantown Southwest       1\n",
       "9               Lawndale       1\n",
       "12       Mount Airy East       1\n",
       "13       Mount Airy West       1"
      ]
     },
     "execution_count": 60,
     "metadata": {},
     "output_type": "execute_result"
    }
   ],
   "source": [
    "total_mwbe_n.head()"
   ]
  },
  {
   "cell_type": "code",
   "execution_count": 61,
   "metadata": {},
   "outputs": [],
   "source": [
    "totals = zillow.merge(total_amt, on='ZillowName', how='left')\n",
    "totals = totals.merge(total_mbe_amt, on='ZillowName', how='left')\n",
    "totals = totals.merge(total_wbe_amt, on='ZillowName', how='left')\n",
    "totals = totals.merge(total_mwbe_amt, on='ZillowName', how='left')\n",
    "totals = totals.merge(total_n, on='ZillowName', how='left')\n",
    "totals = totals.merge(total_mbe_n, on='ZillowName', how='left')\n",
    "totals = totals.merge(total_wbe_n, on='ZillowName', how='left')\n",
    "totals = totals.merge(total_mwbe_n, on='ZillowName', how='left')"
   ]
  },
  {
   "cell_type": "code",
   "execution_count": 64,
   "metadata": {},
   "outputs": [],
   "source": [
    "totals['total_amt'] = totals['total_amt'].fillna(0)\n",
    "totals['mbe_amt'] = totals['mbe_amt'].fillna(0)\n",
    "totals['wbe_amt'] = totals['wbe_amt'].fillna(0)\n",
    "totals['mwbe_amt'] = totals['mwbe_amt'].fillna(0)\n",
    "totals['total_n'] = totals['total_n'].fillna(0)\n",
    "totals['mbe_n'] = totals['mbe_n'].fillna(0)\n",
    "totals['wbe_n'] = totals['wbe_n'].fillna(0)\n",
    "totals['mwbe_n'] = totals['mwbe_n'].fillna(0)"
   ]
  },
  {
   "cell_type": "code",
   "execution_count": 65,
   "metadata": {},
   "outputs": [
    {
     "data": {
      "text/html": [
       "<div>\n",
       "<style scoped>\n",
       "    .dataframe tbody tr th:only-of-type {\n",
       "        vertical-align: middle;\n",
       "    }\n",
       "\n",
       "    .dataframe tbody tr th {\n",
       "        vertical-align: top;\n",
       "    }\n",
       "\n",
       "    .dataframe thead th {\n",
       "        text-align: right;\n",
       "    }\n",
       "</style>\n",
       "<table border=\"1\" class=\"dataframe\">\n",
       "  <thead>\n",
       "    <tr style=\"text-align: right;\">\n",
       "      <th></th>\n",
       "      <th>ZillowName</th>\n",
       "      <th>geometry</th>\n",
       "      <th>total_amt</th>\n",
       "      <th>mbe_amt</th>\n",
       "      <th>wbe_amt</th>\n",
       "      <th>mwbe_amt</th>\n",
       "      <th>total_n</th>\n",
       "      <th>mbe_n</th>\n",
       "      <th>wbe_n</th>\n",
       "      <th>mwbe_n</th>\n",
       "    </tr>\n",
       "  </thead>\n",
       "  <tbody>\n",
       "    <tr>\n",
       "      <td>0</td>\n",
       "      <td>Academy Gardens</td>\n",
       "      <td>POLYGON ((-74.99851 40.06435, -74.99456 40.061...</td>\n",
       "      <td>0.00</td>\n",
       "      <td>0.00</td>\n",
       "      <td>0.0</td>\n",
       "      <td>0.0</td>\n",
       "      <td>0.0</td>\n",
       "      <td>0.0</td>\n",
       "      <td>0.0</td>\n",
       "      <td>0.0</td>\n",
       "    </tr>\n",
       "    <tr>\n",
       "      <td>1</td>\n",
       "      <td>Airport</td>\n",
       "      <td>POLYGON ((-75.19728 39.89252, -75.19617 39.892...</td>\n",
       "      <td>0.00</td>\n",
       "      <td>0.00</td>\n",
       "      <td>0.0</td>\n",
       "      <td>0.0</td>\n",
       "      <td>0.0</td>\n",
       "      <td>0.0</td>\n",
       "      <td>0.0</td>\n",
       "      <td>0.0</td>\n",
       "    </tr>\n",
       "    <tr>\n",
       "      <td>2</td>\n",
       "      <td>Allegheny West</td>\n",
       "      <td>POLYGON ((-75.16592 40.00327, -75.16596 40.003...</td>\n",
       "      <td>1214066.88</td>\n",
       "      <td>1214066.88</td>\n",
       "      <td>0.0</td>\n",
       "      <td>0.0</td>\n",
       "      <td>1.0</td>\n",
       "      <td>1.0</td>\n",
       "      <td>0.0</td>\n",
       "      <td>0.0</td>\n",
       "    </tr>\n",
       "    <tr>\n",
       "      <td>3</td>\n",
       "      <td>Andorra</td>\n",
       "      <td>POLYGON ((-75.22463 40.06686, -75.22588 40.065...</td>\n",
       "      <td>0.00</td>\n",
       "      <td>0.00</td>\n",
       "      <td>0.0</td>\n",
       "      <td>0.0</td>\n",
       "      <td>0.0</td>\n",
       "      <td>0.0</td>\n",
       "      <td>0.0</td>\n",
       "      <td>0.0</td>\n",
       "    </tr>\n",
       "    <tr>\n",
       "      <td>4</td>\n",
       "      <td>Aston Woodbridge</td>\n",
       "      <td>POLYGON ((-75.00860 40.05369, -75.00861 40.053...</td>\n",
       "      <td>0.00</td>\n",
       "      <td>0.00</td>\n",
       "      <td>0.0</td>\n",
       "      <td>0.0</td>\n",
       "      <td>0.0</td>\n",
       "      <td>0.0</td>\n",
       "      <td>0.0</td>\n",
       "      <td>0.0</td>\n",
       "    </tr>\n",
       "    <tr>\n",
       "      <td>...</td>\n",
       "      <td>...</td>\n",
       "      <td>...</td>\n",
       "      <td>...</td>\n",
       "      <td>...</td>\n",
       "      <td>...</td>\n",
       "      <td>...</td>\n",
       "      <td>...</td>\n",
       "      <td>...</td>\n",
       "      <td>...</td>\n",
       "      <td>...</td>\n",
       "    </tr>\n",
       "    <tr>\n",
       "      <td>153</td>\n",
       "      <td>Wister</td>\n",
       "      <td>POLYGON ((-75.17210 40.03840, -75.17197 40.037...</td>\n",
       "      <td>0.00</td>\n",
       "      <td>0.00</td>\n",
       "      <td>0.0</td>\n",
       "      <td>0.0</td>\n",
       "      <td>0.0</td>\n",
       "      <td>0.0</td>\n",
       "      <td>0.0</td>\n",
       "      <td>0.0</td>\n",
       "    </tr>\n",
       "    <tr>\n",
       "      <td>154</td>\n",
       "      <td>Woodland Terrace</td>\n",
       "      <td>POLYGON ((-75.20399 39.94968, -75.20396 39.949...</td>\n",
       "      <td>4776.66</td>\n",
       "      <td>4776.66</td>\n",
       "      <td>0.0</td>\n",
       "      <td>0.0</td>\n",
       "      <td>1.0</td>\n",
       "      <td>1.0</td>\n",
       "      <td>0.0</td>\n",
       "      <td>0.0</td>\n",
       "    </tr>\n",
       "    <tr>\n",
       "      <td>155</td>\n",
       "      <td>Wynnefield</td>\n",
       "      <td>POLYGON ((-75.22070 40.00392, -75.21792 39.994...</td>\n",
       "      <td>0.00</td>\n",
       "      <td>0.00</td>\n",
       "      <td>0.0</td>\n",
       "      <td>0.0</td>\n",
       "      <td>0.0</td>\n",
       "      <td>0.0</td>\n",
       "      <td>0.0</td>\n",
       "      <td>0.0</td>\n",
       "    </tr>\n",
       "    <tr>\n",
       "      <td>156</td>\n",
       "      <td>Wynnefield Heights</td>\n",
       "      <td>POLYGON ((-75.20103 40.00419, -75.20410 40.000...</td>\n",
       "      <td>0.00</td>\n",
       "      <td>0.00</td>\n",
       "      <td>0.0</td>\n",
       "      <td>0.0</td>\n",
       "      <td>0.0</td>\n",
       "      <td>0.0</td>\n",
       "      <td>0.0</td>\n",
       "      <td>0.0</td>\n",
       "    </tr>\n",
       "    <tr>\n",
       "      <td>157</td>\n",
       "      <td>Yorktown</td>\n",
       "      <td>POLYGON ((-75.14917 39.97907, -75.15096 39.970...</td>\n",
       "      <td>0.00</td>\n",
       "      <td>0.00</td>\n",
       "      <td>0.0</td>\n",
       "      <td>0.0</td>\n",
       "      <td>0.0</td>\n",
       "      <td>0.0</td>\n",
       "      <td>0.0</td>\n",
       "      <td>0.0</td>\n",
       "    </tr>\n",
       "  </tbody>\n",
       "</table>\n",
       "<p>158 rows × 10 columns</p>\n",
       "</div>"
      ],
      "text/plain": [
       "             ZillowName                                           geometry  \\\n",
       "0       Academy Gardens  POLYGON ((-74.99851 40.06435, -74.99456 40.061...   \n",
       "1               Airport  POLYGON ((-75.19728 39.89252, -75.19617 39.892...   \n",
       "2        Allegheny West  POLYGON ((-75.16592 40.00327, -75.16596 40.003...   \n",
       "3               Andorra  POLYGON ((-75.22463 40.06686, -75.22588 40.065...   \n",
       "4      Aston Woodbridge  POLYGON ((-75.00860 40.05369, -75.00861 40.053...   \n",
       "..                  ...                                                ...   \n",
       "153              Wister  POLYGON ((-75.17210 40.03840, -75.17197 40.037...   \n",
       "154    Woodland Terrace  POLYGON ((-75.20399 39.94968, -75.20396 39.949...   \n",
       "155          Wynnefield  POLYGON ((-75.22070 40.00392, -75.21792 39.994...   \n",
       "156  Wynnefield Heights  POLYGON ((-75.20103 40.00419, -75.20410 40.000...   \n",
       "157            Yorktown  POLYGON ((-75.14917 39.97907, -75.15096 39.970...   \n",
       "\n",
       "      total_amt     mbe_amt  wbe_amt  mwbe_amt  total_n  mbe_n  wbe_n  mwbe_n  \n",
       "0          0.00        0.00      0.0       0.0      0.0    0.0    0.0     0.0  \n",
       "1          0.00        0.00      0.0       0.0      0.0    0.0    0.0     0.0  \n",
       "2    1214066.88  1214066.88      0.0       0.0      1.0    1.0    0.0     0.0  \n",
       "3          0.00        0.00      0.0       0.0      0.0    0.0    0.0     0.0  \n",
       "4          0.00        0.00      0.0       0.0      0.0    0.0    0.0     0.0  \n",
       "..          ...         ...      ...       ...      ...    ...    ...     ...  \n",
       "153        0.00        0.00      0.0       0.0      0.0    0.0    0.0     0.0  \n",
       "154     4776.66     4776.66      0.0       0.0      1.0    1.0    0.0     0.0  \n",
       "155        0.00        0.00      0.0       0.0      0.0    0.0    0.0     0.0  \n",
       "156        0.00        0.00      0.0       0.0      0.0    0.0    0.0     0.0  \n",
       "157        0.00        0.00      0.0       0.0      0.0    0.0    0.0     0.0  \n",
       "\n",
       "[158 rows x 10 columns]"
      ]
     },
     "execution_count": 65,
     "metadata": {},
     "output_type": "execute_result"
    }
   ],
   "source": [
    "totals"
   ]
  },
  {
   "cell_type": "code",
   "execution_count": 66,
   "metadata": {},
   "outputs": [],
   "source": [
    "# totals.to_file(r'C:\\Users\\dabinlee\\Documents\\GitHub\\mwdsbe_binny\\MWDSBE\\analysis\\data\\general_funds\\totals_nhoods2.geojson', driver='GeoJSON')\n",
    "totals.to_file('/Users/dabinlee/Documents/github/MWDSBE/analysis/data/general_funds/totals_nhoods.geojson', driver='GeoJSON')"
   ]
  },
  {
   "cell_type": "code",
   "execution_count": null,
   "metadata": {},
   "outputs": [],
   "source": []
  }
 ],
 "metadata": {
  "kernelspec": {
   "display_name": "Python 3",
   "language": "python",
   "name": "python3"
  },
  "language_info": {
   "codemirror_mode": {
    "name": "ipython",
    "version": 3
   },
   "file_extension": ".py",
   "mimetype": "text/x-python",
   "name": "python",
   "nbconvert_exporter": "python",
   "pygments_lexer": "ipython3",
   "version": "3.7.4"
  }
 },
 "nbformat": 4,
 "nbformat_minor": 2
}
