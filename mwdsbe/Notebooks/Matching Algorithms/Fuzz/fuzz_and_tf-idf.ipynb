{
 "cells": [
  {
   "cell_type": "markdown",
   "metadata": {},
   "source": [
    "# Applying Fuzzywuzzy and TF-IDF on MWDSBE\n",
    "* with Fuzzy wuzzy score of 95 and TF-IDF score of 90 "
   ]
  },
  {
   "cell_type": "code",
   "execution_count": 1,
   "metadata": {},
   "outputs": [],
   "source": [
    "import mwdsbe\n",
    "import mwdsbe.datasets.licenses as licenses\n",
    "import schuylkill as skool\n",
    "import time\n",
    "\n",
    "registry = mwdsbe.load_registry() # geopandas df\n",
    "license = licenses.CommercialActivityLicenses().download()\n",
    "\n",
    "# clean data\n",
    "ignore_words = ['inc', 'group', 'llc', 'corp', 'pc', 'incorporated', 'ltd', 'co', 'associates', 'services', 'company', 'enterprises', 'enterprise', 'service', 'corporation']\n",
    "cleaned_registry = skool.clean_strings(registry, ['company_name', 'dba_name'], True, ignore_words)\n",
    "cleaned_license = skool.clean_strings(license, ['company_name'], True, ignore_words)"
   ]
  },
  {
   "cell_type": "code",
   "execution_count": 2,
   "metadata": {},
   "outputs": [
    {
     "name": "stdout",
     "output_type": "stream",
     "text": [
      "Total number of cleaned registry: 3119\n"
     ]
    }
   ],
   "source": [
    "print('Total number of cleaned registry:', len(cleaned_registry))"
   ]
  },
  {
   "cell_type": "code",
   "execution_count": 3,
   "metadata": {},
   "outputs": [
    {
     "name": "stdout",
     "output_type": "stream",
     "text": [
      "Total number of cleaned license: 203578\n"
     ]
    }
   ],
   "source": [
    "print('Total number of cleaned license:', len(cleaned_license))"
   ]
  },
  {
   "cell_type": "markdown",
   "metadata": {},
   "source": [
    "## 1. Fuzz 95 + TF-IDF 90"
   ]
  },
  {
   "cell_type": "code",
   "execution_count": 4,
   "metadata": {},
   "outputs": [
    {
     "name": "stdout",
     "output_type": "stream",
     "text": [
      "Execution time: 1114.783467054367 sec\n"
     ]
    }
   ],
   "source": [
    "t1 = time.time()\n",
    "merged = (\n",
    "    skool.fuzzy_merge(cleaned_registry, cleaned_license, on=\"company_name\", score_cutoff=95)\n",
    "    .pipe(skool.fuzzy_merge, cleaned_registry, cleaned_license, left_on=\"dba_name\", right_on=\"company_name\", score_cutoff=95)\n",
    "    .pipe(skool.tf_idf_merge, cleaned_registry, cleaned_license, on=\"company_name\", score_cutoff=90)\n",
    "    .pipe(skool.tf_idf_merge, cleaned_registry, cleaned_license, left_on=\"dba_name\", right_on=\"company_name\", score_cutoff=90)\n",
    ")\n",
    "t = time.time() - t1"
   ]
  },
  {
   "cell_type": "code",
   "execution_count": 5,
   "metadata": {},
   "outputs": [
    {
     "name": "stdout",
     "output_type": "stream",
     "text": [
      "Execution time: 18.579724450906117 min\n"
     ]
    }
   ],
   "source": [
    "print('Execution time:', t/60, 'min')"
   ]
  },
  {
   "cell_type": "code",
   "execution_count": 6,
   "metadata": {},
   "outputs": [],
   "source": [
    "matched = merged.dropna(subset=['company_name_y'])"
   ]
  },
  {
   "cell_type": "code",
   "execution_count": 7,
   "metadata": {
    "scrolled": true
   },
   "outputs": [
    {
     "name": "stdout",
     "output_type": "stream",
     "text": [
      "Match: 1480 out of 3119\n"
     ]
    }
   ],
   "source": [
    "print('Match:', len(matched), 'out of', len(cleaned_registry))"
   ]
  },
  {
   "cell_type": "code",
   "execution_count": 8,
   "metadata": {},
   "outputs": [],
   "source": [
    "# matched.to_excel (r'C:\\Users\\dabinlee\\Desktop\\mwdsbe\\data\\fuzz_and_tfidf\\fuzz95_tfidf90.xlsx', index = None, header=True)"
   ]
  },
  {
   "cell_type": "markdown",
   "metadata": {},
   "source": [
    "## 2. Fuzz 95 + TF-IDF 85"
   ]
  },
  {
   "cell_type": "code",
   "execution_count": 9,
   "metadata": {},
   "outputs": [],
   "source": [
    "t1 = time.time()\n",
    "merged = (\n",
    "    skool.fuzzy_merge(cleaned_registry, cleaned_license, on=\"company_name\", score_cutoff=95)\n",
    "    .pipe(skool.fuzzy_merge, cleaned_registry, cleaned_license, left_on=\"dba_name\", right_on=\"company_name\", score_cutoff=95)\n",
    "    .pipe(skool.tf_idf_merge, cleaned_registry, cleaned_license, on=\"company_name\", score_cutoff=85)\n",
    "    .pipe(skool.tf_idf_merge, cleaned_registry, cleaned_license, left_on=\"dba_name\", right_on=\"company_name\", score_cutoff=85)\n",
    ")\n",
    "t = time.time() - t1"
   ]
  },
  {
   "cell_type": "code",
   "execution_count": 10,
   "metadata": {},
   "outputs": [
    {
     "name": "stdout",
     "output_type": "stream",
     "text": [
      "Execution time: 18.664799781640372 min\n"
     ]
    }
   ],
   "source": [
    "print('Execution time:', t/60, 'min')"
   ]
  },
  {
   "cell_type": "code",
   "execution_count": 11,
   "metadata": {},
   "outputs": [],
   "source": [
    "matched = merged.dropna(subset=['company_name_y'])"
   ]
  },
  {
   "cell_type": "code",
   "execution_count": 12,
   "metadata": {},
   "outputs": [
    {
     "name": "stdout",
     "output_type": "stream",
     "text": [
      "Match: 1566 out of 3119\n"
     ]
    }
   ],
   "source": [
    "print('Match:', len(matched), 'out of', len(cleaned_registry))"
   ]
  },
  {
   "cell_type": "code",
   "execution_count": 13,
   "metadata": {},
   "outputs": [],
   "source": [
    "# matched.to_excel (r'C:\\Users\\dabinlee\\Desktop\\mwdsbe\\data\\fuzz_and_tfidf\\fuzz95_tfidf85.xlsx', index = None, header=True)"
   ]
  }
 ],
 "metadata": {
  "kernelspec": {
   "display_name": "Python 3",
   "language": "python",
   "name": "python3"
  },
  "language_info": {
   "codemirror_mode": {
    "name": "ipython",
    "version": 3
   },
   "file_extension": ".py",
   "mimetype": "text/x-python",
   "name": "python",
   "nbconvert_exporter": "python",
   "pygments_lexer": "ipython3",
   "version": "3.7.4"
  }
 },
 "nbformat": 4,
 "nbformat_minor": 2
}
