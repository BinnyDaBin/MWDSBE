{
 "cells": [
  {
   "cell_type": "markdown",
   "metadata": {},
   "source": [
    "# Data Analysis of MEDSBE with TF-IDF"
   ]
  },
  {
   "cell_type": "code",
   "execution_count": 36,
   "metadata": {},
   "outputs": [],
   "source": [
    "import mwdsbe\n",
    "import mwdsbe.datasets.licenses as licenses\n",
    "import schuylkill as skool\n",
    "import pandas as pd\n",
    "import time\n",
    "from matplotlib import pyplot as plt\n",
    "import seaborn as sns"
   ]
  },
  {
   "cell_type": "code",
   "execution_count": 4,
   "metadata": {},
   "outputs": [],
   "source": [
    "registry = mwdsbe.load_registry() # geopandas df\n",
    "license = licenses.CommercialActivityLicenses().get()"
   ]
  },
  {
   "cell_type": "code",
   "execution_count": 20,
   "metadata": {},
   "outputs": [],
   "source": [
    "# clean data\n",
    "ignore_words = ['inc', 'group', 'llc', 'corp', 'pc', 'incorporated', 'ltd', 'co', 'associates', 'services', 'company', 'enterprises', 'enterprise', 'service', 'corporation']\n",
    "cleaned_registry = skool.clean_strings(registry, ['company_name', 'dba_name'], True, ignore_words)\n",
    "cleaned_license = skool.clean_strings(license, ['company_name'], True, ignore_words)\n",
    "\n",
    "cleaned_registry = cleaned_registry.dropna(subset=['company_name'])\n",
    "cleaned_license = cleaned_license.dropna(subset=['company_name'])"
   ]
  },
  {
   "cell_type": "code",
   "execution_count": 21,
   "metadata": {},
   "outputs": [
    {
     "name": "stdout",
     "output_type": "stream",
     "text": [
      "Total number of cleaned registry: 3119\n"
     ]
    }
   ],
   "source": [
    "print('Total number of cleaned registry:', len(cleaned_registry))"
   ]
  },
  {
   "cell_type": "code",
   "execution_count": 22,
   "metadata": {},
   "outputs": [
    {
     "name": "stdout",
     "output_type": "stream",
     "text": [
      "Total number of cleaned license: 203541\n"
     ]
    }
   ],
   "source": [
    "print('Total number of cleaned license:', len(cleaned_license))"
   ]
  },
  {
   "cell_type": "markdown",
   "metadata": {},
   "source": [
    "## TF-IDF 85"
   ]
  },
  {
   "cell_type": "code",
   "execution_count": 110,
   "metadata": {},
   "outputs": [],
   "source": [
    "t1 = time.time()\n",
    "merged = (\n",
    "    skool.tf_idf_merge(cleaned_registry, cleaned_license, on=\"company_name\", score_cutoff=85)\n",
    "    .pipe(skool.tf_idf_merge, cleaned_registry, cleaned_license, left_on=\"dba_name\", right_on=\"company_name\", score_cutoff=85)\n",
    ")\n",
    "t = time.time() - t1"
   ]
  },
  {
   "cell_type": "code",
   "execution_count": 111,
   "metadata": {},
   "outputs": [
    {
     "name": "stdout",
     "output_type": "stream",
     "text": [
      "Execution time: 3.0333751757939655 min\n"
     ]
    }
   ],
   "source": [
    "print('Execution time:', t/60, 'min')"
   ]
  },
  {
   "cell_type": "code",
   "execution_count": 112,
   "metadata": {},
   "outputs": [],
   "source": [
    "matched = merged.dropna(subset=['company_name_y'])"
   ]
  },
  {
   "cell_type": "code",
   "execution_count": 113,
   "metadata": {},
   "outputs": [],
   "source": [
    "# matched = pd.read_excel(r'C:\\Users\\dabinlee\\Desktop\\mwdsbe\\data\\tf-idf\\tf-idf-85.xlsx')"
   ]
  },
  {
   "cell_type": "code",
   "execution_count": 114,
   "metadata": {
    "scrolled": true
   },
   "outputs": [
    {
     "name": "stdout",
     "output_type": "stream",
     "text": [
      "Matched: 1499 out of 3119\n"
     ]
    }
   ],
   "source": [
    "print('Matched:', len(matched), 'out of', len(cleaned_registry))"
   ]
  },
  {
   "cell_type": "markdown",
   "metadata": {},
   "source": [
    "##### Getting only active companies"
   ]
  },
  {
   "cell_type": "code",
   "execution_count": 79,
   "metadata": {},
   "outputs": [
    {
     "ename": "NameError",
     "evalue": "name 'matched' is not defined",
     "output_type": "error",
     "traceback": [
      "\u001b[1;31m---------------------------------------------------------------------------\u001b[0m",
      "\u001b[1;31mNameError\u001b[0m                                 Traceback (most recent call last)",
      "\u001b[1;32m<ipython-input-79-86d46eab9536>\u001b[0m in \u001b[0;36m<module>\u001b[1;34m\u001b[0m\n\u001b[1;32m----> 1\u001b[1;33m \u001b[0mactive_matched\u001b[0m \u001b[1;33m=\u001b[0m \u001b[0mmatched\u001b[0m\u001b[1;33m[\u001b[0m\u001b[0mmatched\u001b[0m\u001b[1;33m.\u001b[0m\u001b[0mlicense_status\u001b[0m \u001b[1;33m==\u001b[0m \u001b[1;34m'Active'\u001b[0m\u001b[1;33m]\u001b[0m\u001b[1;33m\u001b[0m\u001b[1;33m\u001b[0m\u001b[0m\n\u001b[0m",
      "\u001b[1;31mNameError\u001b[0m: name 'matched' is not defined"
     ]
    }
   ],
   "source": [
    "active_matched = matched[matched.license_status == 'Active']"
   ]
  },
  {
   "cell_type": "code",
   "execution_count": 25,
   "metadata": {},
   "outputs": [
    {
     "name": "stdout",
     "output_type": "stream",
     "text": [
      "Active Companies: 1487\n"
     ]
    }
   ],
   "source": [
    "print('Active Companies:', len(active))"
   ]
  },
  {
   "cell_type": "markdown",
   "metadata": {},
   "source": [
    "## Does the license issue year affect the threshold?"
   ]
  },
  {
   "cell_type": "markdown",
   "metadata": {},
   "source": [
    "### 1) All year trends"
   ]
  },
  {
   "cell_type": "code",
   "execution_count": 98,
   "metadata": {},
   "outputs": [],
   "source": [
    "# getting only active companies in whole license data\n",
    "active_license = cleaned_license[cleaned_license.license_status == 'Active']"
   ]
  },
  {
   "cell_type": "code",
   "execution_count": 99,
   "metadata": {},
   "outputs": [
    {
     "name": "stderr",
     "output_type": "stream",
     "text": [
      "C:\\Users\\dabinlee\\AppData\\Local\\Continuum\\anaconda3\\lib\\site-packages\\ipykernel_launcher.py:1: SettingWithCopyWarning: \n",
      "A value is trying to be set on a copy of a slice from a DataFrame.\n",
      "Try using .loc[row_indexer,col_indexer] = value instead\n",
      "\n",
      "See the caveats in the documentation: http://pandas.pydata.org/pandas-docs/stable/user_guide/indexing.html#returning-a-view-versus-a-copy\n",
      "  \"\"\"Entry point for launching an IPython kernel.\n"
     ]
    }
   ],
   "source": [
    "active_license['issue_year'] = active_license['issue_date'].dt.year"
   ]
  },
  {
   "cell_type": "code",
   "execution_count": 101,
   "metadata": {},
   "outputs": [],
   "source": [
    "years = active_license.groupby('issue_year').size().to_frame('N').reset_index()"
   ]
  },
  {
   "cell_type": "code",
   "execution_count": 102,
   "metadata": {
    "scrolled": true
   },
   "outputs": [
    {
     "data": {
      "text/html": [
       "<div>\n",
       "<style scoped>\n",
       "    .dataframe tbody tr th:only-of-type {\n",
       "        vertical-align: middle;\n",
       "    }\n",
       "\n",
       "    .dataframe tbody tr th {\n",
       "        vertical-align: top;\n",
       "    }\n",
       "\n",
       "    .dataframe thead th {\n",
       "        text-align: right;\n",
       "    }\n",
       "</style>\n",
       "<table border=\"1\" class=\"dataframe\">\n",
       "  <thead>\n",
       "    <tr style=\"text-align: right;\">\n",
       "      <th></th>\n",
       "      <th>issue_year</th>\n",
       "      <th>N</th>\n",
       "    </tr>\n",
       "  </thead>\n",
       "  <tbody>\n",
       "    <tr>\n",
       "      <th>0</th>\n",
       "      <td>1990</td>\n",
       "      <td>5</td>\n",
       "    </tr>\n",
       "    <tr>\n",
       "      <th>1</th>\n",
       "      <td>1991</td>\n",
       "      <td>1</td>\n",
       "    </tr>\n",
       "    <tr>\n",
       "      <th>2</th>\n",
       "      <td>1993</td>\n",
       "      <td>609</td>\n",
       "    </tr>\n",
       "    <tr>\n",
       "      <th>3</th>\n",
       "      <td>1994</td>\n",
       "      <td>1653</td>\n",
       "    </tr>\n",
       "    <tr>\n",
       "      <th>4</th>\n",
       "      <td>1995</td>\n",
       "      <td>3178</td>\n",
       "    </tr>\n",
       "    <tr>\n",
       "      <th>5</th>\n",
       "      <td>1996</td>\n",
       "      <td>3588</td>\n",
       "    </tr>\n",
       "    <tr>\n",
       "      <th>6</th>\n",
       "      <td>1997</td>\n",
       "      <td>2899</td>\n",
       "    </tr>\n",
       "    <tr>\n",
       "      <th>7</th>\n",
       "      <td>1998</td>\n",
       "      <td>3155</td>\n",
       "    </tr>\n",
       "    <tr>\n",
       "      <th>8</th>\n",
       "      <td>1999</td>\n",
       "      <td>3370</td>\n",
       "    </tr>\n",
       "    <tr>\n",
       "      <th>9</th>\n",
       "      <td>2000</td>\n",
       "      <td>3752</td>\n",
       "    </tr>\n",
       "    <tr>\n",
       "      <th>10</th>\n",
       "      <td>2001</td>\n",
       "      <td>3073</td>\n",
       "    </tr>\n",
       "    <tr>\n",
       "      <th>11</th>\n",
       "      <td>2002</td>\n",
       "      <td>3634</td>\n",
       "    </tr>\n",
       "    <tr>\n",
       "      <th>12</th>\n",
       "      <td>2003</td>\n",
       "      <td>3956</td>\n",
       "    </tr>\n",
       "    <tr>\n",
       "      <th>13</th>\n",
       "      <td>2004</td>\n",
       "      <td>5622</td>\n",
       "    </tr>\n",
       "    <tr>\n",
       "      <th>14</th>\n",
       "      <td>2005</td>\n",
       "      <td>64349</td>\n",
       "    </tr>\n",
       "    <tr>\n",
       "      <th>15</th>\n",
       "      <td>2006</td>\n",
       "      <td>9187</td>\n",
       "    </tr>\n",
       "    <tr>\n",
       "      <th>16</th>\n",
       "      <td>2007</td>\n",
       "      <td>8840</td>\n",
       "    </tr>\n",
       "    <tr>\n",
       "      <th>17</th>\n",
       "      <td>2008</td>\n",
       "      <td>6776</td>\n",
       "    </tr>\n",
       "    <tr>\n",
       "      <th>18</th>\n",
       "      <td>2009</td>\n",
       "      <td>5324</td>\n",
       "    </tr>\n",
       "    <tr>\n",
       "      <th>19</th>\n",
       "      <td>2010</td>\n",
       "      <td>5632</td>\n",
       "    </tr>\n",
       "    <tr>\n",
       "      <th>20</th>\n",
       "      <td>2011</td>\n",
       "      <td>5934</td>\n",
       "    </tr>\n",
       "    <tr>\n",
       "      <th>21</th>\n",
       "      <td>2012</td>\n",
       "      <td>5314</td>\n",
       "    </tr>\n",
       "    <tr>\n",
       "      <th>22</th>\n",
       "      <td>2013</td>\n",
       "      <td>6578</td>\n",
       "    </tr>\n",
       "    <tr>\n",
       "      <th>23</th>\n",
       "      <td>2014</td>\n",
       "      <td>7864</td>\n",
       "    </tr>\n",
       "    <tr>\n",
       "      <th>24</th>\n",
       "      <td>2015</td>\n",
       "      <td>7407</td>\n",
       "    </tr>\n",
       "    <tr>\n",
       "      <th>25</th>\n",
       "      <td>2016</td>\n",
       "      <td>7050</td>\n",
       "    </tr>\n",
       "    <tr>\n",
       "      <th>26</th>\n",
       "      <td>2017</td>\n",
       "      <td>7912</td>\n",
       "    </tr>\n",
       "    <tr>\n",
       "      <th>27</th>\n",
       "      <td>2018</td>\n",
       "      <td>8402</td>\n",
       "    </tr>\n",
       "    <tr>\n",
       "      <th>28</th>\n",
       "      <td>2019</td>\n",
       "      <td>7181</td>\n",
       "    </tr>\n",
       "  </tbody>\n",
       "</table>\n",
       "</div>"
      ],
      "text/plain": [
       "    issue_year      N\n",
       "0         1990      5\n",
       "1         1991      1\n",
       "2         1993    609\n",
       "3         1994   1653\n",
       "4         1995   3178\n",
       "5         1996   3588\n",
       "6         1997   2899\n",
       "7         1998   3155\n",
       "8         1999   3370\n",
       "9         2000   3752\n",
       "10        2001   3073\n",
       "11        2002   3634\n",
       "12        2003   3956\n",
       "13        2004   5622\n",
       "14        2005  64349\n",
       "15        2006   9187\n",
       "16        2007   8840\n",
       "17        2008   6776\n",
       "18        2009   5324\n",
       "19        2010   5632\n",
       "20        2011   5934\n",
       "21        2012   5314\n",
       "22        2013   6578\n",
       "23        2014   7864\n",
       "24        2015   7407\n",
       "25        2016   7050\n",
       "26        2017   7912\n",
       "27        2018   8402\n",
       "28        2019   7181"
      ]
     },
     "execution_count": 102,
     "metadata": {},
     "output_type": "execute_result"
    }
   ],
   "source": [
    "years"
   ]
  },
  {
   "cell_type": "code",
   "execution_count": 104,
   "metadata": {
    "scrolled": true
   },
   "outputs": [
    {
     "data": {
      "image/png": "[encoded data removed]",
      "text/plain": [
       "<Figure size 432x288 with 1 Axes>"
      ]
     },
     "metadata": {
      "needs_background": "light"
     },
     "output_type": "display_data"
    }
   ],
   "source": [
    "ax = sns.barplot(x=\"issue_year\", y=\"N\", data=years)\n",
    "ax.set(xlabel='Year', ylabel='Number of Companies')\n",
    "ax.set_xticklabels(labels=years.issue_year, rotation=45)\n",
    "plt.show()"
   ]
  },
  {
   "cell_type": "markdown",
   "metadata": {},
   "source": [
    "### 2) Only considering the most recent year = 2019"
   ]
  },
  {
   "cell_type": "code",
   "execution_count": 105,
   "metadata": {},
   "outputs": [],
   "source": [
    "license_2019 = active_license[active_license.issue_year == 2019]"
   ]
  },
  {
   "cell_type": "code",
   "execution_count": 115,
   "metadata": {},
   "outputs": [],
   "source": [
    "# tf-idf-merge with registry and license_2019 to see if this makes a difference\n",
    "t1 = time.time()\n",
    "merged_2019 = (\n",
    "    skool.tf_idf_merge(cleaned_registry, license_2019, on=\"company_name\", score_cutoff=85)\n",
    "    .pipe(skool.tf_idf_merge, cleaned_registry, license_2019, left_on=\"dba_name\", right_on=\"company_name\", score_cutoff=85)\n",
    ")\n",
    "t = time.time() - t1"
   ]
  },
  {
   "cell_type": "code",
   "execution_count": 116,
   "metadata": {},
   "outputs": [
    {
     "name": "stdout",
     "output_type": "stream",
     "text": [
      "Execution time: 0.8770878314971924 sec\n"
     ]
    }
   ],
   "source": [
    "print('Execution time:', t, 'sec')"
   ]
  },
  {
   "cell_type": "code",
   "execution_count": 117,
   "metadata": {},
   "outputs": [],
   "source": [
    "matched_2019 = merged_2019.dropna(subset=['company_name_y'])"
   ]
  },
  {
   "cell_type": "code",
   "execution_count": 150,
   "metadata": {},
   "outputs": [
    {
     "name": "stdout",
     "output_type": "stream",
     "text": [
      "Matched: 61 out of 3119\n"
     ]
    }
   ],
   "source": [
    "print('Matched:', len(matched_2019), 'out of', len(cleaned_registry))"
   ]
  },
  {
   "cell_type": "code",
   "execution_count": 138,
   "metadata": {
    "scrolled": true
   },
   "outputs": [
    {
     "name": "stderr",
     "output_type": "stream",
     "text": [
      "C:\\Users\\dabinlee\\AppData\\Local\\Continuum\\anaconda3\\lib\\site-packages\\ipykernel_launcher.py:2: SettingWithCopyWarning: \n",
      "A value is trying to be set on a copy of a slice from a DataFrame.\n",
      "Try using .loc[row_indexer,col_indexer] = value instead\n",
      "\n",
      "See the caveats in the documentation: http://pandas.pydata.org/pandas-docs/stable/user_guide/indexing.html#returning-a-view-versus-a-copy\n",
      "  \n"
     ]
    }
   ],
   "source": [
    "## To see the difference between filtering 2019 after tf-idf and before tf-idf\n",
    "matched['issue_year'] = matched['issue_date'].dt.year"
   ]
  },
  {
   "cell_type": "code",
   "execution_count": 143,
   "metadata": {},
   "outputs": [],
   "source": [
    "matched_test = matched[matched.issue_year == 2019]"
   ]
  },
  {
   "cell_type": "code",
   "execution_count": 151,
   "metadata": {},
   "outputs": [
    {
     "data": {
      "text/plain": [
       "46"
      ]
     },
     "execution_count": 151,
     "metadata": {},
     "output_type": "execute_result"
    }
   ],
   "source": [
    "len(matched_test)"
   ]
  },
  {
   "cell_type": "markdown",
   "metadata": {},
   "source": [
    "### a) Clearifying before and after merge difference\n",
    "Since we are finding best match for tf-idf, there are some best matches not in 2019, so if we do tf-idf-merge and filter by 2019 license year, we get less than filtering before the merge."
   ]
  },
  {
   "cell_type": "code",
   "execution_count": 152,
   "metadata": {},
   "outputs": [],
   "source": [
    "before = matched_2019\n",
    "after = matched_test"
   ]
  },
  {
   "cell_type": "code",
   "execution_count": 162,
   "metadata": {},
   "outputs": [],
   "source": [
    "diff = before.index.difference(after.index).tolist()"
   ]
  },
  {
   "cell_type": "code",
   "execution_count": 173,
   "metadata": {},
   "outputs": [],
   "source": [
    "result_before = before.loc[diff]"
   ]
  },
  {
   "cell_type": "code",
   "execution_count": 224,
   "metadata": {},
   "outputs": [
    {
     "data": {
      "text/html": [
       "<div>\n",
       "<style scoped>\n",
       "    .dataframe tbody tr th:only-of-type {\n",
       "        vertical-align: middle;\n",
       "    }\n",
       "\n",
       "    .dataframe tbody tr th {\n",
       "        vertical-align: top;\n",
       "    }\n",
       "\n",
       "    .dataframe thead th {\n",
       "        text-align: right;\n",
       "    }\n",
       "</style>\n",
       "<table border=\"1\" class=\"dataframe\">\n",
       "  <thead>\n",
       "    <tr style=\"text-align: right;\">\n",
       "      <th></th>\n",
       "      <th>company_name_x</th>\n",
       "      <th>match_probability</th>\n",
       "      <th>company_name_y</th>\n",
       "      <th>issue_year</th>\n",
       "      <th>license_num</th>\n",
       "    </tr>\n",
       "    <tr>\n",
       "      <th>registry_id</th>\n",
       "      <th></th>\n",
       "      <th></th>\n",
       "      <th></th>\n",
       "      <th></th>\n",
       "      <th></th>\n",
       "    </tr>\n",
       "  </thead>\n",
       "  <tbody>\n",
       "    <tr>\n",
       "      <th>35</th>\n",
       "      <td>a m painting</td>\n",
       "      <td>0.852668</td>\n",
       "      <td>m painting</td>\n",
       "      <td>2019.0</td>\n",
       "      <td>808498.0</td>\n",
       "    </tr>\n",
       "    <tr>\n",
       "      <th>51</th>\n",
       "      <td>abc construction</td>\n",
       "      <td>1</td>\n",
       "      <td>abc construction</td>\n",
       "      <td>2019.0</td>\n",
       "      <td>824402.0</td>\n",
       "    </tr>\n",
       "    <tr>\n",
       "      <th>56</th>\n",
       "      <td>abstract</td>\n",
       "      <td>1</td>\n",
       "      <td>abstract</td>\n",
       "      <td>2019.0</td>\n",
       "      <td>814936.0</td>\n",
       "    </tr>\n",
       "    <tr>\n",
       "      <th>104</th>\n",
       "      <td>advantage building facility</td>\n",
       "      <td>1</td>\n",
       "      <td>advantage building facility</td>\n",
       "      <td>2019.0</td>\n",
       "      <td>820119.0</td>\n",
       "    </tr>\n",
       "    <tr>\n",
       "      <th>668</th>\n",
       "      <td>collaborative</td>\n",
       "      <td>0.859109</td>\n",
       "      <td>oz collaborative</td>\n",
       "      <td>2019.0</td>\n",
       "      <td>825349.0</td>\n",
       "    </tr>\n",
       "    <tr>\n",
       "      <th>914</th>\n",
       "      <td>dw environmental consulting</td>\n",
       "      <td>0.856184</td>\n",
       "      <td>environmental consulting</td>\n",
       "      <td>2019.0</td>\n",
       "      <td>804696.0</td>\n",
       "    </tr>\n",
       "    <tr>\n",
       "      <th>1155</th>\n",
       "      <td>garden state highway products</td>\n",
       "      <td>1</td>\n",
       "      <td>garden state highway products</td>\n",
       "      <td>2019.0</td>\n",
       "      <td>820258.0</td>\n",
       "    </tr>\n",
       "    <tr>\n",
       "      <th>1265</th>\n",
       "      <td>h s cleaning</td>\n",
       "      <td>0.869138</td>\n",
       "      <td>l s cleaning</td>\n",
       "      <td>2019.0</td>\n",
       "      <td>827771.0</td>\n",
       "    </tr>\n",
       "    <tr>\n",
       "      <th>1951</th>\n",
       "      <td>myers constructs</td>\n",
       "      <td>0.901206</td>\n",
       "      <td>myers construction</td>\n",
       "      <td>2019.0</td>\n",
       "      <td>818308.0</td>\n",
       "    </tr>\n",
       "    <tr>\n",
       "      <th>2005</th>\n",
       "      <td>nico landscaping</td>\n",
       "      <td>1</td>\n",
       "      <td>nico landscaping</td>\n",
       "      <td>2019.0</td>\n",
       "      <td>810366.0</td>\n",
       "    </tr>\n",
       "    <tr>\n",
       "      <th>2299</th>\n",
       "      <td>r r contracting utilities</td>\n",
       "      <td>1</td>\n",
       "      <td>r r contracting utilities</td>\n",
       "      <td>2019.0</td>\n",
       "      <td>804256.0</td>\n",
       "    </tr>\n",
       "    <tr>\n",
       "      <th>2343</th>\n",
       "      <td>reliable transit</td>\n",
       "      <td>0.908</td>\n",
       "      <td>gs reliable transit</td>\n",
       "      <td>2019.0</td>\n",
       "      <td>821288.0</td>\n",
       "    </tr>\n",
       "    <tr>\n",
       "      <th>2443</th>\n",
       "      <td>salt design studio</td>\n",
       "      <td>1</td>\n",
       "      <td>salt design studio</td>\n",
       "      <td>2019.0</td>\n",
       "      <td>825844.0</td>\n",
       "    </tr>\n",
       "    <tr>\n",
       "      <th>2530</th>\n",
       "      <td>sioutis coatings</td>\n",
       "      <td>1</td>\n",
       "      <td>sioutis coatings</td>\n",
       "      <td>2019.0</td>\n",
       "      <td>804514.0</td>\n",
       "    </tr>\n",
       "    <tr>\n",
       "      <th>3076</th>\n",
       "      <td>wong fleming p c</td>\n",
       "      <td>0.877663</td>\n",
       "      <td>wong fleming</td>\n",
       "      <td>2019.0</td>\n",
       "      <td>820989.0</td>\n",
       "    </tr>\n",
       "  </tbody>\n",
       "</table>\n",
       "</div>"
      ],
      "text/plain": [
       "                            company_name_x match_probability  \\\n",
       "registry_id                                                    \n",
       "35                            a m painting          0.852668   \n",
       "51                        abc construction                 1   \n",
       "56                                abstract                 1   \n",
       "104            advantage building facility                 1   \n",
       "668                          collaborative          0.859109   \n",
       "914            dw environmental consulting          0.856184   \n",
       "1155         garden state highway products                 1   \n",
       "1265                          h s cleaning          0.869138   \n",
       "1951                      myers constructs          0.901206   \n",
       "2005                      nico landscaping                 1   \n",
       "2299             r r contracting utilities                 1   \n",
       "2343                      reliable transit             0.908   \n",
       "2443                    salt design studio                 1   \n",
       "2530                      sioutis coatings                 1   \n",
       "3076                      wong fleming p c          0.877663   \n",
       "\n",
       "                            company_name_y  issue_year  license_num  \n",
       "registry_id                                                          \n",
       "35                              m painting      2019.0     808498.0  \n",
       "51                        abc construction      2019.0     824402.0  \n",
       "56                                abstract      2019.0     814936.0  \n",
       "104            advantage building facility      2019.0     820119.0  \n",
       "668                       oz collaborative      2019.0     825349.0  \n",
       "914               environmental consulting      2019.0     804696.0  \n",
       "1155         garden state highway products      2019.0     820258.0  \n",
       "1265                          l s cleaning      2019.0     827771.0  \n",
       "1951                    myers construction      2019.0     818308.0  \n",
       "2005                      nico landscaping      2019.0     810366.0  \n",
       "2299             r r contracting utilities      2019.0     804256.0  \n",
       "2343                   gs reliable transit      2019.0     821288.0  \n",
       "2443                    salt design studio      2019.0     825844.0  \n",
       "2530                      sioutis coatings      2019.0     804514.0  \n",
       "3076                          wong fleming      2019.0     820989.0  "
      ]
     },
     "execution_count": 224,
     "metadata": {},
     "output_type": "execute_result"
    }
   ],
   "source": [
    "result_before[['company_name_x', 'match_probability', 'company_name_y', 'issue_year', 'license_num']]"
   ]
  },
  {
   "cell_type": "code",
   "execution_count": 175,
   "metadata": {},
   "outputs": [],
   "source": [
    "result_after = matched.loc[diff]"
   ]
  },
  {
   "cell_type": "code",
   "execution_count": 223,
   "metadata": {},
   "outputs": [
    {
     "data": {
      "text/html": [
       "<div>\n",
       "<style scoped>\n",
       "    .dataframe tbody tr th:only-of-type {\n",
       "        vertical-align: middle;\n",
       "    }\n",
       "\n",
       "    .dataframe tbody tr th {\n",
       "        vertical-align: top;\n",
       "    }\n",
       "\n",
       "    .dataframe thead th {\n",
       "        text-align: right;\n",
       "    }\n",
       "</style>\n",
       "<table border=\"1\" class=\"dataframe\">\n",
       "  <thead>\n",
       "    <tr style=\"text-align: right;\">\n",
       "      <th></th>\n",
       "      <th>company_name_x</th>\n",
       "      <th>match_probability</th>\n",
       "      <th>company_name_y</th>\n",
       "      <th>issue_year</th>\n",
       "      <th>license_num</th>\n",
       "    </tr>\n",
       "    <tr>\n",
       "      <th>registry_id</th>\n",
       "      <th></th>\n",
       "      <th></th>\n",
       "      <th></th>\n",
       "      <th></th>\n",
       "      <th></th>\n",
       "    </tr>\n",
       "  </thead>\n",
       "  <tbody>\n",
       "    <tr>\n",
       "      <th>35</th>\n",
       "      <td>a m painting</td>\n",
       "      <td>0.877283</td>\n",
       "      <td>t m painting</td>\n",
       "      <td>2008</td>\n",
       "      <td>451977.0</td>\n",
       "    </tr>\n",
       "    <tr>\n",
       "      <th>51</th>\n",
       "      <td>abc construction</td>\n",
       "      <td>1.000000</td>\n",
       "      <td>abc construction</td>\n",
       "      <td>1994</td>\n",
       "      <td>10250.0</td>\n",
       "    </tr>\n",
       "    <tr>\n",
       "      <th>56</th>\n",
       "      <td>abstract</td>\n",
       "      <td>1.000000</td>\n",
       "      <td>abstract</td>\n",
       "      <td>2010</td>\n",
       "      <td>513161.0</td>\n",
       "    </tr>\n",
       "    <tr>\n",
       "      <th>104</th>\n",
       "      <td>advantage building facility</td>\n",
       "      <td>1.000000</td>\n",
       "      <td>advantage building facility</td>\n",
       "      <td>2013</td>\n",
       "      <td>591196.0</td>\n",
       "    </tr>\n",
       "    <tr>\n",
       "      <th>668</th>\n",
       "      <td>collaborative</td>\n",
       "      <td>1.000000</td>\n",
       "      <td>collaborative</td>\n",
       "      <td>2004</td>\n",
       "      <td>157918.0</td>\n",
       "    </tr>\n",
       "    <tr>\n",
       "      <th>914</th>\n",
       "      <td>dw environmental consulting</td>\n",
       "      <td>0.872052</td>\n",
       "      <td>environmental consulting</td>\n",
       "      <td>1999</td>\n",
       "      <td>121391.0</td>\n",
       "    </tr>\n",
       "    <tr>\n",
       "      <th>1155</th>\n",
       "      <td>garden state highway products</td>\n",
       "      <td>1.000000</td>\n",
       "      <td>garden state highway products</td>\n",
       "      <td>2002</td>\n",
       "      <td>2191.0</td>\n",
       "    </tr>\n",
       "    <tr>\n",
       "      <th>1265</th>\n",
       "      <td>h s cleaning</td>\n",
       "      <td>1.000000</td>\n",
       "      <td>h s cleaning</td>\n",
       "      <td>2004</td>\n",
       "      <td>194629.0</td>\n",
       "    </tr>\n",
       "    <tr>\n",
       "      <th>1951</th>\n",
       "      <td>myers constructs</td>\n",
       "      <td>1.000000</td>\n",
       "      <td>myers constructs</td>\n",
       "      <td>1997</td>\n",
       "      <td>104018.0</td>\n",
       "    </tr>\n",
       "    <tr>\n",
       "      <th>2005</th>\n",
       "      <td>nico landscaping</td>\n",
       "      <td>1.000000</td>\n",
       "      <td>nico landscaping</td>\n",
       "      <td>2005</td>\n",
       "      <td>19972.0</td>\n",
       "    </tr>\n",
       "    <tr>\n",
       "      <th>2299</th>\n",
       "      <td>r r contracting utilities</td>\n",
       "      <td>1.000000</td>\n",
       "      <td>r r contracting utilities</td>\n",
       "      <td>2010</td>\n",
       "      <td>513784.0</td>\n",
       "    </tr>\n",
       "    <tr>\n",
       "      <th>2343</th>\n",
       "      <td>reliable transit</td>\n",
       "      <td>1.000000</td>\n",
       "      <td>reliable transit</td>\n",
       "      <td>2011</td>\n",
       "      <td>544594.0</td>\n",
       "    </tr>\n",
       "    <tr>\n",
       "      <th>2443</th>\n",
       "      <td>salt design studio</td>\n",
       "      <td>1.000000</td>\n",
       "      <td>salt design studio</td>\n",
       "      <td>2004</td>\n",
       "      <td>171930.0</td>\n",
       "    </tr>\n",
       "    <tr>\n",
       "      <th>2530</th>\n",
       "      <td>sioutis coatings</td>\n",
       "      <td>1.000000</td>\n",
       "      <td>sioutis coatings</td>\n",
       "      <td>2010</td>\n",
       "      <td>170579.0</td>\n",
       "    </tr>\n",
       "    <tr>\n",
       "      <th>3076</th>\n",
       "      <td>wong fleming p c</td>\n",
       "      <td>1.000000</td>\n",
       "      <td>wong fleming p c</td>\n",
       "      <td>2005</td>\n",
       "      <td>310461.0</td>\n",
       "    </tr>\n",
       "  </tbody>\n",
       "</table>\n",
       "</div>"
      ],
      "text/plain": [
       "                            company_name_x  match_probability  \\\n",
       "registry_id                                                     \n",
       "35                            a m painting           0.877283   \n",
       "51                        abc construction           1.000000   \n",
       "56                                abstract           1.000000   \n",
       "104            advantage building facility           1.000000   \n",
       "668                          collaborative           1.000000   \n",
       "914            dw environmental consulting           0.872052   \n",
       "1155         garden state highway products           1.000000   \n",
       "1265                          h s cleaning           1.000000   \n",
       "1951                      myers constructs           1.000000   \n",
       "2005                      nico landscaping           1.000000   \n",
       "2299             r r contracting utilities           1.000000   \n",
       "2343                      reliable transit           1.000000   \n",
       "2443                    salt design studio           1.000000   \n",
       "2530                      sioutis coatings           1.000000   \n",
       "3076                      wong fleming p c           1.000000   \n",
       "\n",
       "                            company_name_y  issue_year  license_num  \n",
       "registry_id                                                          \n",
       "35                            t m painting        2008     451977.0  \n",
       "51                        abc construction        1994      10250.0  \n",
       "56                                abstract        2010     513161.0  \n",
       "104            advantage building facility        2013     591196.0  \n",
       "668                          collaborative        2004     157918.0  \n",
       "914               environmental consulting        1999     121391.0  \n",
       "1155         garden state highway products        2002       2191.0  \n",
       "1265                          h s cleaning        2004     194629.0  \n",
       "1951                      myers constructs        1997     104018.0  \n",
       "2005                      nico landscaping        2005      19972.0  \n",
       "2299             r r contracting utilities        2010     513784.0  \n",
       "2343                      reliable transit        2011     544594.0  \n",
       "2443                    salt design studio        2004     171930.0  \n",
       "2530                      sioutis coatings        2010     170579.0  \n",
       "3076                      wong fleming p c        2005     310461.0  "
      ]
     },
     "execution_count": 223,
     "metadata": {},
     "output_type": "execute_result"
    }
   ],
   "source": [
    "result_after[['company_name_x', 'match_probability', 'company_name_y', 'issue_year', 'license_num']]"
   ]
  },
  {
   "cell_type": "markdown",
   "metadata": {},
   "source": [
    "### b) Does one company have multiple licenses?"
   ]
  },
  {
   "cell_type": "code",
   "execution_count": 219,
   "metadata": {},
   "outputs": [],
   "source": [
    "license_duplicates = cleaned_license[cleaned_license.license_num.duplicated()]"
   ]
  },
  {
   "cell_type": "code",
   "execution_count": 222,
   "metadata": {},
   "outputs": [
    {
     "data": {
      "text/html": [
       "<div>\n",
       "<style scoped>\n",
       "    .dataframe tbody tr th:only-of-type {\n",
       "        vertical-align: middle;\n",
       "    }\n",
       "\n",
       "    .dataframe tbody tr th {\n",
       "        vertical-align: top;\n",
       "    }\n",
       "\n",
       "    .dataframe thead th {\n",
       "        text-align: right;\n",
       "    }\n",
       "</style>\n",
       "<table border=\"1\" class=\"dataframe\">\n",
       "  <thead>\n",
       "    <tr style=\"text-align: right;\">\n",
       "      <th></th>\n",
       "      <th>license_num</th>\n",
       "      <th>issue_date</th>\n",
       "      <th>license_status</th>\n",
       "      <th>company_name</th>\n",
       "    </tr>\n",
       "  </thead>\n",
       "  <tbody>\n",
       "    <tr>\n",
       "      <th>76960</th>\n",
       "      <td>NaN</td>\n",
       "      <td>2005-01-28 00:00:00+00:00</td>\n",
       "      <td>Active</td>\n",
       "      <td>reimar f duerr</td>\n",
       "    </tr>\n",
       "    <tr>\n",
       "      <th>118761</th>\n",
       "      <td>NaN</td>\n",
       "      <td>2007-08-28 00:00:00+00:00</td>\n",
       "      <td>Active</td>\n",
       "      <td>mc fashion</td>\n",
       "    </tr>\n",
       "    <tr>\n",
       "      <th>123230</th>\n",
       "      <td>NaN</td>\n",
       "      <td>2008-04-07 00:00:00+00:00</td>\n",
       "      <td>Active</td>\n",
       "      <td>vincent and susan ross</td>\n",
       "    </tr>\n",
       "    <tr>\n",
       "      <th>123246</th>\n",
       "      <td>NaN</td>\n",
       "      <td>2008-04-08 00:00:00+00:00</td>\n",
       "      <td>Active</td>\n",
       "      <td>net communications</td>\n",
       "    </tr>\n",
       "    <tr>\n",
       "      <th>126252</th>\n",
       "      <td>NaN</td>\n",
       "      <td>2008-08-22 00:00:00+00:00</td>\n",
       "      <td>Active</td>\n",
       "      <td>american waste consultants</td>\n",
       "    </tr>\n",
       "    <tr>\n",
       "      <th>130167</th>\n",
       "      <td>NaN</td>\n",
       "      <td>2009-06-02 00:00:00+00:00</td>\n",
       "      <td>Active</td>\n",
       "      <td>lypyak ruvim</td>\n",
       "    </tr>\n",
       "    <tr>\n",
       "      <th>136107</th>\n",
       "      <td>NaN</td>\n",
       "      <td>2010-06-04 00:00:00+00:00</td>\n",
       "      <td>Active</td>\n",
       "      <td>b k pizza</td>\n",
       "    </tr>\n",
       "    <tr>\n",
       "      <th>136120</th>\n",
       "      <td>NaN</td>\n",
       "      <td>2010-06-04 00:00:00+00:00</td>\n",
       "      <td>Active</td>\n",
       "      <td>bernstein engineering</td>\n",
       "    </tr>\n",
       "    <tr>\n",
       "      <th>142876</th>\n",
       "      <td>NaN</td>\n",
       "      <td>2011-08-09 00:00:00+00:00</td>\n",
       "      <td>Active</td>\n",
       "      <td>hk wireless</td>\n",
       "    </tr>\n",
       "    <tr>\n",
       "      <th>148314</th>\n",
       "      <td>NaN</td>\n",
       "      <td>2012-06-25 00:00:00+00:00</td>\n",
       "      <td>Active</td>\n",
       "      <td>communication first</td>\n",
       "    </tr>\n",
       "    <tr>\n",
       "      <th>159045</th>\n",
       "      <td>NaN</td>\n",
       "      <td>2014-03-17 00:00:00+00:00</td>\n",
       "      <td>Active</td>\n",
       "      <td>ultrabeauty spa and sale</td>\n",
       "    </tr>\n",
       "    <tr>\n",
       "      <th>173660</th>\n",
       "      <td>NaN</td>\n",
       "      <td>2016-02-24 00:00:00+00:00</td>\n",
       "      <td>Active</td>\n",
       "      <td>capital p management</td>\n",
       "    </tr>\n",
       "  </tbody>\n",
       "</table>\n",
       "</div>"
      ],
      "text/plain": [
       "        license_num                issue_date license_status  \\\n",
       "76960           NaN 2005-01-28 00:00:00+00:00         Active   \n",
       "118761          NaN 2007-08-28 00:00:00+00:00         Active   \n",
       "123230          NaN 2008-04-07 00:00:00+00:00         Active   \n",
       "123246          NaN 2008-04-08 00:00:00+00:00         Active   \n",
       "126252          NaN 2008-08-22 00:00:00+00:00         Active   \n",
       "130167          NaN 2009-06-02 00:00:00+00:00         Active   \n",
       "136107          NaN 2010-06-04 00:00:00+00:00         Active   \n",
       "136120          NaN 2010-06-04 00:00:00+00:00         Active   \n",
       "142876          NaN 2011-08-09 00:00:00+00:00         Active   \n",
       "148314          NaN 2012-06-25 00:00:00+00:00         Active   \n",
       "159045          NaN 2014-03-17 00:00:00+00:00         Active   \n",
       "173660          NaN 2016-02-24 00:00:00+00:00         Active   \n",
       "\n",
       "                      company_name  \n",
       "76960               reimar f duerr  \n",
       "118761                  mc fashion  \n",
       "123230      vincent and susan ross  \n",
       "123246          net communications  \n",
       "126252  american waste consultants  \n",
       "130167                lypyak ruvim  \n",
       "136107                   b k pizza  \n",
       "136120       bernstein engineering  \n",
       "142876                 hk wireless  \n",
       "148314         communication first  \n",
       "159045    ultrabeauty spa and sale  \n",
       "173660        capital p management  "
      ]
     },
     "execution_count": 222,
     "metadata": {},
     "output_type": "execute_result"
    }
   ],
   "source": [
    "license_duplicates"
   ]
  },
  {
   "cell_type": "code",
   "execution_count": 220,
   "metadata": {},
   "outputs": [
    {
     "data": {
      "text/plain": [
       "12"
      ]
     },
     "execution_count": 220,
     "metadata": {},
     "output_type": "execute_result"
    }
   ],
   "source": [
    "len(license_duplicates)"
   ]
  },
  {
   "cell_type": "markdown",
   "metadata": {},
   "source": [
    "##### 12 license duplicates but all nan licenses so there is no real license duplicates"
   ]
  },
  {
   "cell_type": "code",
   "execution_count": 203,
   "metadata": {},
   "outputs": [],
   "source": [
    "license_groupby_company = cleaned_license.groupby('company_name').size().to_frame('N')"
   ]
  },
  {
   "cell_type": "code",
   "execution_count": 221,
   "metadata": {
    "scrolled": true
   },
   "outputs": [
    {
     "data": {
      "text/plain": [
       "8500"
      ]
     },
     "execution_count": 221,
     "metadata": {},
     "output_type": "execute_result"
    }
   ],
   "source": [
    "len(license_groupby_company[license_groupby_company.N > 1])"
   ]
  },
  {
   "cell_type": "markdown",
   "metadata": {},
   "source": [
    "##### there are companies which have more than 1 license. However, since we know that there is no same license numbers, so we know that some companies have multiple licenses."
   ]
  },
  {
   "cell_type": "markdown",
   "metadata": {},
   "source": [
    "### c) Companies having multiple license issue_year - mostly different license number\n",
    "See how much companies are like this and consider to take the most recent year"
   ]
  },
  {
   "cell_type": "code",
   "execution_count": 6,
   "metadata": {},
   "outputs": [],
   "source": [
    "t1 = time.time()\n",
    "merged_4_matches = (\n",
    "    skool.tf_idf_merge(cleaned_registry, cleaned_license, on=\"company_name\", score_cutoff=85, max_matches=4)\n",
    "    .pipe(skool.tf_idf_merge, cleaned_registry, cleaned_license, left_on=\"dba_name\", right_on=\"company_name\", score_cutoff=85, max_matches=4)\n",
    ")\n",
    "t = time.time() - t1"
   ]
  },
  {
   "cell_type": "code",
   "execution_count": 7,
   "metadata": {},
   "outputs": [
    {
     "name": "stdout",
     "output_type": "stream",
     "text": [
      "Execution time: 3.5883587559064227 min\n"
     ]
    }
   ],
   "source": [
    "print('Execution time:', t/60, 'min')"
   ]
  },
  {
   "cell_type": "code",
   "execution_count": 8,
   "metadata": {},
   "outputs": [],
   "source": [
    "matched_4_matches = merged_4_matches.dropna(subset=['company_name_y'])"
   ]
  },
  {
   "cell_type": "code",
   "execution_count": 9,
   "metadata": {},
   "outputs": [
    {
     "data": {
      "text/plain": [
       "1858"
      ]
     },
     "execution_count": 9,
     "metadata": {},
     "output_type": "execute_result"
    }
   ],
   "source": [
    "len(matched_4_matches)"
   ]
  },
  {
   "cell_type": "markdown",
   "metadata": {},
   "source": [
    "##### checking tf-idf merge is working properly"
   ]
  },
  {
   "cell_type": "code",
   "execution_count": 10,
   "metadata": {},
   "outputs": [],
   "source": [
    "company_license_n = matched_4_matches.groupby('company_name_x').size().to_frame('N').reset_index()"
   ]
  },
  {
   "cell_type": "code",
   "execution_count": 11,
   "metadata": {},
   "outputs": [
    {
     "data": {
      "text/html": [
       "<div>\n",
       "<style scoped>\n",
       "    .dataframe tbody tr th:only-of-type {\n",
       "        vertical-align: middle;\n",
       "    }\n",
       "\n",
       "    .dataframe tbody tr th {\n",
       "        vertical-align: top;\n",
       "    }\n",
       "\n",
       "    .dataframe thead th {\n",
       "        text-align: right;\n",
       "    }\n",
       "</style>\n",
       "<table border=\"1\" class=\"dataframe\">\n",
       "  <thead>\n",
       "    <tr style=\"text-align: right;\">\n",
       "      <th></th>\n",
       "      <th>company_name_x</th>\n",
       "      <th>N</th>\n",
       "    </tr>\n",
       "  </thead>\n",
       "  <tbody>\n",
       "    <tr>\n",
       "      <th>9</th>\n",
       "      <td>a c environmental</td>\n",
       "      <td>3</td>\n",
       "    </tr>\n",
       "    <tr>\n",
       "      <th>10</th>\n",
       "      <td>a g consulting engineering</td>\n",
       "      <td>2</td>\n",
       "    </tr>\n",
       "    <tr>\n",
       "      <th>14</th>\n",
       "      <td>a m electric</td>\n",
       "      <td>2</td>\n",
       "    </tr>\n",
       "    <tr>\n",
       "      <th>15</th>\n",
       "      <td>a m painting</td>\n",
       "      <td>4</td>\n",
       "    </tr>\n",
       "    <tr>\n",
       "      <th>16</th>\n",
       "      <td>a m truck auto repair</td>\n",
       "      <td>2</td>\n",
       "    </tr>\n",
       "    <tr>\n",
       "      <th>...</th>\n",
       "      <td>...</td>\n",
       "      <td>...</td>\n",
       "    </tr>\n",
       "    <tr>\n",
       "      <th>1469</th>\n",
       "      <td>west chester environmental</td>\n",
       "      <td>2</td>\n",
       "    </tr>\n",
       "    <tr>\n",
       "      <th>1478</th>\n",
       "      <td>winzinger</td>\n",
       "      <td>4</td>\n",
       "    </tr>\n",
       "    <tr>\n",
       "      <th>1480</th>\n",
       "      <td>wong fleming p c</td>\n",
       "      <td>2</td>\n",
       "    </tr>\n",
       "    <tr>\n",
       "      <th>1490</th>\n",
       "      <td>yikes</td>\n",
       "      <td>2</td>\n",
       "    </tr>\n",
       "    <tr>\n",
       "      <th>1496</th>\n",
       "      <td>zizza highway</td>\n",
       "      <td>2</td>\n",
       "    </tr>\n",
       "  </tbody>\n",
       "</table>\n",
       "<p>262 rows × 2 columns</p>\n",
       "</div>"
      ],
      "text/plain": [
       "                  company_name_x  N\n",
       "9              a c environmental  3\n",
       "10    a g consulting engineering  2\n",
       "14                  a m electric  2\n",
       "15                  a m painting  4\n",
       "16         a m truck auto repair  2\n",
       "...                          ... ..\n",
       "1469  west chester environmental  2\n",
       "1478                   winzinger  4\n",
       "1480            wong fleming p c  2\n",
       "1490                       yikes  2\n",
       "1496               zizza highway  2\n",
       "\n",
       "[262 rows x 2 columns]"
      ]
     },
     "execution_count": 11,
     "metadata": {},
     "output_type": "execute_result"
    }
   ],
   "source": [
    "company_license_n[company_license_n.N > 1]"
   ]
  },
  {
   "cell_type": "code",
   "execution_count": 12,
   "metadata": {},
   "outputs": [
    {
     "data": {
      "text/html": [
       "<div>\n",
       "<style scoped>\n",
       "    .dataframe tbody tr th:only-of-type {\n",
       "        vertical-align: middle;\n",
       "    }\n",
       "\n",
       "    .dataframe tbody tr th {\n",
       "        vertical-align: top;\n",
       "    }\n",
       "\n",
       "    .dataframe thead th {\n",
       "        text-align: right;\n",
       "    }\n",
       "</style>\n",
       "<table border=\"1\" class=\"dataframe\">\n",
       "  <thead>\n",
       "    <tr style=\"text-align: right;\">\n",
       "      <th></th>\n",
       "      <th>company_name_x</th>\n",
       "      <th>N</th>\n",
       "    </tr>\n",
       "  </thead>\n",
       "  <tbody>\n",
       "    <tr>\n",
       "      <th>21</th>\n",
       "      <td>abc construction</td>\n",
       "      <td>4</td>\n",
       "    </tr>\n",
       "  </tbody>\n",
       "</table>\n",
       "</div>"
      ],
      "text/plain": [
       "      company_name_x  N\n",
       "21  abc construction  4"
      ]
     },
     "execution_count": 12,
     "metadata": {},
     "output_type": "execute_result"
    }
   ],
   "source": [
    "company_license_n[company_license_n.company_name_x == 'abc construction']"
   ]
  },
  {
   "cell_type": "markdown",
   "metadata": {},
   "source": [
    "### d) Trends of Companies with multiple licenses"
   ]
  },
  {
   "cell_type": "code",
   "execution_count": 70,
   "metadata": {},
   "outputs": [],
   "source": [
    "t1 = time.time()\n",
    "merged_4_matches = (\n",
    "    skool.tf_idf_merge(cleaned_registry, cleaned_license, on=\"company_name\", score_cutoff=85, max_matches=4)\n",
    "    .pipe(skool.tf_idf_merge, cleaned_registry, cleaned_license, left_on=\"dba_name\", right_on=\"company_name\", score_cutoff=85, max_matches=4)\n",
    ")\n",
    "t = time.time() - t1"
   ]
  },
  {
   "cell_type": "code",
   "execution_count": 114,
   "metadata": {},
   "outputs": [],
   "source": [
    "duplicates = merged_4_matches[merged_4_matches.duplicated(subset=['company_name_x'], keep=False)]"
   ]
  },
  {
   "cell_type": "code",
   "execution_count": 118,
   "metadata": {
    "scrolled": false
   },
   "outputs": [
    {
     "data": {
      "text/plain": [
       "621"
      ]
     },
     "execution_count": 118,
     "metadata": {},
     "output_type": "execute_result"
    }
   ],
   "source": [
    "len(duplicates)"
   ]
  },
  {
   "cell_type": "code",
   "execution_count": 119,
   "metadata": {},
   "outputs": [],
   "source": [
    "# getting only active licenses\n",
    "duplicates_active = duplicates[duplicates.license_status == 'Active']"
   ]
  },
  {
   "cell_type": "code",
   "execution_count": 122,
   "metadata": {},
   "outputs": [
    {
     "data": {
      "text/plain": [
       "608"
      ]
     },
     "execution_count": 122,
     "metadata": {},
     "output_type": "execute_result"
    }
   ],
   "source": [
    "len(duplicates_active)"
   ]
  },
  {
   "cell_type": "code",
   "execution_count": 165,
   "metadata": {},
   "outputs": [],
   "source": [
    "license_n = duplicates_active.groupby('company_name_x').size().to_frame('N').reset_index()"
   ]
  },
  {
   "cell_type": "code",
   "execution_count": 166,
   "metadata": {},
   "outputs": [
    {
     "data": {
      "text/plain": [
       "262"
      ]
     },
     "execution_count": 166,
     "metadata": {},
     "output_type": "execute_result"
    }
   ],
   "source": [
    "len(license_n)"
   ]
  },
  {
   "cell_type": "code",
   "execution_count": 167,
   "metadata": {},
   "outputs": [],
   "source": [
    "sns.set(color_codes=True)"
   ]
  },
  {
   "cell_type": "code",
   "execution_count": 168,
   "metadata": {},
   "outputs": [
    {
     "data": {
      "image/png": "[encoded data removed]",
      "text/plain": [
       "<Figure size 432x288 with 1 Axes>"
      ]
     },
     "metadata": {},
     "output_type": "display_data"
    }
   ],
   "source": [
    "ax = sns.distplot(license_duplicates.N, kde=False, rug=True, bins = 4)\n",
    "ax.set(xlabel='Number of License Duplicates', ylabel='Number of Company')\n",
    "\n",
    "plt.show()"
   ]
  },
  {
   "cell_type": "markdown",
   "metadata": {},
   "source": [
    "#### Question: how is it possible to have more than 4 license duplicates with max-matches=4?"
   ]
  },
  {
   "cell_type": "markdown",
   "metadata": {},
   "source": [
    "### e) Trends of Issue Year in license duplicates - Histogram"
   ]
  },
  {
   "cell_type": "markdown",
   "metadata": {},
   "source": [
    "#### Create Year Column by extracing it from issue_date"
   ]
  },
  {
   "cell_type": "code",
   "execution_count": 123,
   "metadata": {
    "scrolled": true
   },
   "outputs": [
    {
     "name": "stderr",
     "output_type": "stream",
     "text": [
      "C:\\Users\\dabinlee\\AppData\\Local\\Continuum\\anaconda3\\lib\\site-packages\\ipykernel_launcher.py:1: SettingWithCopyWarning: \n",
      "A value is trying to be set on a copy of a slice from a DataFrame.\n",
      "Try using .loc[row_indexer,col_indexer] = value instead\n",
      "\n",
      "See the caveats in the documentation: http://pandas.pydata.org/pandas-docs/stable/user_guide/indexing.html#returning-a-view-versus-a-copy\n",
      "  \"\"\"Entry point for launching an IPython kernel.\n"
     ]
    }
   ],
   "source": [
    "duplicates_active['issue_year'] = duplicates_active['issue_date'].dt.year"
   ]
  },
  {
   "cell_type": "markdown",
   "metadata": {},
   "source": [
    "#### All years"
   ]
  },
  {
   "cell_type": "code",
   "execution_count": 157,
   "metadata": {},
   "outputs": [
    {
     "data": {
      "image/png": "[encoded data removed]",
      "text/plain": [
       "<Figure size 432x288 with 1 Axes>"
      ]
     },
     "metadata": {},
     "output_type": "display_data"
    }
   ],
   "source": [
    "ax = sns.distplot(duplicates_active.issue_year, kde=False, rug=True)\n",
    "ax.set(xlabel='Issue Year', ylabel='Number of Company')\n",
    "\n",
    "plt.show()"
   ]
  },
  {
   "cell_type": "markdown",
   "metadata": {},
   "source": [
    "#### Difference between min issue year and max issue year trends"
   ]
  },
  {
   "cell_type": "code",
   "execution_count": 141,
   "metadata": {},
   "outputs": [],
   "source": [
    "min_year = duplicates_active.groupby('company_name_x')['issue_year'].min().to_frame('min_issue_year').reset_index()"
   ]
  },
  {
   "cell_type": "code",
   "execution_count": 145,
   "metadata": {},
   "outputs": [],
   "source": [
    "max_years = duplicates_active.groupby('company_name_x')['issue_year'].max().to_frame('max_issue_year').reset_index()"
   ]
  },
  {
   "cell_type": "code",
   "execution_count": 147,
   "metadata": {},
   "outputs": [],
   "source": [
    "years = min_year.merge(max_years, on='company_name_x')"
   ]
  },
  {
   "cell_type": "code",
   "execution_count": 152,
   "metadata": {},
   "outputs": [],
   "source": [
    "years['diff_issue_year'] = years.max_issue_year - years.min_issue_year"
   ]
  },
  {
   "cell_type": "code",
   "execution_count": 161,
   "metadata": {},
   "outputs": [
    {
     "data": {
      "text/html": [
       "<div>\n",
       "<style scoped>\n",
       "    .dataframe tbody tr th:only-of-type {\n",
       "        vertical-align: middle;\n",
       "    }\n",
       "\n",
       "    .dataframe tbody tr th {\n",
       "        vertical-align: top;\n",
       "    }\n",
       "\n",
       "    .dataframe thead th {\n",
       "        text-align: right;\n",
       "    }\n",
       "</style>\n",
       "<table border=\"1\" class=\"dataframe\">\n",
       "  <thead>\n",
       "    <tr style=\"text-align: right;\">\n",
       "      <th></th>\n",
       "      <th>company_name_x</th>\n",
       "      <th>min_issue_year</th>\n",
       "      <th>max_issue_year</th>\n",
       "      <th>diff_issue_year</th>\n",
       "    </tr>\n",
       "  </thead>\n",
       "  <tbody>\n",
       "    <tr>\n",
       "      <th>0</th>\n",
       "      <td>a c environmental</td>\n",
       "      <td>1996</td>\n",
       "      <td>2007</td>\n",
       "      <td>11</td>\n",
       "    </tr>\n",
       "    <tr>\n",
       "      <th>1</th>\n",
       "      <td>a g consulting engineering</td>\n",
       "      <td>2004</td>\n",
       "      <td>2008</td>\n",
       "      <td>4</td>\n",
       "    </tr>\n",
       "    <tr>\n",
       "      <th>2</th>\n",
       "      <td>a m electric</td>\n",
       "      <td>1995</td>\n",
       "      <td>2005</td>\n",
       "      <td>10</td>\n",
       "    </tr>\n",
       "    <tr>\n",
       "      <th>3</th>\n",
       "      <td>a m painting</td>\n",
       "      <td>1998</td>\n",
       "      <td>2019</td>\n",
       "      <td>21</td>\n",
       "    </tr>\n",
       "    <tr>\n",
       "      <th>4</th>\n",
       "      <td>a m truck auto repair</td>\n",
       "      <td>2000</td>\n",
       "      <td>2008</td>\n",
       "      <td>8</td>\n",
       "    </tr>\n",
       "  </tbody>\n",
       "</table>\n",
       "</div>"
      ],
      "text/plain": [
       "               company_name_x  min_issue_year  max_issue_year  diff_issue_year\n",
       "0           a c environmental            1996            2007               11\n",
       "1  a g consulting engineering            2004            2008                4\n",
       "2                a m electric            1995            2005               10\n",
       "3                a m painting            1998            2019               21\n",
       "4       a m truck auto repair            2000            2008                8"
      ]
     },
     "execution_count": 161,
     "metadata": {},
     "output_type": "execute_result"
    }
   ],
   "source": [
    "years.head()"
   ]
  },
  {
   "cell_type": "code",
   "execution_count": 159,
   "metadata": {},
   "outputs": [
    {
     "data": {
      "image/png": "[encoded data removed]",
      "text/plain": [
       "<Figure size 432x288 with 1 Axes>"
      ]
     },
     "metadata": {},
     "output_type": "display_data"
    }
   ],
   "source": [
    "ax = sns.distplot(years.diff_issue_year, kde=False, rug=True, bins=25)\n",
    "ax.set(xlabel='Year Difference', ylabel='Number of Company')\n",
    "\n",
    "plt.show()"
   ]
  },
  {
   "cell_type": "code",
   "execution_count": null,
   "metadata": {},
   "outputs": [],
   "source": []
  }
 ],
 "metadata": {
  "kernelspec": {
   "display_name": "Python 3",
   "language": "python",
   "name": "python3"
  },
  "language_info": {
   "codemirror_mode": {
    "name": "ipython",
    "version": 3
   },
   "file_extension": ".py",
   "mimetype": "text/x-python",
   "name": "python",
   "nbconvert_exporter": "python",
   "pygments_lexer": "ipython3",
   "version": "3.7.4"
  }
 },
 "nbformat": 4,
 "nbformat_minor": 2
}
