{
 "cells": [
  {
   "cell_type": "code",
   "execution_count": 1,
   "metadata": {},
   "outputs": [],
   "source": [
    "import mwdsbe\n",
    "import schuylkill as skool\n",
    "import pandas as pd\n",
    "import time"
   ]
  },
  {
   "cell_type": "code",
   "execution_count": 2,
   "metadata": {},
   "outputs": [],
   "source": [
    "from matplotlib import pyplot as plt\n",
    "import seaborn as sns"
   ]
  },
  {
   "cell_type": "markdown",
   "metadata": {},
   "source": [
    "## Functions"
   ]
  },
  {
   "cell_type": "code",
   "execution_count": 3,
   "metadata": {},
   "outputs": [],
   "source": [
    "def drop_duplicates_by_date(df, date_column):\n",
    "    df.sort_values(by=date_column, ascending=False, inplace=True)\n",
    "    df = df.loc[~df.index.duplicated(keep=\"first\")]\n",
    "    df.sort_index(inplace=True)\n",
    "    return df"
   ]
  },
  {
   "cell_type": "markdown",
   "metadata": {},
   "source": [
    "## Data"
   ]
  },
  {
   "cell_type": "code",
   "execution_count": 4,
   "metadata": {},
   "outputs": [],
   "source": [
    "registry = mwdsbe.load_registry() # geopandas df"
   ]
  },
  {
   "cell_type": "code",
   "execution_count": 10,
   "metadata": {},
   "outputs": [],
   "source": [
    "payments = pd.read_csv(r'C:\\Users\\dabinlee\\Documents\\GitHub\\mwdsbe\\mwdsbe\\data\\Payments\\city_payments_detailed_2017.csv')"
   ]
  },
  {
   "cell_type": "code",
   "execution_count": 6,
   "metadata": {
    "scrolled": true
   },
   "outputs": [
    {
     "data": {
      "text/plain": [
       "238894"
      ]
     },
     "execution_count": 6,
     "metadata": {},
     "output_type": "execute_result"
    }
   ],
   "source": [
    "len(payments)"
   ]
  },
  {
   "cell_type": "markdown",
   "metadata": {},
   "source": [
    "##### Clean Data"
   ]
  },
  {
   "cell_type": "code",
   "execution_count": 7,
   "metadata": {},
   "outputs": [],
   "source": [
    "ignore_words = ['inc', 'group', 'llc', 'corp', 'pc', 'incorporated', 'ltd', 'co', 'associates', 'services', 'company', 'enterprises', 'enterprise', 'service', 'corporation']\n",
    "cleaned_registry = skool.clean_strings(registry, ['company_name', 'dba_name'], True, ignore_words)\n",
    "cleaned_payments = skool.clean_strings(payments, ['vendor_name'], True, ignore_words)\n",
    "\n",
    "cleaned_registry = cleaned_registry.dropna(subset=['company_name'])\n",
    "cleaned_payments = cleaned_payments.dropna(subset=['vendor_name'])"
   ]
  },
  {
   "cell_type": "code",
   "execution_count": 8,
   "metadata": {
    "scrolled": true
   },
   "outputs": [
    {
     "data": {
      "text/html": [
       "<div>\n",
       "<style scoped>\n",
       "    .dataframe tbody tr th:only-of-type {\n",
       "        vertical-align: middle;\n",
       "    }\n",
       "\n",
       "    .dataframe tbody tr th {\n",
       "        vertical-align: top;\n",
       "    }\n",
       "\n",
       "    .dataframe thead th {\n",
       "        text-align: right;\n",
       "    }\n",
       "</style>\n",
       "<table border=\"1\" class=\"dataframe\">\n",
       "  <thead>\n",
       "    <tr style=\"text-align: right;\">\n",
       "      <th></th>\n",
       "      <th>company_name</th>\n",
       "      <th>dba_name</th>\n",
       "      <th>owner_first</th>\n",
       "      <th>owner_last</th>\n",
       "      <th>location</th>\n",
       "      <th>location_city</th>\n",
       "      <th>location_state</th>\n",
       "      <th>zip_code</th>\n",
       "      <th>mailing_address</th>\n",
       "      <th>mailing_city</th>\n",
       "      <th>mailing_state</th>\n",
       "      <th>mailing_zip</th>\n",
       "      <th>certification_type</th>\n",
       "      <th>capability</th>\n",
       "      <th>local</th>\n",
       "      <th>out_of_state</th>\n",
       "      <th>location_standard</th>\n",
       "      <th>lat</th>\n",
       "      <th>lng</th>\n",
       "      <th>geometry</th>\n",
       "    </tr>\n",
       "    <tr>\n",
       "      <th>registry_id</th>\n",
       "      <th></th>\n",
       "      <th></th>\n",
       "      <th></th>\n",
       "      <th></th>\n",
       "      <th></th>\n",
       "      <th></th>\n",
       "      <th></th>\n",
       "      <th></th>\n",
       "      <th></th>\n",
       "      <th></th>\n",
       "      <th></th>\n",
       "      <th></th>\n",
       "      <th></th>\n",
       "      <th></th>\n",
       "      <th></th>\n",
       "      <th></th>\n",
       "      <th></th>\n",
       "      <th></th>\n",
       "      <th></th>\n",
       "      <th></th>\n",
       "    </tr>\n",
       "  </thead>\n",
       "  <tbody>\n",
       "    <tr>\n",
       "      <th>0</th>\n",
       "      <td>119 degrees architects</td>\n",
       "      <td>NaN</td>\n",
       "      <td>Rafael</td>\n",
       "      <td>Utrera</td>\n",
       "      <td>1503 Green Street, Suite # 4</td>\n",
       "      <td>Philadelphia</td>\n",
       "      <td>PA</td>\n",
       "      <td>19130.0</td>\n",
       "      <td>1503 Green Street, Suite # 4</td>\n",
       "      <td>Philadelphia</td>\n",
       "      <td>PA</td>\n",
       "      <td>19130.0</td>\n",
       "      <td>MBE</td>\n",
       "      <td>NAICS 5413 Architectural, Engineering, and Rel...</td>\n",
       "      <td>True</td>\n",
       "      <td>False</td>\n",
       "      <td>1503 GREEN ST</td>\n",
       "      <td>39.964275</td>\n",
       "      <td>-75.163042</td>\n",
       "      <td>POINT (-75.16304 39.96427)</td>\n",
       "    </tr>\n",
       "    <tr>\n",
       "      <th>1</th>\n",
       "      <td>12bravo</td>\n",
       "      <td>NaN</td>\n",
       "      <td>JEFFREY</td>\n",
       "      <td>YEKENCHIK</td>\n",
       "      <td>236 McKendimen Road</td>\n",
       "      <td>Medford Lakes</td>\n",
       "      <td>NJ</td>\n",
       "      <td>8055.0</td>\n",
       "      <td>236 McKendimen Road</td>\n",
       "      <td>Medford Lakes</td>\n",
       "      <td>NJ</td>\n",
       "      <td>8055.0</td>\n",
       "      <td>DSBE</td>\n",
       "      <td>Addition, alteration and renovation for-sale b...</td>\n",
       "      <td>False</td>\n",
       "      <td>True</td>\n",
       "      <td>NaN</td>\n",
       "      <td>NaN</td>\n",
       "      <td>NaN</td>\n",
       "      <td>None</td>\n",
       "    </tr>\n",
       "    <tr>\n",
       "      <th>2</th>\n",
       "      <td>1st choice financial</td>\n",
       "      <td>provisio</td>\n",
       "      <td>Kathrina</td>\n",
       "      <td>Nease</td>\n",
       "      <td>133 N. 21st Street</td>\n",
       "      <td>Camp Hill</td>\n",
       "      <td>PA</td>\n",
       "      <td>17011.0</td>\n",
       "      <td>133 N. 21st Street</td>\n",
       "      <td>Camp Hill</td>\n",
       "      <td>PA</td>\n",
       "      <td>17011.0</td>\n",
       "      <td>WBE</td>\n",
       "      <td>NAICS 928120 International Affairs</td>\n",
       "      <td>False</td>\n",
       "      <td>False</td>\n",
       "      <td>NaN</td>\n",
       "      <td>NaN</td>\n",
       "      <td>NaN</td>\n",
       "      <td>None</td>\n",
       "    </tr>\n",
       "    <tr>\n",
       "      <th>3</th>\n",
       "      <td>212 harakawa</td>\n",
       "      <td>two twelve</td>\n",
       "      <td>Ann</td>\n",
       "      <td>Harakawa</td>\n",
       "      <td>236 W 27th Street, Suite 802</td>\n",
       "      <td>New York</td>\n",
       "      <td>NY</td>\n",
       "      <td>10001.0</td>\n",
       "      <td>236 W 27th Street, Suite 802</td>\n",
       "      <td>New York</td>\n",
       "      <td>NY</td>\n",
       "      <td>10001.0</td>\n",
       "      <td>MWBE</td>\n",
       "      <td>Graphic Design Services; Graphic design servic...</td>\n",
       "      <td>False</td>\n",
       "      <td>True</td>\n",
       "      <td>NaN</td>\n",
       "      <td>NaN</td>\n",
       "      <td>NaN</td>\n",
       "      <td>None</td>\n",
       "    </tr>\n",
       "    <tr>\n",
       "      <th>4</th>\n",
       "      <td>215 media solutions</td>\n",
       "      <td>NaN</td>\n",
       "      <td>Dewain</td>\n",
       "      <td>Johnson</td>\n",
       "      <td>810 Felton Avenue</td>\n",
       "      <td>Sharon Hill</td>\n",
       "      <td>PA</td>\n",
       "      <td>19079.0</td>\n",
       "      <td>810 Felton Avenue</td>\n",
       "      <td>Sharon Hill</td>\n",
       "      <td>PA</td>\n",
       "      <td>19079.0</td>\n",
       "      <td>MBE</td>\n",
       "      <td>NAICS 5414 Specialized Design Services ; NAICS...</td>\n",
       "      <td>False</td>\n",
       "      <td>False</td>\n",
       "      <td>NaN</td>\n",
       "      <td>NaN</td>\n",
       "      <td>NaN</td>\n",
       "      <td>None</td>\n",
       "    </tr>\n",
       "    <tr>\n",
       "      <th>...</th>\n",
       "      <td>...</td>\n",
       "      <td>...</td>\n",
       "      <td>...</td>\n",
       "      <td>...</td>\n",
       "      <td>...</td>\n",
       "      <td>...</td>\n",
       "      <td>...</td>\n",
       "      <td>...</td>\n",
       "      <td>...</td>\n",
       "      <td>...</td>\n",
       "      <td>...</td>\n",
       "      <td>...</td>\n",
       "      <td>...</td>\n",
       "      <td>...</td>\n",
       "      <td>...</td>\n",
       "      <td>...</td>\n",
       "      <td>...</td>\n",
       "      <td>...</td>\n",
       "      <td>...</td>\n",
       "      <td>...</td>\n",
       "    </tr>\n",
       "    <tr>\n",
       "      <th>3114</th>\n",
       "      <td>zoeza</td>\n",
       "      <td>NaN</td>\n",
       "      <td>Jason</td>\n",
       "      <td>Wingard</td>\n",
       "      <td>536 W. Moreland Avenue, Suite C.</td>\n",
       "      <td>Philadelphia</td>\n",
       "      <td>PA</td>\n",
       "      <td>19118.0</td>\n",
       "      <td>536 W. Moreland Avenue, Suite C.</td>\n",
       "      <td>Philadelphia</td>\n",
       "      <td>PA</td>\n",
       "      <td>19118.0</td>\n",
       "      <td>MBE</td>\n",
       "      <td>90124\\tResearch Consulting; 90113\\tTraining Co...</td>\n",
       "      <td>True</td>\n",
       "      <td>False</td>\n",
       "      <td>536 W MORELAND AVE</td>\n",
       "      <td>40.059613</td>\n",
       "      <td>-75.207085</td>\n",
       "      <td>POINT (-75.20708 40.05961)</td>\n",
       "    </tr>\n",
       "    <tr>\n",
       "      <th>3115</th>\n",
       "      <td>zones</td>\n",
       "      <td>NaN</td>\n",
       "      <td>Mr.</td>\n",
       "      <td>Lalji</td>\n",
       "      <td>1102 15TH ST SW</td>\n",
       "      <td>Auburn</td>\n",
       "      <td>WA</td>\n",
       "      <td>98001.0</td>\n",
       "      <td>1102 15TH ST SW</td>\n",
       "      <td>Auburn</td>\n",
       "      <td>WA</td>\n",
       "      <td>98001.0</td>\n",
       "      <td>MBE</td>\n",
       "      <td>42710\\tCOMPUTER EQUIPMENT &amp; PERIPHERALS- NEW;</td>\n",
       "      <td>False</td>\n",
       "      <td>True</td>\n",
       "      <td>NaN</td>\n",
       "      <td>NaN</td>\n",
       "      <td>NaN</td>\n",
       "      <td>None</td>\n",
       "    </tr>\n",
       "    <tr>\n",
       "      <th>3116</th>\n",
       "      <td>zook motors</td>\n",
       "      <td>NaN</td>\n",
       "      <td>Susan</td>\n",
       "      <td>Wilson</td>\n",
       "      <td>25 Willow Run Drive</td>\n",
       "      <td>Kane</td>\n",
       "      <td>PA</td>\n",
       "      <td>16735.0</td>\n",
       "      <td>25 Willow Run Drive</td>\n",
       "      <td>Kane</td>\n",
       "      <td>PA</td>\n",
       "      <td>16735.0</td>\n",
       "      <td>WBE</td>\n",
       "      <td>26005\\tTIRE CHANGING &amp; REPAIRS; 25074\\tTOWING ...</td>\n",
       "      <td>False</td>\n",
       "      <td>False</td>\n",
       "      <td>NaN</td>\n",
       "      <td>NaN</td>\n",
       "      <td>NaN</td>\n",
       "      <td>None</td>\n",
       "    </tr>\n",
       "    <tr>\n",
       "      <th>3117</th>\n",
       "      <td>zora</td>\n",
       "      <td>NaN</td>\n",
       "      <td>Charles</td>\n",
       "      <td>O'Reilly</td>\n",
       "      <td>1901 Dorcas Lane</td>\n",
       "      <td>Wilmington</td>\n",
       "      <td>DE</td>\n",
       "      <td>19806.0</td>\n",
       "      <td>1901 Dorcas Lane</td>\n",
       "      <td>Wilmington</td>\n",
       "      <td>DE</td>\n",
       "      <td>19806.0</td>\n",
       "      <td>MWBE</td>\n",
       "      <td>Alarm apparatus, electric, merchant wholesaler...</td>\n",
       "      <td>False</td>\n",
       "      <td>True</td>\n",
       "      <td>NaN</td>\n",
       "      <td>NaN</td>\n",
       "      <td>NaN</td>\n",
       "      <td>None</td>\n",
       "    </tr>\n",
       "    <tr>\n",
       "      <th>3118</th>\n",
       "      <td>zweig ramick</td>\n",
       "      <td>NaN</td>\n",
       "      <td>Jeanne</td>\n",
       "      <td>Zweig</td>\n",
       "      <td>2320 Faunce Street</td>\n",
       "      <td>Philadelphia</td>\n",
       "      <td>PA</td>\n",
       "      <td>19152.0</td>\n",
       "      <td>2320 Faunce Street</td>\n",
       "      <td>Philadelphia</td>\n",
       "      <td>PA</td>\n",
       "      <td>19152.0</td>\n",
       "      <td>WBE</td>\n",
       "      <td>Accounting, Tax Preparation, Bookkeeping, and ...</td>\n",
       "      <td>True</td>\n",
       "      <td>False</td>\n",
       "      <td>2320 FAUNCE ST</td>\n",
       "      <td>40.051443</td>\n",
       "      <td>-75.055115</td>\n",
       "      <td>POINT (-75.05512 40.05144)</td>\n",
       "    </tr>\n",
       "  </tbody>\n",
       "</table>\n",
       "<p>3119 rows × 20 columns</p>\n",
       "</div>"
      ],
      "text/plain": [
       "                       company_name    dba_name owner_first owner_last  \\\n",
       "registry_id                                                              \n",
       "0            119 degrees architects         NaN      Rafael     Utrera   \n",
       "1                           12bravo         NaN     JEFFREY  YEKENCHIK   \n",
       "2              1st choice financial    provisio    Kathrina      Nease   \n",
       "3                      212 harakawa  two twelve         Ann   Harakawa   \n",
       "4               215 media solutions         NaN      Dewain    Johnson   \n",
       "...                             ...         ...         ...        ...   \n",
       "3114                          zoeza         NaN       Jason    Wingard   \n",
       "3115                          zones         NaN         Mr.      Lalji   \n",
       "3116                    zook motors         NaN       Susan     Wilson   \n",
       "3117                           zora         NaN     Charles   O'Reilly   \n",
       "3118                   zweig ramick         NaN      Jeanne      Zweig   \n",
       "\n",
       "                                     location  location_city location_state  \\\n",
       "registry_id                                                                   \n",
       "0                1503 Green Street, Suite # 4   Philadelphia             PA   \n",
       "1                         236 McKendimen Road  Medford Lakes             NJ   \n",
       "2                          133 N. 21st Street      Camp Hill             PA   \n",
       "3                236 W 27th Street, Suite 802       New York             NY   \n",
       "4                           810 Felton Avenue    Sharon Hill             PA   \n",
       "...                                       ...            ...            ...   \n",
       "3114         536 W. Moreland Avenue, Suite C.   Philadelphia             PA   \n",
       "3115                          1102 15TH ST SW         Auburn             WA   \n",
       "3116                      25 Willow Run Drive           Kane             PA   \n",
       "3117                         1901 Dorcas Lane     Wilmington             DE   \n",
       "3118                       2320 Faunce Street   Philadelphia             PA   \n",
       "\n",
       "             zip_code                   mailing_address   mailing_city  \\\n",
       "registry_id                                                              \n",
       "0             19130.0      1503 Green Street, Suite # 4   Philadelphia   \n",
       "1              8055.0               236 McKendimen Road  Medford Lakes   \n",
       "2             17011.0                133 N. 21st Street      Camp Hill   \n",
       "3             10001.0      236 W 27th Street, Suite 802       New York   \n",
       "4             19079.0                 810 Felton Avenue    Sharon Hill   \n",
       "...               ...                               ...            ...   \n",
       "3114          19118.0  536 W. Moreland Avenue, Suite C.   Philadelphia   \n",
       "3115          98001.0                   1102 15TH ST SW         Auburn   \n",
       "3116          16735.0               25 Willow Run Drive           Kane   \n",
       "3117          19806.0                  1901 Dorcas Lane     Wilmington   \n",
       "3118          19152.0                2320 Faunce Street   Philadelphia   \n",
       "\n",
       "            mailing_state  mailing_zip certification_type  \\\n",
       "registry_id                                                 \n",
       "0                      PA      19130.0                MBE   \n",
       "1                      NJ       8055.0               DSBE   \n",
       "2                      PA      17011.0                WBE   \n",
       "3                      NY      10001.0               MWBE   \n",
       "4                      PA      19079.0                MBE   \n",
       "...                   ...          ...                ...   \n",
       "3114                   PA      19118.0                MBE   \n",
       "3115                   WA      98001.0                MBE   \n",
       "3116                   PA      16735.0                WBE   \n",
       "3117                   DE      19806.0               MWBE   \n",
       "3118                   PA      19152.0                WBE   \n",
       "\n",
       "                                                    capability  local  \\\n",
       "registry_id                                                             \n",
       "0            NAICS 5413 Architectural, Engineering, and Rel...   True   \n",
       "1            Addition, alteration and renovation for-sale b...  False   \n",
       "2                           NAICS 928120 International Affairs  False   \n",
       "3            Graphic Design Services; Graphic design servic...  False   \n",
       "4            NAICS 5414 Specialized Design Services ; NAICS...  False   \n",
       "...                                                        ...    ...   \n",
       "3114         90124\\tResearch Consulting; 90113\\tTraining Co...   True   \n",
       "3115            42710\\tCOMPUTER EQUIPMENT & PERIPHERALS- NEW;   False   \n",
       "3116         26005\\tTIRE CHANGING & REPAIRS; 25074\\tTOWING ...  False   \n",
       "3117         Alarm apparatus, electric, merchant wholesaler...  False   \n",
       "3118         Accounting, Tax Preparation, Bookkeeping, and ...   True   \n",
       "\n",
       "             out_of_state   location_standard        lat        lng  \\\n",
       "registry_id                                                           \n",
       "0                   False       1503 GREEN ST  39.964275 -75.163042   \n",
       "1                    True                 NaN        NaN        NaN   \n",
       "2                   False                 NaN        NaN        NaN   \n",
       "3                    True                 NaN        NaN        NaN   \n",
       "4                   False                 NaN        NaN        NaN   \n",
       "...                   ...                 ...        ...        ...   \n",
       "3114                False  536 W MORELAND AVE  40.059613 -75.207085   \n",
       "3115                 True                 NaN        NaN        NaN   \n",
       "3116                False                 NaN        NaN        NaN   \n",
       "3117                 True                 NaN        NaN        NaN   \n",
       "3118                False      2320 FAUNCE ST  40.051443 -75.055115   \n",
       "\n",
       "                               geometry  \n",
       "registry_id                              \n",
       "0            POINT (-75.16304 39.96427)  \n",
       "1                                  None  \n",
       "2                                  None  \n",
       "3                                  None  \n",
       "4                                  None  \n",
       "...                                 ...  \n",
       "3114         POINT (-75.20708 40.05961)  \n",
       "3115                               None  \n",
       "3116                               None  \n",
       "3117                               None  \n",
       "3118         POINT (-75.05512 40.05144)  \n",
       "\n",
       "[3119 rows x 20 columns]"
      ]
     },
     "execution_count": 8,
     "metadata": {},
     "output_type": "execute_result"
    }
   ],
   "source": [
    "cleaned_registry"
   ]
  },
  {
   "cell_type": "code",
   "execution_count": 9,
   "metadata": {
    "scrolled": true
   },
   "outputs": [
    {
     "data": {
      "text/html": [
       "<div>\n",
       "<style scoped>\n",
       "    .dataframe tbody tr th:only-of-type {\n",
       "        vertical-align: middle;\n",
       "    }\n",
       "\n",
       "    .dataframe tbody tr th {\n",
       "        vertical-align: top;\n",
       "    }\n",
       "\n",
       "    .dataframe thead th {\n",
       "        text-align: right;\n",
       "    }\n",
       "</style>\n",
       "<table border=\"1\" class=\"dataframe\">\n",
       "  <thead>\n",
       "    <tr style=\"text-align: right;\">\n",
       "      <th></th>\n",
       "      <th>sub_obj</th>\n",
       "      <th>fy</th>\n",
       "      <th>check_date</th>\n",
       "      <th>document_no</th>\n",
       "      <th>dept</th>\n",
       "      <th>department_title</th>\n",
       "      <th>char_</th>\n",
       "      <th>character_title</th>\n",
       "      <th>fm</th>\n",
       "      <th>sub_obj_title</th>\n",
       "      <th>vendor_name</th>\n",
       "      <th>doc_ref_no_prefix</th>\n",
       "      <th>doc_ref_no_prefix_definition</th>\n",
       "      <th>contract_number</th>\n",
       "      <th>contract_description</th>\n",
       "      <th>transaction_amount</th>\n",
       "    </tr>\n",
       "  </thead>\n",
       "  <tbody>\n",
       "    <tr>\n",
       "      <th>0</th>\n",
       "      <td>231</td>\n",
       "      <td>2017</td>\n",
       "      <td>2017-04-12</td>\n",
       "      <td>CHEK17119771</td>\n",
       "      <td>42</td>\n",
       "      <td>42 COMMERCE</td>\n",
       "      <td>2</td>\n",
       "      <td>02 PURCHASE OF SERVICES</td>\n",
       "      <td>10</td>\n",
       "      <td>OVERTIME MEALS 0231</td>\n",
       "      <td>eat at joe s</td>\n",
       "      <td>PVXX</td>\n",
       "      <td>payment voucher</td>\n",
       "      <td>NaN</td>\n",
       "      <td>NaN</td>\n",
       "      <td>66.82</td>\n",
       "    </tr>\n",
       "    <tr>\n",
       "      <th>1</th>\n",
       "      <td>211</td>\n",
       "      <td>2017</td>\n",
       "      <td>2017-06-09</td>\n",
       "      <td>ACHD17177233</td>\n",
       "      <td>26</td>\n",
       "      <td>26 LICENSES &amp; INSPECTIONS</td>\n",
       "      <td>2</td>\n",
       "      <td>02 PURCHASE OF SERVICES</td>\n",
       "      <td>12</td>\n",
       "      <td>TRANSPORTATION 0211</td>\n",
       "      <td>l i â travel imprest fund</td>\n",
       "      <td>PVXX</td>\n",
       "      <td>payment voucher</td>\n",
       "      <td>NaN</td>\n",
       "      <td>NaN</td>\n",
       "      <td>127.33</td>\n",
       "    </tr>\n",
       "    <tr>\n",
       "      <th>2</th>\n",
       "      <td>258</td>\n",
       "      <td>2017</td>\n",
       "      <td>2016-11-25</td>\n",
       "      <td>CHEK17063736</td>\n",
       "      <td>44</td>\n",
       "      <td>44 LAW</td>\n",
       "      <td>2</td>\n",
       "      <td>02 PURCHASE OF SERVICES</td>\n",
       "      <td>5</td>\n",
       "      <td>COURT REPORTERS 0258</td>\n",
       "      <td>marlene bell reporting</td>\n",
       "      <td>PVXX</td>\n",
       "      <td>payment voucher</td>\n",
       "      <td>NaN</td>\n",
       "      <td>NaN</td>\n",
       "      <td>454.20</td>\n",
       "    </tr>\n",
       "    <tr>\n",
       "      <th>3</th>\n",
       "      <td>260</td>\n",
       "      <td>2017</td>\n",
       "      <td>2016-07-07</td>\n",
       "      <td>CHEK17000247</td>\n",
       "      <td>11</td>\n",
       "      <td>11 POLICE</td>\n",
       "      <td>2</td>\n",
       "      <td>02 PURCHASE OF SERVICES</td>\n",
       "      <td>1</td>\n",
       "      <td>REPAIR AND MAINTENANCE CHARGES 0260</td>\n",
       "      <td>ricoh americas</td>\n",
       "      <td>VCXX</td>\n",
       "      <td>procurement</td>\n",
       "      <td>NaN</td>\n",
       "      <td>NaN</td>\n",
       "      <td>50.00</td>\n",
       "    </tr>\n",
       "    <tr>\n",
       "      <th>4</th>\n",
       "      <td>313</td>\n",
       "      <td>2017</td>\n",
       "      <td>2016-07-08</td>\n",
       "      <td>ACHD17000233</td>\n",
       "      <td>23</td>\n",
       "      <td>23 PRISONS</td>\n",
       "      <td>3</td>\n",
       "      <td>03 MATERIALS AND SUPPLIES</td>\n",
       "      <td>1</td>\n",
       "      <td>FOOD 0313</td>\n",
       "      <td>philadelphia prisons</td>\n",
       "      <td>PCXX</td>\n",
       "      <td>petty cash</td>\n",
       "      <td>NaN</td>\n",
       "      <td>NaN</td>\n",
       "      <td>71.92</td>\n",
       "    </tr>\n",
       "    <tr>\n",
       "      <th>...</th>\n",
       "      <td>...</td>\n",
       "      <td>...</td>\n",
       "      <td>...</td>\n",
       "      <td>...</td>\n",
       "      <td>...</td>\n",
       "      <td>...</td>\n",
       "      <td>...</td>\n",
       "      <td>...</td>\n",
       "      <td>...</td>\n",
       "      <td>...</td>\n",
       "      <td>...</td>\n",
       "      <td>...</td>\n",
       "      <td>...</td>\n",
       "      <td>...</td>\n",
       "      <td>...</td>\n",
       "      <td>...</td>\n",
       "    </tr>\n",
       "    <tr>\n",
       "      <th>238889</th>\n",
       "      <td>254</td>\n",
       "      <td>2017</td>\n",
       "      <td>2017-03-31</td>\n",
       "      <td>CHEK17113438</td>\n",
       "      <td>15</td>\n",
       "      <td>15 OFFICE OF BH/MR SERVICES</td>\n",
       "      <td>2</td>\n",
       "      <td>02 PURCHASE OF SERVICES</td>\n",
       "      <td>9</td>\n",
       "      <td>BEHAVORIAL HEALTH AND INTELLECTUAL DISABILITIE...</td>\n",
       "      <td>do what you re built for</td>\n",
       "      <td>PVMD</td>\n",
       "      <td>professional services</td>\n",
       "      <td>1720630</td>\n",
       "      <td>Trauma Education Program</td>\n",
       "      <td>52901.00</td>\n",
       "    </tr>\n",
       "    <tr>\n",
       "      <th>238890</th>\n",
       "      <td>254</td>\n",
       "      <td>2017</td>\n",
       "      <td>2017-03-31</td>\n",
       "      <td>CHEK17113486</td>\n",
       "      <td>15</td>\n",
       "      <td>15 OFFICE OF BH/MR SERVICES</td>\n",
       "      <td>2</td>\n",
       "      <td>02 PURCHASE OF SERVICES</td>\n",
       "      <td>9</td>\n",
       "      <td>BEHAVORIAL HEALTH AND INTELLECTUAL DISABILITIE...</td>\n",
       "      <td>sage communications partners</td>\n",
       "      <td>PVMD</td>\n",
       "      <td>professional services</td>\n",
       "      <td>1720126</td>\n",
       "      <td>Communication Firm</td>\n",
       "      <td>6675.00</td>\n",
       "    </tr>\n",
       "    <tr>\n",
       "      <th>238891</th>\n",
       "      <td>254</td>\n",
       "      <td>2017</td>\n",
       "      <td>2017-03-31</td>\n",
       "      <td>CHEK17114422</td>\n",
       "      <td>15</td>\n",
       "      <td>15 OFFICE OF BH/MR SERVICES</td>\n",
       "      <td>2</td>\n",
       "      <td>02 PURCHASE OF SERVICES</td>\n",
       "      <td>9</td>\n",
       "      <td>BEHAVORIAL HEALTH AND INTELLECTUAL DISABILITIE...</td>\n",
       "      <td>epic developmental</td>\n",
       "      <td>PVMD</td>\n",
       "      <td>professional services</td>\n",
       "      <td>1720327</td>\n",
       "      <td>EIP FFS Unitary</td>\n",
       "      <td>1111.60</td>\n",
       "    </tr>\n",
       "    <tr>\n",
       "      <th>238892</th>\n",
       "      <td>254</td>\n",
       "      <td>2017</td>\n",
       "      <td>2017-03-31</td>\n",
       "      <td>CHEK17114423</td>\n",
       "      <td>15</td>\n",
       "      <td>15 OFFICE OF BH/MR SERVICES</td>\n",
       "      <td>2</td>\n",
       "      <td>02 PURCHASE OF SERVICES</td>\n",
       "      <td>9</td>\n",
       "      <td>BEHAVORIAL HEALTH AND INTELLECTUAL DISABILITIE...</td>\n",
       "      <td>epic developmental</td>\n",
       "      <td>PVMD</td>\n",
       "      <td>professional services</td>\n",
       "      <td>1720327</td>\n",
       "      <td>EIP FFS Unitary</td>\n",
       "      <td>28295.13</td>\n",
       "    </tr>\n",
       "    <tr>\n",
       "      <th>238893</th>\n",
       "      <td>254</td>\n",
       "      <td>2017</td>\n",
       "      <td>2017-03-31</td>\n",
       "      <td>CHEK17114424</td>\n",
       "      <td>15</td>\n",
       "      <td>15 OFFICE OF BH/MR SERVICES</td>\n",
       "      <td>2</td>\n",
       "      <td>02 PURCHASE OF SERVICES</td>\n",
       "      <td>9</td>\n",
       "      <td>BEHAVORIAL HEALTH AND INTELLECTUAL DISABILITIE...</td>\n",
       "      <td>epic developmental</td>\n",
       "      <td>PVMD</td>\n",
       "      <td>professional services</td>\n",
       "      <td>1720327</td>\n",
       "      <td>EIP FFS Unitary</td>\n",
       "      <td>57874.40</td>\n",
       "    </tr>\n",
       "  </tbody>\n",
       "</table>\n",
       "<p>238894 rows × 16 columns</p>\n",
       "</div>"
      ],
      "text/plain": [
       "       sub_obj    fy  check_date   document_no  dept  \\\n",
       "0          231  2017  2017-04-12  CHEK17119771    42   \n",
       "1          211  2017  2017-06-09  ACHD17177233    26   \n",
       "2          258  2017  2016-11-25  CHEK17063736    44   \n",
       "3          260  2017  2016-07-07  CHEK17000247    11   \n",
       "4          313  2017  2016-07-08  ACHD17000233    23   \n",
       "...        ...   ...         ...           ...   ...   \n",
       "238889     254  2017  2017-03-31  CHEK17113438    15   \n",
       "238890     254  2017  2017-03-31  CHEK17113486    15   \n",
       "238891     254  2017  2017-03-31  CHEK17114422    15   \n",
       "238892     254  2017  2017-03-31  CHEK17114423    15   \n",
       "238893     254  2017  2017-03-31  CHEK17114424    15   \n",
       "\n",
       "                   department_title  char_            character_title  fm  \\\n",
       "0                       42 COMMERCE      2    02 PURCHASE OF SERVICES  10   \n",
       "1         26 LICENSES & INSPECTIONS      2    02 PURCHASE OF SERVICES  12   \n",
       "2                            44 LAW      2    02 PURCHASE OF SERVICES   5   \n",
       "3                         11 POLICE      2    02 PURCHASE OF SERVICES   1   \n",
       "4                        23 PRISONS      3  03 MATERIALS AND SUPPLIES   1   \n",
       "...                             ...    ...                        ...  ..   \n",
       "238889  15 OFFICE OF BH/MR SERVICES      2    02 PURCHASE OF SERVICES   9   \n",
       "238890  15 OFFICE OF BH/MR SERVICES      2    02 PURCHASE OF SERVICES   9   \n",
       "238891  15 OFFICE OF BH/MR SERVICES      2    02 PURCHASE OF SERVICES   9   \n",
       "238892  15 OFFICE OF BH/MR SERVICES      2    02 PURCHASE OF SERVICES   9   \n",
       "238893  15 OFFICE OF BH/MR SERVICES      2    02 PURCHASE OF SERVICES   9   \n",
       "\n",
       "                                            sub_obj_title  \\\n",
       "0                                     OVERTIME MEALS 0231   \n",
       "1                                     TRANSPORTATION 0211   \n",
       "2                                    COURT REPORTERS 0258   \n",
       "3                     REPAIR AND MAINTENANCE CHARGES 0260   \n",
       "4                                               FOOD 0313   \n",
       "...                                                   ...   \n",
       "238889  BEHAVORIAL HEALTH AND INTELLECTUAL DISABILITIE...   \n",
       "238890  BEHAVORIAL HEALTH AND INTELLECTUAL DISABILITIE...   \n",
       "238891  BEHAVORIAL HEALTH AND INTELLECTUAL DISABILITIE...   \n",
       "238892  BEHAVORIAL HEALTH AND INTELLECTUAL DISABILITIE...   \n",
       "238893  BEHAVORIAL HEALTH AND INTELLECTUAL DISABILITIE...   \n",
       "\n",
       "                         vendor_name doc_ref_no_prefix  \\\n",
       "0                       eat at joe s              PVXX   \n",
       "1          l i â travel imprest fund              PVXX   \n",
       "2             marlene bell reporting              PVXX   \n",
       "3                     ricoh americas              VCXX   \n",
       "4               philadelphia prisons              PCXX   \n",
       "...                              ...               ...   \n",
       "238889      do what you re built for              PVMD   \n",
       "238890  sage communications partners              PVMD   \n",
       "238891            epic developmental              PVMD   \n",
       "238892            epic developmental              PVMD   \n",
       "238893            epic developmental              PVMD   \n",
       "\n",
       "       doc_ref_no_prefix_definition contract_number      contract_description  \\\n",
       "0                   payment voucher             NaN                       NaN   \n",
       "1                   payment voucher             NaN                       NaN   \n",
       "2                   payment voucher             NaN                       NaN   \n",
       "3                       procurement             NaN                       NaN   \n",
       "4                        petty cash             NaN                       NaN   \n",
       "...                             ...             ...                       ...   \n",
       "238889        professional services         1720630  Trauma Education Program   \n",
       "238890        professional services         1720126        Communication Firm   \n",
       "238891        professional services         1720327           EIP FFS Unitary   \n",
       "238892        professional services         1720327           EIP FFS Unitary   \n",
       "238893        professional services         1720327           EIP FFS Unitary   \n",
       "\n",
       "        transaction_amount  \n",
       "0                    66.82  \n",
       "1                   127.33  \n",
       "2                   454.20  \n",
       "3                    50.00  \n",
       "4                    71.92  \n",
       "...                    ...  \n",
       "238889            52901.00  \n",
       "238890             6675.00  \n",
       "238891             1111.60  \n",
       "238892            28295.13  \n",
       "238893            57874.40  \n",
       "\n",
       "[238894 rows x 16 columns]"
      ]
     },
     "execution_count": 9,
     "metadata": {},
     "output_type": "execute_result"
    }
   ],
   "source": [
    "cleaned_payments"
   ]
  },
  {
   "cell_type": "markdown",
   "metadata": {},
   "source": [
    "## 1. All Business\n",
    "### a) Total Transaction Amount by Vendor Name -Top 20"
   ]
  },
  {
   "cell_type": "code",
   "execution_count": 211,
   "metadata": {},
   "outputs": [],
   "source": [
    "# Total transaction amount by vendor name\n",
    "transactions_by_vendors = payments.groupby('vendor_name')['transaction_amount'].sum().to_frame('dollar_amount').reset_index()"
   ]
  },
  {
   "cell_type": "code",
   "execution_count": 212,
   "metadata": {},
   "outputs": [],
   "source": [
    "transactions_by_vendors.sort_values(by='dollar_amount', ascending=False, inplace=True)"
   ]
  },
  {
   "cell_type": "markdown",
   "metadata": {},
   "source": [
    "##### There are 5506 unique vendors"
   ]
  },
  {
   "cell_type": "code",
   "execution_count": 213,
   "metadata": {},
   "outputs": [],
   "source": [
    "top20 = transactions_by_vendors[:20]"
   ]
  },
  {
   "cell_type": "code",
   "execution_count": 214,
   "metadata": {},
   "outputs": [],
   "source": [
    "sns.set(style=\"whitegrid\")"
   ]
  },
  {
   "cell_type": "code",
   "execution_count": 216,
   "metadata": {},
   "outputs": [
    {
     "data": {
      "image/png": "[encoded data removed]",
      "text/plain": [
       "<Figure size 432x288 with 1 Axes>"
      ]
     },
     "metadata": {},
     "output_type": "display_data"
    }
   ],
   "source": [
    "ax = sns.barplot(x=\"dollar_amount\", y=\"vendor_name\", data=top20, palette='Spectral')\n",
    "ax.set(xlabel='Total Transaction Amounts', ylabel='Vendor Names')\n",
    "plt.show()"
   ]
  },
  {
   "cell_type": "markdown",
   "metadata": {},
   "source": [
    "### b) Total Transaction Amount by Departments - Top 20"
   ]
  },
  {
   "cell_type": "code",
   "execution_count": 217,
   "metadata": {},
   "outputs": [],
   "source": [
    "transactions_by_dept = payments.groupby('department_title')['transaction_amount'].sum().to_frame('dollar_amount').reset_index()"
   ]
  },
  {
   "cell_type": "code",
   "execution_count": 218,
   "metadata": {},
   "outputs": [],
   "source": [
    "transactions_by_dept.sort_values(by='dollar_amount', ascending=False, inplace=True)"
   ]
  },
  {
   "cell_type": "code",
   "execution_count": 219,
   "metadata": {},
   "outputs": [],
   "source": [
    "top20 = transactions_by_dept[:20]"
   ]
  },
  {
   "cell_type": "code",
   "execution_count": 221,
   "metadata": {},
   "outputs": [
    {
     "data": {
      "image/png": "[encoded data removed]",
      "text/plain": [
       "<Figure size 432x288 with 1 Axes>"
      ]
     },
     "metadata": {},
     "output_type": "display_data"
    }
   ],
   "source": [
    "ax = sns.barplot(x=\"dollar_amount\", y=\"department_title\", data=top20, palette='Spectral')\n",
    "ax.set(xlabel='Total Transaction Amounts', ylabel='Department Names')\n",
    "plt.show()"
   ]
  },
  {
   "cell_type": "markdown",
   "metadata": {},
   "source": [
    "## 2. MWDSBE - Minority Business"
   ]
  },
  {
   "cell_type": "markdown",
   "metadata": {},
   "source": [
    "### a) Merge Full Registry and Payments only with TF-IDF 85"
   ]
  },
  {
   "cell_type": "code",
   "execution_count": 158,
   "metadata": {},
   "outputs": [],
   "source": [
    "# t1 = time.time()\n",
    "# merged = (\n",
    "#     skool.tf_idf_merge(cleaned_registry, cleaned_payments, left_on=\"company_name\", right_on=\"vendor_name\", score_cutoff=85)\n",
    "#     .pipe(skool.tf_idf_merge, cleaned_registry, cleaned_payments, left_on=\"dba_name\", right_on=\"vendor_name\", score_cutoff=85)\n",
    "# )\n",
    "# t = time.time() - t1"
   ]
  },
  {
   "cell_type": "code",
   "execution_count": 159,
   "metadata": {},
   "outputs": [
    {
     "name": "stdout",
     "output_type": "stream",
     "text": [
      "Execution time: 190.28902673721313 sec\n"
     ]
    }
   ],
   "source": [
    "# print('Execution time:', t, 'sec')"
   ]
  },
  {
   "cell_type": "code",
   "execution_count": 160,
   "metadata": {},
   "outputs": [
    {
     "data": {
      "text/plain": [
       "3278"
      ]
     },
     "execution_count": 160,
     "metadata": {},
     "output_type": "execute_result"
    }
   ],
   "source": [
    "# len(merged)"
   ]
  },
  {
   "cell_type": "markdown",
   "metadata": {},
   "source": [
    "#### Check duplicates"
   ]
  },
  {
   "cell_type": "code",
   "execution_count": 161,
   "metadata": {},
   "outputs": [
    {
     "data": {
      "text/plain": [
       "3119"
      ]
     },
     "execution_count": 161,
     "metadata": {},
     "output_type": "execute_result"
    }
   ],
   "source": [
    "# len(merged.index.drop_duplicates()) # 159 duplicates"
   ]
  },
  {
   "cell_type": "code",
   "execution_count": 162,
   "metadata": {},
   "outputs": [],
   "source": [
    "# duplicates = merged.loc[merged.index.duplicated(keep=False)] # see all duplicates"
   ]
  },
  {
   "cell_type": "code",
   "execution_count": 164,
   "metadata": {},
   "outputs": [
    {
     "data": {
      "text/plain": [
       "318"
      ]
     },
     "execution_count": 164,
     "metadata": {},
     "output_type": "execute_result"
    }
   ],
   "source": [
    "# len(duplicates) # 159 * 2 = 318"
   ]
  },
  {
   "cell_type": "markdown",
   "metadata": {},
   "source": [
    "#### Keep duplicates since same vendors have multiple payments by the city"
   ]
  },
  {
   "cell_type": "code",
   "execution_count": 165,
   "metadata": {},
   "outputs": [],
   "source": [
    "# matched = merged.dropna(subset=['vendor_name'])"
   ]
  },
  {
   "cell_type": "code",
   "execution_count": 166,
   "metadata": {},
   "outputs": [
    {
     "name": "stdout",
     "output_type": "stream",
     "text": [
      "Matched: 369 out of 3119\n"
     ]
    }
   ],
   "source": [
    "# print('Matched:', len(matched), 'out of', len(cleaned_registry)) # 3 wrong matches"
   ]
  },
  {
   "cell_type": "code",
   "execution_count": 168,
   "metadata": {},
   "outputs": [],
   "source": [
    "# matched.to_excel (r'C:\\Users\\dabinlee\\Desktop\\mwdsbe\\data\\payments\\tf-idf-85.xlsx', header=True)"
   ]
  },
  {
   "cell_type": "code",
   "execution_count": 10,
   "metadata": {},
   "outputs": [],
   "source": [
    "matched_payments = pd.read_excel(r'C:\\Users\\dabinlee\\Desktop\\mwdsbe\\data\\payments\\tf-idf-85.xlsx')"
   ]
  },
  {
   "cell_type": "code",
   "execution_count": 11,
   "metadata": {},
   "outputs": [],
   "source": [
    "matched_payments.rename(columns={'Unnamed: 0': 'left_index'}, inplace=True)\n",
    "matched_payments.set_index('left_index', inplace=True)"
   ]
  },
  {
   "cell_type": "code",
   "execution_count": 12,
   "metadata": {},
   "outputs": [
    {
     "data": {
      "text/plain": [
       "369"
      ]
     },
     "execution_count": 12,
     "metadata": {},
     "output_type": "execute_result"
    }
   ],
   "source": [
    "len(matched_payments)"
   ]
  },
  {
   "cell_type": "markdown",
   "metadata": {},
   "source": [
    "#### Investigate Newly Matched Companies from Payments Data\n",
    "Compare with matched companies from Open Data Philly License(OL) data"
   ]
  },
  {
   "cell_type": "code",
   "execution_count": 13,
   "metadata": {},
   "outputs": [],
   "source": [
    "matched_OL = pd.read_excel(r'C:\\Users\\dabinlee\\Desktop\\mwdsbe\\data\\license-opendataphilly\\tf-idf\\tf-idf-85.xlsx')\n",
    "matched_OL = matched_OL.set_index('left_index')"
   ]
  },
  {
   "cell_type": "code",
   "execution_count": 14,
   "metadata": {},
   "outputs": [
    {
     "data": {
      "text/plain": [
       "1642"
      ]
     },
     "execution_count": 14,
     "metadata": {},
     "output_type": "execute_result"
    }
   ],
   "source": [
    "len(matched_OL)"
   ]
  },
  {
   "cell_type": "code",
   "execution_count": 15,
   "metadata": {},
   "outputs": [
    {
     "name": "stderr",
     "output_type": "stream",
     "text": [
      "C:\\Users\\dabinlee\\AppData\\Local\\Continuum\\anaconda3\\lib\\site-packages\\ipykernel_launcher.py:4: SettingWithCopyWarning: \n",
      "A value is trying to be set on a copy of a slice from a DataFrame\n",
      "\n",
      "See the caveats in the documentation: http://pandas.pydata.org/pandas-docs/stable/user_guide/indexing.html#returning-a-view-versus-a-copy\n",
      "  after removing the cwd from sys.path.\n"
     ]
    }
   ],
   "source": [
    "matched_OL = drop_duplicates_by_date(matched_OL, \"issue_date\") # without duplicates"
   ]
  },
  {
   "cell_type": "code",
   "execution_count": 16,
   "metadata": {},
   "outputs": [
    {
     "data": {
      "text/plain": [
       "1502"
      ]
     },
     "execution_count": 16,
     "metadata": {},
     "output_type": "execute_result"
    }
   ],
   "source": [
    "len(matched_OL)"
   ]
  },
  {
   "cell_type": "code",
   "execution_count": 17,
   "metadata": {},
   "outputs": [],
   "source": [
    "new_matches = matched_payments.index.difference(matched_OL.index).tolist()"
   ]
  },
  {
   "cell_type": "code",
   "execution_count": 18,
   "metadata": {},
   "outputs": [
    {
     "data": {
      "text/plain": [
       "61"
      ]
     },
     "execution_count": 18,
     "metadata": {},
     "output_type": "execute_result"
    }
   ],
   "source": [
    "len(new_matches) # newly found matches by payments"
   ]
  },
  {
   "cell_type": "markdown",
   "metadata": {},
   "source": [
    "#### full_matched_OL: Matched companies with Open Data Philly License(OL) data using TF-IDF score 0\n",
    "to see why 61 companies did not show up with OL matching"
   ]
  },
  {
   "cell_type": "code",
   "execution_count": 230,
   "metadata": {},
   "outputs": [],
   "source": [
    "full_matched_OL = pd.read_excel(r'C:\\Users\\dabinlee\\Desktop\\mwdsbe\\data\\tf-idf0.xlsx')"
   ]
  },
  {
   "cell_type": "code",
   "execution_count": 231,
   "metadata": {},
   "outputs": [],
   "source": [
    "full_matched_OL.rename(columns={'Unnamed: 0': 'left_index'}, inplace=True)\n",
    "full_matched_OL.set_index('left_index', inplace=True)"
   ]
  },
  {
   "cell_type": "code",
   "execution_count": 232,
   "metadata": {},
   "outputs": [
    {
     "data": {
      "text/plain": [
       "3025"
      ]
     },
     "execution_count": 232,
     "metadata": {},
     "output_type": "execute_result"
    }
   ],
   "source": [
    "len(full_matched_OL)"
   ]
  },
  {
   "cell_type": "code",
   "execution_count": 233,
   "metadata": {},
   "outputs": [
    {
     "name": "stderr",
     "output_type": "stream",
     "text": [
      "C:\\Users\\dabinlee\\AppData\\Local\\Continuum\\anaconda3\\lib\\site-packages\\ipykernel_launcher.py:1: FutureWarning: \n",
      "Passing list-likes to .loc or [] with any missing label will raise\n",
      "KeyError in the future, you can use .reindex() as an alternative.\n",
      "\n",
      "See the documentation here:\n",
      "https://pandas.pydata.org/pandas-docs/stable/user_guide/indexing.html#deprecate-loc-reindex-listlike\n",
      "  \"\"\"Entry point for launching an IPython kernel.\n"
     ]
    }
   ],
   "source": [
    "missed_matches_OL = full_matched_OL.loc[new_matches]"
   ]
  },
  {
   "cell_type": "code",
   "execution_count": 234,
   "metadata": {},
   "outputs": [],
   "source": [
    "found_matches_payments = matched_payments.loc[new_matches]"
   ]
  },
  {
   "cell_type": "code",
   "execution_count": 235,
   "metadata": {},
   "outputs": [],
   "source": [
    "new_matches_OL_payments = missed_matches_OL.merge(found_matches_payments, left_index=True, right_index=True)"
   ]
  },
  {
   "cell_type": "code",
   "execution_count": 236,
   "metadata": {},
   "outputs": [],
   "source": [
    "simple_difference_OL_payment = new_matches_OL_payments[['company_name_x', 'dba_name_x', 'match_probability_x', 'company_name_y', 'vendor_name', 'match_probability_y', 'transaction_amount']]"
   ]
  },
  {
   "cell_type": "code",
   "execution_count": 237,
   "metadata": {},
   "outputs": [
    {
     "data": {
      "text/html": [
       "<div>\n",
       "<style scoped>\n",
       "    .dataframe tbody tr th:only-of-type {\n",
       "        vertical-align: middle;\n",
       "    }\n",
       "\n",
       "    .dataframe tbody tr th {\n",
       "        vertical-align: top;\n",
       "    }\n",
       "\n",
       "    .dataframe thead th {\n",
       "        text-align: right;\n",
       "    }\n",
       "</style>\n",
       "<table border=\"1\" class=\"dataframe\">\n",
       "  <thead>\n",
       "    <tr style=\"text-align: right;\">\n",
       "      <th></th>\n",
       "      <th>company_name_x</th>\n",
       "      <th>dba_name_x</th>\n",
       "      <th>match_probability_x</th>\n",
       "      <th>company_name_y</th>\n",
       "      <th>vendor_name</th>\n",
       "      <th>match_probability_y</th>\n",
       "      <th>transaction_amount</th>\n",
       "    </tr>\n",
       "    <tr>\n",
       "      <th>left_index</th>\n",
       "      <th></th>\n",
       "      <th></th>\n",
       "      <th></th>\n",
       "      <th></th>\n",
       "      <th></th>\n",
       "      <th></th>\n",
       "      <th></th>\n",
       "    </tr>\n",
       "  </thead>\n",
       "  <tbody>\n",
       "    <tr>\n",
       "      <th>19</th>\n",
       "      <td>a a glove safety</td>\n",
       "      <td>NaN</td>\n",
       "      <td>0.717242</td>\n",
       "      <td>magid glove safety</td>\n",
       "      <td>a a glove safety</td>\n",
       "      <td>1.0</td>\n",
       "      <td>380.00</td>\n",
       "    </tr>\n",
       "    <tr>\n",
       "      <th>19</th>\n",
       "      <td>a a glove safety</td>\n",
       "      <td>NaN</td>\n",
       "      <td>0.717242</td>\n",
       "      <td>magid glove safety</td>\n",
       "      <td>a a glove safety</td>\n",
       "      <td>1.0</td>\n",
       "      <td>440.00</td>\n",
       "    </tr>\n",
       "    <tr>\n",
       "      <th>65</th>\n",
       "      <td>acclaim systems</td>\n",
       "      <td>NaN</td>\n",
       "      <td>0.568845</td>\n",
       "      <td>l m systems</td>\n",
       "      <td>acclaim systems</td>\n",
       "      <td>1.0</td>\n",
       "      <td>3878.35</td>\n",
       "    </tr>\n",
       "    <tr>\n",
       "      <th>65</th>\n",
       "      <td>acclaim systems</td>\n",
       "      <td>NaN</td>\n",
       "      <td>0.568845</td>\n",
       "      <td>l m systems</td>\n",
       "      <td>acclaim systems</td>\n",
       "      <td>1.0</td>\n",
       "      <td>46539.96</td>\n",
       "    </tr>\n",
       "    <tr>\n",
       "      <th>176</th>\n",
       "      <td>alternative micrographics</td>\n",
       "      <td>NaN</td>\n",
       "      <td>0.777362</td>\n",
       "      <td>the micrographics</td>\n",
       "      <td>alternative micrographics</td>\n",
       "      <td>1.0</td>\n",
       "      <td>306.00</td>\n",
       "    </tr>\n",
       "    <tr>\n",
       "      <th>...</th>\n",
       "      <td>...</td>\n",
       "      <td>...</td>\n",
       "      <td>...</td>\n",
       "      <td>...</td>\n",
       "      <td>...</td>\n",
       "      <td>...</td>\n",
       "      <td>...</td>\n",
       "    </tr>\n",
       "    <tr>\n",
       "      <th>2992</th>\n",
       "      <td>veritiv operating</td>\n",
       "      <td>NaN</td>\n",
       "      <td>0.549860</td>\n",
       "      <td>verio operating</td>\n",
       "      <td>veritiv operating</td>\n",
       "      <td>1.0</td>\n",
       "      <td>229.50</td>\n",
       "    </tr>\n",
       "    <tr>\n",
       "      <th>3013</th>\n",
       "      <td>visual sound</td>\n",
       "      <td>NaN</td>\n",
       "      <td>0.697870</td>\n",
       "      <td>visual solutions</td>\n",
       "      <td>visual sound</td>\n",
       "      <td>1.0</td>\n",
       "      <td>1298.00</td>\n",
       "    </tr>\n",
       "    <tr>\n",
       "      <th>3013</th>\n",
       "      <td>visual sound</td>\n",
       "      <td>NaN</td>\n",
       "      <td>0.697870</td>\n",
       "      <td>visual solutions</td>\n",
       "      <td>visual sound</td>\n",
       "      <td>1.0</td>\n",
       "      <td>81.00</td>\n",
       "    </tr>\n",
       "    <tr>\n",
       "      <th>3017</th>\n",
       "      <td>NaN</td>\n",
       "      <td>NaN</td>\n",
       "      <td>NaN</td>\n",
       "      <td>NaN</td>\n",
       "      <td>vkg</td>\n",
       "      <td>1.0</td>\n",
       "      <td>380.00</td>\n",
       "    </tr>\n",
       "    <tr>\n",
       "      <th>3017</th>\n",
       "      <td>NaN</td>\n",
       "      <td>NaN</td>\n",
       "      <td>NaN</td>\n",
       "      <td>NaN</td>\n",
       "      <td>vkg</td>\n",
       "      <td>1.0</td>\n",
       "      <td>5300.00</td>\n",
       "    </tr>\n",
       "  </tbody>\n",
       "</table>\n",
       "<p>109 rows × 7 columns</p>\n",
       "</div>"
      ],
      "text/plain": [
       "                       company_name_x dba_name_x  match_probability_x  \\\n",
       "left_index                                                              \n",
       "19                   a a glove safety        NaN             0.717242   \n",
       "19                   a a glove safety        NaN             0.717242   \n",
       "65                    acclaim systems        NaN             0.568845   \n",
       "65                    acclaim systems        NaN             0.568845   \n",
       "176         alternative micrographics        NaN             0.777362   \n",
       "...                               ...        ...                  ...   \n",
       "2992                veritiv operating        NaN             0.549860   \n",
       "3013                     visual sound        NaN             0.697870   \n",
       "3013                     visual sound        NaN             0.697870   \n",
       "3017                              NaN        NaN                  NaN   \n",
       "3017                              NaN        NaN                  NaN   \n",
       "\n",
       "                company_name_y                vendor_name  \\\n",
       "left_index                                                  \n",
       "19          magid glove safety           a a glove safety   \n",
       "19          magid glove safety           a a glove safety   \n",
       "65                 l m systems            acclaim systems   \n",
       "65                 l m systems            acclaim systems   \n",
       "176          the micrographics  alternative micrographics   \n",
       "...                        ...                        ...   \n",
       "2992           verio operating          veritiv operating   \n",
       "3013          visual solutions               visual sound   \n",
       "3013          visual solutions               visual sound   \n",
       "3017                       NaN                        vkg   \n",
       "3017                       NaN                        vkg   \n",
       "\n",
       "            match_probability_y  transaction_amount  \n",
       "left_index                                           \n",
       "19                          1.0              380.00  \n",
       "19                          1.0              440.00  \n",
       "65                          1.0             3878.35  \n",
       "65                          1.0            46539.96  \n",
       "176                         1.0              306.00  \n",
       "...                         ...                 ...  \n",
       "2992                        1.0              229.50  \n",
       "3013                        1.0             1298.00  \n",
       "3013                        1.0               81.00  \n",
       "3017                        1.0              380.00  \n",
       "3017                        1.0             5300.00  \n",
       "\n",
       "[109 rows x 7 columns]"
      ]
     },
     "execution_count": 237,
     "metadata": {},
     "output_type": "execute_result"
    }
   ],
   "source": [
    "simple_difference_OL_payment"
   ]
  },
  {
   "cell_type": "code",
   "execution_count": 238,
   "metadata": {},
   "outputs": [],
   "source": [
    "# simple_difference_OL_payment.to_excel (r'C:\\Users\\dabinlee\\Desktop\\mwdsbe\\data\\payments\\difference_OL_payments.xlsx', header=True)"
   ]
  },
  {
   "cell_type": "markdown",
   "metadata": {},
   "source": [
    "### b) The Number of MWDSBE working with the City\n",
    "If a company  have a payment history, then it means that the company works with the City."
   ]
  },
  {
   "cell_type": "code",
   "execution_count": 19,
   "metadata": {},
   "outputs": [],
   "source": [
    "unique_companies = matched_payments.company_name.unique()"
   ]
  },
  {
   "cell_type": "code",
   "execution_count": 20,
   "metadata": {},
   "outputs": [
    {
     "data": {
      "text/plain": [
       "210"
      ]
     },
     "execution_count": 20,
     "metadata": {},
     "output_type": "execute_result"
    }
   ],
   "source": [
    "len(unique_companies)"
   ]
  },
  {
   "cell_type": "markdown",
   "metadata": {},
   "source": [
    "### c) Get all payments based on unique vendor names\n",
    "Current matched_payment data only contains 1-2 payments"
   ]
  },
  {
   "cell_type": "code",
   "execution_count": 21,
   "metadata": {},
   "outputs": [],
   "source": [
    "unique_vendors = matched_payments.vendor_name.unique()"
   ]
  },
  {
   "cell_type": "code",
   "execution_count": 22,
   "metadata": {},
   "outputs": [
    {
     "data": {
      "text/plain": [
       "207"
      ]
     },
     "execution_count": 22,
     "metadata": {},
     "output_type": "execute_result"
    }
   ],
   "source": [
    "len(unique_vendors)"
   ]
  },
  {
   "cell_type": "code",
   "execution_count": 23,
   "metadata": {},
   "outputs": [],
   "source": [
    "all_payments = cleaned_payments.loc[cleaned_payments['vendor_name'].isin(unique_vendors)]"
   ]
  },
  {
   "cell_type": "code",
   "execution_count": 24,
   "metadata": {},
   "outputs": [
    {
     "data": {
      "text/plain": [
       "9613"
      ]
     },
     "execution_count": 24,
     "metadata": {},
     "output_type": "execute_result"
    }
   ],
   "source": [
    "len(all_payments)"
   ]
  },
  {
   "cell_type": "markdown",
   "metadata": {},
   "source": [
    "### d) Total Transaction Amount by Vendors - Top 20"
   ]
  },
  {
   "cell_type": "code",
   "execution_count": 25,
   "metadata": {},
   "outputs": [],
   "source": [
    "total_transaction_per_vendor = all_payments.groupby(['vendor_name'])['transaction_amount'].sum().to_frame('dollar_amount').reset_index() # how to keep original index?"
   ]
  },
  {
   "cell_type": "code",
   "execution_count": 29,
   "metadata": {},
   "outputs": [
    {
     "data": {
      "text/plain": [
       "207"
      ]
     },
     "execution_count": 29,
     "metadata": {},
     "output_type": "execute_result"
    }
   ],
   "source": [
    "len(total_transaction_per_vendor)"
   ]
  },
  {
   "cell_type": "code",
   "execution_count": 26,
   "metadata": {},
   "outputs": [],
   "source": [
    "total_transaction_per_vendor.sort_values(by='dollar_amount', ascending=False, inplace=True)"
   ]
  },
  {
   "cell_type": "code",
   "execution_count": 27,
   "metadata": {},
   "outputs": [],
   "source": [
    "top20 = total_transaction_per_vendor[:20]"
   ]
  },
  {
   "cell_type": "code",
   "execution_count": 28,
   "metadata": {
    "scrolled": true
   },
   "outputs": [
    {
     "data": {
      "image/png": "[encoded data removed]",
      "text/plain": [
       "<Figure size 432x288 with 1 Axes>"
      ]
     },
     "metadata": {
      "needs_background": "light"
     },
     "output_type": "display_data"
    }
   ],
   "source": [
    "ax = sns.barplot(x=\"dollar_amount\", y=\"vendor_name\", data=top20, palette='Spectral')\n",
    "ax.set(xlabel='Dollar Amount', ylabel='Vendor Names')\n",
    "plt.show()"
   ]
  },
  {
   "cell_type": "markdown",
   "metadata": {},
   "source": [
    "### e) Total Transaction Amount by Departments - Top 20"
   ]
  },
  {
   "cell_type": "code",
   "execution_count": 249,
   "metadata": {},
   "outputs": [],
   "source": [
    "departments = all_payments.groupby('department_title')['transaction_amount'].sum().to_frame('dollar_amount').reset_index()"
   ]
  },
  {
   "cell_type": "code",
   "execution_count": 250,
   "metadata": {},
   "outputs": [],
   "source": [
    "departments.sort_values(by='dollar_amount', ascending=False, inplace=True)"
   ]
  },
  {
   "cell_type": "code",
   "execution_count": 251,
   "metadata": {},
   "outputs": [],
   "source": [
    "mb_dept_20 = departments[:20]"
   ]
  },
  {
   "cell_type": "code",
   "execution_count": 252,
   "metadata": {},
   "outputs": [
    {
     "data": {
      "image/png": "[encoded data removed]",
      "text/plain": [
       "<Figure size 432x288 with 1 Axes>"
      ]
     },
     "metadata": {},
     "output_type": "display_data"
    }
   ],
   "source": [
    "ax = sns.barplot(x=\"dollar_amount\", y=\"department_title\", data=mb_dept_20, palette='Spectral')\n",
    "ax.set(xlabel='Dollar Amount', ylabel='Department Title')\n",
    "plt.show()"
   ]
  },
  {
   "cell_type": "markdown",
   "metadata": {},
   "source": [
    "### f) Normalized Transaction Amount of the minority business by departments\n",
    "How much does each department spend their payments to minority business?"
   ]
  },
  {
   "cell_type": "code",
   "execution_count": 253,
   "metadata": {},
   "outputs": [],
   "source": [
    "# merge departments with high payments in minority businesses and all transactions by departments\n",
    "merged_dept = departments.merge(transactions_by_dept, how='left', on='department_title')"
   ]
  },
  {
   "cell_type": "markdown",
   "metadata": {},
   "source": [
    "* dollar_amount_x = total transaction amount of minority business\n",
    "* dollar_amount_y = total transaction amount of all business"
   ]
  },
  {
   "cell_type": "code",
   "execution_count": 254,
   "metadata": {},
   "outputs": [],
   "source": [
    "merged_dept['normalized_amount'] = merged_dept['dollar_amount_x'] / merged_dept['dollar_amount_y']"
   ]
  },
  {
   "cell_type": "code",
   "execution_count": 255,
   "metadata": {
    "scrolled": true
   },
   "outputs": [
    {
     "data": {
      "text/html": [
       "<div>\n",
       "<style scoped>\n",
       "    .dataframe tbody tr th:only-of-type {\n",
       "        vertical-align: middle;\n",
       "    }\n",
       "\n",
       "    .dataframe tbody tr th {\n",
       "        vertical-align: top;\n",
       "    }\n",
       "\n",
       "    .dataframe thead th {\n",
       "        text-align: right;\n",
       "    }\n",
       "</style>\n",
       "<table border=\"1\" class=\"dataframe\">\n",
       "  <thead>\n",
       "    <tr style=\"text-align: right;\">\n",
       "      <th></th>\n",
       "      <th>department_title</th>\n",
       "      <th>dollar_amount_x</th>\n",
       "      <th>dollar_amount_y</th>\n",
       "      <th>normalized_amount</th>\n",
       "    </tr>\n",
       "  </thead>\n",
       "  <tbody>\n",
       "    <tr>\n",
       "      <th>33</th>\n",
       "      <td>30 ZONING BOARD</td>\n",
       "      <td>22168.73</td>\n",
       "      <td>2.216873e+04</td>\n",
       "      <td>1.000000</td>\n",
       "    </tr>\n",
       "    <tr>\n",
       "      <th>39</th>\n",
       "      <td>27 BOARD OF LICENSES &amp; INSPECTIONS</td>\n",
       "      <td>9377.71</td>\n",
       "      <td>9.377710e+03</td>\n",
       "      <td>1.000000</td>\n",
       "    </tr>\n",
       "    <tr>\n",
       "      <th>34</th>\n",
       "      <td>63 BOARD OF REVISION OF TAXES</td>\n",
       "      <td>18233.46</td>\n",
       "      <td>6.008468e+04</td>\n",
       "      <td>0.303463</td>\n",
       "    </tr>\n",
       "    <tr>\n",
       "      <th>18</th>\n",
       "      <td>31 RECORDS</td>\n",
       "      <td>450192.21</td>\n",
       "      <td>1.935737e+06</td>\n",
       "      <td>0.232569</td>\n",
       "    </tr>\n",
       "    <tr>\n",
       "      <th>37</th>\n",
       "      <td>54 COMMISSION ON HUMAN RELATIONS</td>\n",
       "      <td>13304.40</td>\n",
       "      <td>6.272217e+04</td>\n",
       "      <td>0.212116</td>\n",
       "    </tr>\n",
       "    <tr>\n",
       "      <th>9</th>\n",
       "      <td>26 LICENSES &amp; INSPECTIONS</td>\n",
       "      <td>2139198.04</td>\n",
       "      <td>1.149407e+07</td>\n",
       "      <td>0.186113</td>\n",
       "    </tr>\n",
       "    <tr>\n",
       "      <th>0</th>\n",
       "      <td>20 PUBLIC PROPERTY</td>\n",
       "      <td>21789145.90</td>\n",
       "      <td>1.475318e+08</td>\n",
       "      <td>0.147691</td>\n",
       "    </tr>\n",
       "    <tr>\n",
       "      <th>26</th>\n",
       "      <td>61 CITY CONTROLLER</td>\n",
       "      <td>55993.77</td>\n",
       "      <td>4.219127e+05</td>\n",
       "      <td>0.132714</td>\n",
       "    </tr>\n",
       "    <tr>\n",
       "      <th>1</th>\n",
       "      <td>23 PRISONS</td>\n",
       "      <td>12439553.07</td>\n",
       "      <td>1.041799e+08</td>\n",
       "      <td>0.119405</td>\n",
       "    </tr>\n",
       "    <tr>\n",
       "      <th>22</th>\n",
       "      <td>01 CITY COUNCIL</td>\n",
       "      <td>221994.07</td>\n",
       "      <td>2.009822e+06</td>\n",
       "      <td>0.110455</td>\n",
       "    </tr>\n",
       "    <tr>\n",
       "      <th>30</th>\n",
       "      <td>49 MAYOR-OFFICE OF SUSTAINABILITY</td>\n",
       "      <td>38625.00</td>\n",
       "      <td>3.962941e+05</td>\n",
       "      <td>0.097466</td>\n",
       "    </tr>\n",
       "    <tr>\n",
       "      <th>7</th>\n",
       "      <td>36 REVENUE</td>\n",
       "      <td>2815716.12</td>\n",
       "      <td>3.034555e+07</td>\n",
       "      <td>0.092788</td>\n",
       "    </tr>\n",
       "    <tr>\n",
       "      <th>21</th>\n",
       "      <td>73 CITY COMMISSIONERS</td>\n",
       "      <td>290863.67</td>\n",
       "      <td>3.217290e+06</td>\n",
       "      <td>0.090406</td>\n",
       "    </tr>\n",
       "    <tr>\n",
       "      <th>17</th>\n",
       "      <td>44 LAW</td>\n",
       "      <td>519092.98</td>\n",
       "      <td>6.424679e+06</td>\n",
       "      <td>0.080797</td>\n",
       "    </tr>\n",
       "    <tr>\n",
       "      <th>16</th>\n",
       "      <td>52 FREE LIBRARY</td>\n",
       "      <td>799739.42</td>\n",
       "      <td>1.289713e+07</td>\n",
       "      <td>0.062009</td>\n",
       "    </tr>\n",
       "    <tr>\n",
       "      <th>31</th>\n",
       "      <td>05 MAYOR'S OFFICE</td>\n",
       "      <td>30602.06</td>\n",
       "      <td>5.236128e+05</td>\n",
       "      <td>0.058444</td>\n",
       "    </tr>\n",
       "    <tr>\n",
       "      <th>15</th>\n",
       "      <td>11 POLICE</td>\n",
       "      <td>846438.03</td>\n",
       "      <td>1.571611e+07</td>\n",
       "      <td>0.053858</td>\n",
       "    </tr>\n",
       "    <tr>\n",
       "      <th>23</th>\n",
       "      <td>38 PROCUREMENT</td>\n",
       "      <td>152736.77</td>\n",
       "      <td>3.350743e+06</td>\n",
       "      <td>0.045583</td>\n",
       "    </tr>\n",
       "    <tr>\n",
       "      <th>10</th>\n",
       "      <td>16 RECREATION</td>\n",
       "      <td>2136727.91</td>\n",
       "      <td>5.023974e+07</td>\n",
       "      <td>0.042531</td>\n",
       "    </tr>\n",
       "    <tr>\n",
       "      <th>29</th>\n",
       "      <td>70 SHERIFF</td>\n",
       "      <td>41922.56</td>\n",
       "      <td>1.032067e+06</td>\n",
       "      <td>0.040620</td>\n",
       "    </tr>\n",
       "    <tr>\n",
       "      <th>6</th>\n",
       "      <td>04 MDO-OFFICE OF TECHNOLOGY</td>\n",
       "      <td>2954861.34</td>\n",
       "      <td>7.895753e+07</td>\n",
       "      <td>0.037423</td>\n",
       "    </tr>\n",
       "    <tr>\n",
       "      <th>43</th>\n",
       "      <td>67 PHI WATER,SEWER &amp; STORMWTR RATE BOARD</td>\n",
       "      <td>1324.16</td>\n",
       "      <td>4.001018e+04</td>\n",
       "      <td>0.033096</td>\n",
       "    </tr>\n",
       "    <tr>\n",
       "      <th>11</th>\n",
       "      <td>24 OFFICE OF SUPPORTIVE HOUSING</td>\n",
       "      <td>1898982.06</td>\n",
       "      <td>6.381903e+07</td>\n",
       "      <td>0.029756</td>\n",
       "    </tr>\n",
       "    <tr>\n",
       "      <th>2</th>\n",
       "      <td>28 WATER</td>\n",
       "      <td>10100616.56</td>\n",
       "      <td>3.611951e+08</td>\n",
       "      <td>0.027964</td>\n",
       "    </tr>\n",
       "    <tr>\n",
       "      <th>3</th>\n",
       "      <td>42 COMMERCE</td>\n",
       "      <td>8823037.44</td>\n",
       "      <td>3.533814e+08</td>\n",
       "      <td>0.024967</td>\n",
       "    </tr>\n",
       "    <tr>\n",
       "      <th>5</th>\n",
       "      <td>12 STREETS</td>\n",
       "      <td>3150014.18</td>\n",
       "      <td>1.266477e+08</td>\n",
       "      <td>0.024872</td>\n",
       "    </tr>\n",
       "    <tr>\n",
       "      <th>4</th>\n",
       "      <td>22 HUMAN SERVICES</td>\n",
       "      <td>7459325.64</td>\n",
       "      <td>3.838947e+08</td>\n",
       "      <td>0.019431</td>\n",
       "    </tr>\n",
       "    <tr>\n",
       "      <th>14</th>\n",
       "      <td>25 FLEET MANAGEMENT</td>\n",
       "      <td>1196043.71</td>\n",
       "      <td>6.249764e+07</td>\n",
       "      <td>0.019137</td>\n",
       "    </tr>\n",
       "    <tr>\n",
       "      <th>19</th>\n",
       "      <td>13 FIRE</td>\n",
       "      <td>321255.24</td>\n",
       "      <td>1.689572e+07</td>\n",
       "      <td>0.019014</td>\n",
       "    </tr>\n",
       "    <tr>\n",
       "      <th>32</th>\n",
       "      <td>65 MAYOR-OFFICE OF THE CHIEF ADM OFFICER</td>\n",
       "      <td>24651.26</td>\n",
       "      <td>1.354477e+06</td>\n",
       "      <td>0.018200</td>\n",
       "    </tr>\n",
       "    <tr>\n",
       "      <th>24</th>\n",
       "      <td>17 FAIRMOUNT PARK COMMISSION</td>\n",
       "      <td>100874.07</td>\n",
       "      <td>5.697752e+06</td>\n",
       "      <td>0.017704</td>\n",
       "    </tr>\n",
       "    <tr>\n",
       "      <th>42</th>\n",
       "      <td>68 REGISTER OF WILLS</td>\n",
       "      <td>1721.25</td>\n",
       "      <td>1.085078e+05</td>\n",
       "      <td>0.015863</td>\n",
       "    </tr>\n",
       "    <tr>\n",
       "      <th>35</th>\n",
       "      <td>59 OFFICE OF PROPERTY ASSESSMENTS</td>\n",
       "      <td>16405.90</td>\n",
       "      <td>1.055214e+06</td>\n",
       "      <td>0.015547</td>\n",
       "    </tr>\n",
       "    <tr>\n",
       "      <th>38</th>\n",
       "      <td>56 PERSONNEL</td>\n",
       "      <td>10210.30</td>\n",
       "      <td>7.008354e+05</td>\n",
       "      <td>0.014569</td>\n",
       "    </tr>\n",
       "    <tr>\n",
       "      <th>8</th>\n",
       "      <td>14 HEALTH</td>\n",
       "      <td>2612670.21</td>\n",
       "      <td>2.780221e+08</td>\n",
       "      <td>0.009397</td>\n",
       "    </tr>\n",
       "    <tr>\n",
       "      <th>13</th>\n",
       "      <td>35 DIRECTOR OF FINANCE</td>\n",
       "      <td>1216509.61</td>\n",
       "      <td>1.479252e+08</td>\n",
       "      <td>0.008224</td>\n",
       "    </tr>\n",
       "    <tr>\n",
       "      <th>28</th>\n",
       "      <td>08 MAYOR'S OFFICE-COMMUNITY SERVICES</td>\n",
       "      <td>50934.82</td>\n",
       "      <td>1.088959e+07</td>\n",
       "      <td>0.004677</td>\n",
       "    </tr>\n",
       "    <tr>\n",
       "      <th>48</th>\n",
       "      <td>40 CITY TREASURER</td>\n",
       "      <td>275.40</td>\n",
       "      <td>6.264419e+04</td>\n",
       "      <td>0.004396</td>\n",
       "    </tr>\n",
       "    <tr>\n",
       "      <th>47</th>\n",
       "      <td>48 MAYOR-OFFICE OF THE INSPECTOR GENERAL</td>\n",
       "      <td>453.17</td>\n",
       "      <td>1.239853e+05</td>\n",
       "      <td>0.003655</td>\n",
       "    </tr>\n",
       "    <tr>\n",
       "      <th>44</th>\n",
       "      <td>41 CITY REPRESENTATIVE</td>\n",
       "      <td>1245.61</td>\n",
       "      <td>3.771261e+05</td>\n",
       "      <td>0.003303</td>\n",
       "    </tr>\n",
       "    <tr>\n",
       "      <th>36</th>\n",
       "      <td>66 MAYOR-OFFICE OF COMM SCHOOLS &amp; PRE-K</td>\n",
       "      <td>16122.42</td>\n",
       "      <td>4.885570e+06</td>\n",
       "      <td>0.003300</td>\n",
       "    </tr>\n",
       "    <tr>\n",
       "      <th>20</th>\n",
       "      <td>10 MANAGING DIRECTOR</td>\n",
       "      <td>299700.13</td>\n",
       "      <td>1.042270e+08</td>\n",
       "      <td>0.002875</td>\n",
       "    </tr>\n",
       "    <tr>\n",
       "      <th>40</th>\n",
       "      <td>53 BOARD OF PENSIONS</td>\n",
       "      <td>3956.23</td>\n",
       "      <td>1.844842e+06</td>\n",
       "      <td>0.002144</td>\n",
       "    </tr>\n",
       "    <tr>\n",
       "      <th>46</th>\n",
       "      <td>51 CITY PLANNING COMMISSION</td>\n",
       "      <td>611.98</td>\n",
       "      <td>3.065862e+05</td>\n",
       "      <td>0.001996</td>\n",
       "    </tr>\n",
       "    <tr>\n",
       "      <th>12</th>\n",
       "      <td>15 OFFICE OF BH/MR SERVICES</td>\n",
       "      <td>1670834.71</td>\n",
       "      <td>1.143609e+09</td>\n",
       "      <td>0.001461</td>\n",
       "    </tr>\n",
       "    <tr>\n",
       "      <th>25</th>\n",
       "      <td>06 OFFICE OF HOUSING</td>\n",
       "      <td>68856.95</td>\n",
       "      <td>7.351700e+07</td>\n",
       "      <td>0.000937</td>\n",
       "    </tr>\n",
       "    <tr>\n",
       "      <th>41</th>\n",
       "      <td>69 DISTRICT ATTORNEY</td>\n",
       "      <td>1817.26</td>\n",
       "      <td>2.660849e+06</td>\n",
       "      <td>0.000683</td>\n",
       "    </tr>\n",
       "    <tr>\n",
       "      <th>45</th>\n",
       "      <td>58 OFFICE OF ARTS &amp; CULTURE</td>\n",
       "      <td>714.67</td>\n",
       "      <td>3.955600e+06</td>\n",
       "      <td>0.000181</td>\n",
       "    </tr>\n",
       "    <tr>\n",
       "      <th>27</th>\n",
       "      <td>37 SINKING FUND COMMISSION</td>\n",
       "      <td>51430.79</td>\n",
       "      <td>5.714828e+08</td>\n",
       "      <td>0.000090</td>\n",
       "    </tr>\n",
       "  </tbody>\n",
       "</table>\n",
       "</div>"
      ],
      "text/plain": [
       "                            department_title  dollar_amount_x  \\\n",
       "33                           30 ZONING BOARD         22168.73   \n",
       "39        27 BOARD OF LICENSES & INSPECTIONS          9377.71   \n",
       "34             63 BOARD OF REVISION OF TAXES         18233.46   \n",
       "18                                31 RECORDS        450192.21   \n",
       "37          54 COMMISSION ON HUMAN RELATIONS         13304.40   \n",
       "9                  26 LICENSES & INSPECTIONS       2139198.04   \n",
       "0                         20 PUBLIC PROPERTY      21789145.90   \n",
       "26                        61 CITY CONTROLLER         55993.77   \n",
       "1                                 23 PRISONS      12439553.07   \n",
       "22                           01 CITY COUNCIL        221994.07   \n",
       "30         49 MAYOR-OFFICE OF SUSTAINABILITY         38625.00   \n",
       "7                                 36 REVENUE       2815716.12   \n",
       "21                     73 CITY COMMISSIONERS        290863.67   \n",
       "17                                    44 LAW        519092.98   \n",
       "16                           52 FREE LIBRARY        799739.42   \n",
       "31                         05 MAYOR'S OFFICE         30602.06   \n",
       "15                                 11 POLICE        846438.03   \n",
       "23                            38 PROCUREMENT        152736.77   \n",
       "10                             16 RECREATION       2136727.91   \n",
       "29                                70 SHERIFF         41922.56   \n",
       "6                04 MDO-OFFICE OF TECHNOLOGY       2954861.34   \n",
       "43  67 PHI WATER,SEWER & STORMWTR RATE BOARD          1324.16   \n",
       "11           24 OFFICE OF SUPPORTIVE HOUSING       1898982.06   \n",
       "2                                   28 WATER      10100616.56   \n",
       "3                                42 COMMERCE       8823037.44   \n",
       "5                                 12 STREETS       3150014.18   \n",
       "4                          22 HUMAN SERVICES       7459325.64   \n",
       "14                       25 FLEET MANAGEMENT       1196043.71   \n",
       "19                                   13 FIRE        321255.24   \n",
       "32  65 MAYOR-OFFICE OF THE CHIEF ADM OFFICER         24651.26   \n",
       "24              17 FAIRMOUNT PARK COMMISSION        100874.07   \n",
       "42                      68 REGISTER OF WILLS          1721.25   \n",
       "35         59 OFFICE OF PROPERTY ASSESSMENTS         16405.90   \n",
       "38                              56 PERSONNEL         10210.30   \n",
       "8                                  14 HEALTH       2612670.21   \n",
       "13                    35 DIRECTOR OF FINANCE       1216509.61   \n",
       "28      08 MAYOR'S OFFICE-COMMUNITY SERVICES         50934.82   \n",
       "48                         40 CITY TREASURER           275.40   \n",
       "47  48 MAYOR-OFFICE OF THE INSPECTOR GENERAL           453.17   \n",
       "44                    41 CITY REPRESENTATIVE          1245.61   \n",
       "36   66 MAYOR-OFFICE OF COMM SCHOOLS & PRE-K         16122.42   \n",
       "20                      10 MANAGING DIRECTOR        299700.13   \n",
       "40                      53 BOARD OF PENSIONS          3956.23   \n",
       "46               51 CITY PLANNING COMMISSION           611.98   \n",
       "12               15 OFFICE OF BH/MR SERVICES       1670834.71   \n",
       "25                      06 OFFICE OF HOUSING         68856.95   \n",
       "41                      69 DISTRICT ATTORNEY          1817.26   \n",
       "45               58 OFFICE OF ARTS & CULTURE           714.67   \n",
       "27                37 SINKING FUND COMMISSION         51430.79   \n",
       "\n",
       "    dollar_amount_y  normalized_amount  \n",
       "33     2.216873e+04           1.000000  \n",
       "39     9.377710e+03           1.000000  \n",
       "34     6.008468e+04           0.303463  \n",
       "18     1.935737e+06           0.232569  \n",
       "37     6.272217e+04           0.212116  \n",
       "9      1.149407e+07           0.186113  \n",
       "0      1.475318e+08           0.147691  \n",
       "26     4.219127e+05           0.132714  \n",
       "1      1.041799e+08           0.119405  \n",
       "22     2.009822e+06           0.110455  \n",
       "30     3.962941e+05           0.097466  \n",
       "7      3.034555e+07           0.092788  \n",
       "21     3.217290e+06           0.090406  \n",
       "17     6.424679e+06           0.080797  \n",
       "16     1.289713e+07           0.062009  \n",
       "31     5.236128e+05           0.058444  \n",
       "15     1.571611e+07           0.053858  \n",
       "23     3.350743e+06           0.045583  \n",
       "10     5.023974e+07           0.042531  \n",
       "29     1.032067e+06           0.040620  \n",
       "6      7.895753e+07           0.037423  \n",
       "43     4.001018e+04           0.033096  \n",
       "11     6.381903e+07           0.029756  \n",
       "2      3.611951e+08           0.027964  \n",
       "3      3.533814e+08           0.024967  \n",
       "5      1.266477e+08           0.024872  \n",
       "4      3.838947e+08           0.019431  \n",
       "14     6.249764e+07           0.019137  \n",
       "19     1.689572e+07           0.019014  \n",
       "32     1.354477e+06           0.018200  \n",
       "24     5.697752e+06           0.017704  \n",
       "42     1.085078e+05           0.015863  \n",
       "35     1.055214e+06           0.015547  \n",
       "38     7.008354e+05           0.014569  \n",
       "8      2.780221e+08           0.009397  \n",
       "13     1.479252e+08           0.008224  \n",
       "28     1.088959e+07           0.004677  \n",
       "48     6.264419e+04           0.004396  \n",
       "47     1.239853e+05           0.003655  \n",
       "44     3.771261e+05           0.003303  \n",
       "36     4.885570e+06           0.003300  \n",
       "20     1.042270e+08           0.002875  \n",
       "40     1.844842e+06           0.002144  \n",
       "46     3.065862e+05           0.001996  \n",
       "12     1.143609e+09           0.001461  \n",
       "25     7.351700e+07           0.000937  \n",
       "41     2.660849e+06           0.000683  \n",
       "45     3.955600e+06           0.000181  \n",
       "27     5.714828e+08           0.000090  "
      ]
     },
     "execution_count": 255,
     "metadata": {},
     "output_type": "execute_result"
    }
   ],
   "source": [
    "merged_dept.sort_values(by='normalized_amount', ascending=False)"
   ]
  },
  {
   "cell_type": "markdown",
   "metadata": {},
   "source": [
    "### g) Finanacial Year (fy) trends\n",
    "In which financial year was the payment made the most? => data only contains 2017 fy data!!"
   ]
  },
  {
   "cell_type": "code",
   "execution_count": 256,
   "metadata": {},
   "outputs": [
    {
     "data": {
      "text/html": [
       "<div>\n",
       "<style scoped>\n",
       "    .dataframe tbody tr th:only-of-type {\n",
       "        vertical-align: middle;\n",
       "    }\n",
       "\n",
       "    .dataframe tbody tr th {\n",
       "        vertical-align: top;\n",
       "    }\n",
       "\n",
       "    .dataframe thead th {\n",
       "        text-align: right;\n",
       "    }\n",
       "</style>\n",
       "<table border=\"1\" class=\"dataframe\">\n",
       "  <thead>\n",
       "    <tr style=\"text-align: right;\">\n",
       "      <th></th>\n",
       "      <th>fy</th>\n",
       "      <th>N</th>\n",
       "    </tr>\n",
       "  </thead>\n",
       "  <tbody>\n",
       "    <tr>\n",
       "      <th>0</th>\n",
       "      <td>2017</td>\n",
       "      <td>9613</td>\n",
       "    </tr>\n",
       "  </tbody>\n",
       "</table>\n",
       "</div>"
      ],
      "text/plain": [
       "     fy     N\n",
       "0  2017  9613"
      ]
     },
     "execution_count": 256,
     "metadata": {},
     "output_type": "execute_result"
    }
   ],
   "source": [
    "all_payments.groupby('fy').size().to_frame('N').reset_index() # every payments in matched data made in 2017 fy"
   ]
  },
  {
   "cell_type": "code",
   "execution_count": 257,
   "metadata": {},
   "outputs": [
    {
     "data": {
      "text/html": [
       "<div>\n",
       "<style scoped>\n",
       "    .dataframe tbody tr th:only-of-type {\n",
       "        vertical-align: middle;\n",
       "    }\n",
       "\n",
       "    .dataframe tbody tr th {\n",
       "        vertical-align: top;\n",
       "    }\n",
       "\n",
       "    .dataframe thead th {\n",
       "        text-align: right;\n",
       "    }\n",
       "</style>\n",
       "<table border=\"1\" class=\"dataframe\">\n",
       "  <thead>\n",
       "    <tr style=\"text-align: right;\">\n",
       "      <th></th>\n",
       "      <th>fy</th>\n",
       "      <th>N</th>\n",
       "    </tr>\n",
       "  </thead>\n",
       "  <tbody>\n",
       "    <tr>\n",
       "      <th>0</th>\n",
       "      <td>2017</td>\n",
       "      <td>238894</td>\n",
       "    </tr>\n",
       "  </tbody>\n",
       "</table>\n",
       "</div>"
      ],
      "text/plain": [
       "     fy       N\n",
       "0  2017  238894"
      ]
     },
     "execution_count": 257,
     "metadata": {},
     "output_type": "execute_result"
    }
   ],
   "source": [
    "cleaned_payments.groupby('fy').size().to_frame('N').reset_index() # only 2017 fy"
   ]
  },
  {
   "cell_type": "markdown",
   "metadata": {},
   "source": [
    "### h) Total payments of all business vs minority business"
   ]
  },
  {
   "cell_type": "code",
   "execution_count": 40,
   "metadata": {},
   "outputs": [],
   "source": [
    "total_payments_all_bus = cleaned_payments.transaction_amount.sum()"
   ]
  },
  {
   "cell_type": "code",
   "execution_count": 43,
   "metadata": {},
   "outputs": [],
   "source": [
    "total_payments_minority = total_transaction_per_vendor.dollar_amount.sum()"
   ]
  },
  {
   "cell_type": "code",
   "execution_count": 44,
   "metadata": {},
   "outputs": [
    {
     "data": {
      "text/plain": [
       "2.0705803876813436"
      ]
     },
     "execution_count": 44,
     "metadata": {},
     "output_type": "execute_result"
    }
   ],
   "source": [
    "total_payments_minority / total_payments_all_bus * 100"
   ]
  },
  {
   "cell_type": "code",
   "execution_count": null,
   "metadata": {},
   "outputs": [],
   "source": []
  }
 ],
 "metadata": {
  "kernelspec": {
   "display_name": "Python 3",
   "language": "python",
   "name": "python3"
  },
  "language_info": {
   "codemirror_mode": {
    "name": "ipython",
    "version": 3
   },
   "file_extension": ".py",
   "mimetype": "text/x-python",
   "name": "python",
   "nbconvert_exporter": "python",
   "pygments_lexer": "ipython3",
   "version": "3.7.4"
  }
 },
 "nbformat": 4,
 "nbformat_minor": 2
}
