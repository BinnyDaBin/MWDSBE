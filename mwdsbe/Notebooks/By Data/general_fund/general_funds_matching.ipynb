{
 "cells": [
  {
   "cell_type": "markdown",
   "metadata": {},
   "source": [
    "# Test Matching with different score_cutoff"
   ]
  },
  {
   "cell_type": "code",
   "execution_count": 1,
   "metadata": {},
   "outputs": [],
   "source": [
    "import pandas as pd\n",
    "import mwdsbe\n",
    "import schuylkill as skool\n",
    "import time"
   ]
  },
  {
   "cell_type": "code",
   "execution_count": 2,
   "metadata": {},
   "outputs": [],
   "source": [
    "registry = mwdsbe.load_registry() # geopandas df"
   ]
  },
  {
   "cell_type": "code",
   "execution_count": 3,
   "metadata": {},
   "outputs": [],
   "source": [
    "gf = pd.read_excel(r'C:\\Users\\dabinlee\\Documents\\GitHub\\mwdsbe_binny\\MWDSBE\\mwdsbe\\data\\cwedp_37_report.xlsx', sheet_name='general_funds')"
   ]
  },
  {
   "cell_type": "code",
   "execution_count": 4,
   "metadata": {},
   "outputs": [
    {
     "data": {
      "text/plain": [
       "3119"
      ]
     },
     "execution_count": 4,
     "metadata": {},
     "output_type": "execute_result"
    }
   ],
   "source": [
    "len(registry)"
   ]
  },
  {
   "cell_type": "code",
   "execution_count": 5,
   "metadata": {},
   "outputs": [
    {
     "data": {
      "text/plain": [
       "324213"
      ]
     },
     "execution_count": 5,
     "metadata": {},
     "output_type": "execute_result"
    }
   ],
   "source": [
    "len(gf)"
   ]
  },
  {
   "cell_type": "code",
   "execution_count": 6,
   "metadata": {},
   "outputs": [
    {
     "data": {
      "text/plain": [
       "243375"
      ]
     },
     "execution_count": 6,
     "metadata": {},
     "output_type": "execute_result"
    }
   ],
   "source": [
    "# filter gf with unrevelant maj_class and na vendor name\n",
    "gf = gf.loc[gf['MAJ_CLASS'] != 1]\n",
    "gf = gf.loc[gf['VEND_NAME'].dropna().index]\n",
    "len(gf)"
   ]
  },
  {
   "cell_type": "code",
   "execution_count": 7,
   "metadata": {},
   "outputs": [],
   "source": [
    "# clean data\n",
    "ignore_words = ['inc', 'group', 'llc', 'corp', 'pc', 'incorporated', 'ltd', 'co', 'associates', 'services', 'company', 'enterprises', 'enterprise', 'service', 'corporation']\n",
    "cleaned_registry = skool.clean_strings(registry, ['company_name', 'dba_name'], True, ignore_words)\n",
    "cleaned_gf = skool.clean_strings(gf, ['VEND_NAME'], True, ignore_words)\n",
    "\n",
    "cleaned_registry = cleaned_registry.dropna(subset=['company_name'])\n",
    "cleaned_gf = cleaned_gf.dropna(subset=['VEND_NAME'])"
   ]
  },
  {
   "cell_type": "markdown",
   "metadata": {},
   "source": [
    "## Fuzz 95 + TFIDF 85\n",
    "* Number of wrong matches: 6\n",
    "* Highest score_cutoff of wrong matches: 0.916"
   ]
  },
  {
   "cell_type": "code",
   "execution_count": 34,
   "metadata": {},
   "outputs": [],
   "source": [
    "t1 = time.time()\n",
    "merged3 = (\n",
    "    skool.fuzzy_merge(cleaned_registry, cleaned_gf, left_on=\"company_name\", right_on=\"VEND_NAME\", score_cutoff=95)\n",
    "    .pipe(skool.fuzzy_merge, cleaned_registry, cleaned_gf, left_on=\"dba_name\", right_on=\"VEND_NAME\", score_cutoff=95)\n",
    "    .pipe(skool.tf_idf_merge, cleaned_registry, cleaned_gf, left_on=\"company_name\", right_on=\"VEND_NAME\", score_cutoff=85)\n",
    "    .pipe(skool.tf_idf_merge, cleaned_registry, cleaned_gf, left_on=\"dba_name\", right_on=\"VEND_NAME\", score_cutoff=85)\n",
    ")\n",
    "t = time.time() - t1"
   ]
  },
  {
   "cell_type": "code",
   "execution_count": 35,
   "metadata": {},
   "outputs": [
    {
     "name": "stdout",
     "output_type": "stream",
     "text": [
      "Execution time: 22.648447954654692 min\n"
     ]
    }
   ],
   "source": [
    "print('Execution time:', t/60, 'min')"
   ]
  },
  {
   "cell_type": "code",
   "execution_count": 36,
   "metadata": {},
   "outputs": [],
   "source": [
    "matched3 = merged3.dropna(subset=['VEND_NAME'])"
   ]
  },
  {
   "cell_type": "code",
   "execution_count": 37,
   "metadata": {},
   "outputs": [
    {
     "data": {
      "text/plain": [
       "136"
      ]
     },
     "execution_count": 37,
     "metadata": {},
     "output_type": "execute_result"
    }
   ],
   "source": [
    "len(matched3)"
   ]
  },
  {
   "cell_type": "code",
   "execution_count": 38,
   "metadata": {},
   "outputs": [],
   "source": [
    "simple_matched3 = matched3[['company_name', 'dba_name', 'match_probability', 'VEND_NAME']]"
   ]
  },
  {
   "cell_type": "code",
   "execution_count": 39,
   "metadata": {},
   "outputs": [],
   "source": [
    "simple_matched3.to_excel(r'C:\\Users\\dabinlee\\Documents\\GitHub\\mwdsbe_binny\\MWDSBE\\analysis\\data\\general_funds\\offset\\fuzz95+tfidf85.xlsx', header=True)"
   ]
  },
  {
   "cell_type": "markdown",
   "metadata": {},
   "source": [
    "## Fuzz 95 + TFIDF 90"
   ]
  },
  {
   "cell_type": "code",
   "execution_count": 15,
   "metadata": {},
   "outputs": [],
   "source": [
    "t1 = time.time()\n",
    "merged = (\n",
    "    skool.fuzzy_merge(cleaned_registry, cleaned_gf, left_on=\"company_name\", right_on=\"VEND_NAME\", score_cutoff=95)\n",
    "    .pipe(skool.fuzzy_merge, cleaned_registry, cleaned_gf, left_on=\"dba_name\", right_on=\"VEND_NAME\", score_cutoff=95)\n",
    "    .pipe(skool.tf_idf_merge, cleaned_registry, cleaned_gf, left_on=\"company_name\", right_on=\"VEND_NAME\", score_cutoff=90)\n",
    "    .pipe(skool.tf_idf_merge, cleaned_registry, cleaned_gf, left_on=\"dba_name\", right_on=\"VEND_NAME\", score_cutoff=90)\n",
    ")\n",
    "t = time.time() - t1"
   ]
  },
  {
   "cell_type": "code",
   "execution_count": 16,
   "metadata": {},
   "outputs": [
    {
     "name": "stdout",
     "output_type": "stream",
     "text": [
      "Execution time: 22.16238275766373 min\n"
     ]
    }
   ],
   "source": [
    "print('Execution time:', t/60, 'min')"
   ]
  },
  {
   "cell_type": "code",
   "execution_count": 17,
   "metadata": {},
   "outputs": [],
   "source": [
    "matched = merged.dropna(subset=['VEND_NAME'])"
   ]
  },
  {
   "cell_type": "code",
   "execution_count": 23,
   "metadata": {},
   "outputs": [
    {
     "data": {
      "text/plain": [
       "129"
      ]
     },
     "execution_count": 23,
     "metadata": {},
     "output_type": "execute_result"
    }
   ],
   "source": [
    "len(matched)"
   ]
  },
  {
   "cell_type": "code",
   "execution_count": 24,
   "metadata": {},
   "outputs": [],
   "source": [
    "simple_matched = matched[['company_name', 'dba_name', 'match_probability', 'VEND_NAME']]"
   ]
  },
  {
   "cell_type": "code",
   "execution_count": 26,
   "metadata": {},
   "outputs": [],
   "source": [
    "simple_matched.to_excel(r'C:\\Users\\dabinlee\\Documents\\GitHub\\mwdsbe_binny\\MWDSBE\\analysis\\data\\general_funds\\offset\\fuzz95_tfidf90.xlsx', header=True)"
   ]
  },
  {
   "cell_type": "markdown",
   "metadata": {},
   "source": [
    "Fuzz95+TFIDF90 has less matches than Fuzz95+TFIDF90-wrong matches=136-6=130 "
   ]
  },
  {
   "cell_type": "code",
   "execution_count": null,
   "metadata": {},
   "outputs": [],
   "source": [
    "set1=set(t85['company_name'])\n",
    "set2=set(matched['company_name'])"
   ]
  },
  {
   "cell_type": "markdown",
   "metadata": {},
   "source": [
    "## Fuzz 95 + TFIDF 95"
   ]
  },
  {
   "cell_type": "code",
   "execution_count": 19,
   "metadata": {},
   "outputs": [],
   "source": [
    "t1 = time.time()\n",
    "merged2 = (\n",
    "    skool.fuzzy_merge(cleaned_registry, cleaned_gf, left_on=\"company_name\", right_on=\"VEND_NAME\", score_cutoff=95)\n",
    "    .pipe(skool.fuzzy_merge, cleaned_registry, cleaned_gf, left_on=\"dba_name\", right_on=\"VEND_NAME\", score_cutoff=95)\n",
    "    .pipe(skool.tf_idf_merge, cleaned_registry, cleaned_gf, left_on=\"company_name\", right_on=\"VEND_NAME\", score_cutoff=95)\n",
    "    .pipe(skool.tf_idf_merge, cleaned_registry, cleaned_gf, left_on=\"dba_name\", right_on=\"VEND_NAME\", score_cutoff=95)\n",
    ")\n",
    "t = time.time() - t1"
   ]
  },
  {
   "cell_type": "code",
   "execution_count": 20,
   "metadata": {},
   "outputs": [
    {
     "name": "stdout",
     "output_type": "stream",
     "text": [
      "Execution time: 22.20575442711512 min\n"
     ]
    }
   ],
   "source": [
    "print('Execution time:', t/60, 'min')"
   ]
  },
  {
   "cell_type": "code",
   "execution_count": 21,
   "metadata": {},
   "outputs": [],
   "source": [
    "matched2 = merged2.dropna(subset=['VEND_NAME'])"
   ]
  },
  {
   "cell_type": "code",
   "execution_count": 27,
   "metadata": {},
   "outputs": [
    {
     "data": {
      "text/plain": [
       "124"
      ]
     },
     "execution_count": 27,
     "metadata": {},
     "output_type": "execute_result"
    }
   ],
   "source": [
    "len(matched2)"
   ]
  },
  {
   "cell_type": "code",
   "execution_count": 28,
   "metadata": {},
   "outputs": [],
   "source": [
    "simple_matched2 = matched2[['company_name', 'dba_name', 'match_probability', 'VEND_NAME']]"
   ]
  },
  {
   "cell_type": "code",
   "execution_count": 29,
   "metadata": {},
   "outputs": [],
   "source": [
    "simple_matched2.to_excel(r'C:\\Users\\dabinlee\\Documents\\GitHub\\mwdsbe_binny\\MWDSBE\\analysis\\data\\general_funds\\offset\\fuzz95_tfidf95.xlsx', header=True)"
   ]
  },
  {
   "cell_type": "markdown",
   "metadata": {},
   "source": [
    "## Best Score_cutoff 0.913"
   ]
  },
  {
   "cell_type": "code",
   "execution_count": 50,
   "metadata": {},
   "outputs": [],
   "source": [
    "best_matched = matched3.loc[simple_matched3['match_probability'] > 0.913]"
   ]
  },
  {
   "cell_type": "code",
   "execution_count": 51,
   "metadata": {},
   "outputs": [
    {
     "data": {
      "text/plain": [
       "127"
      ]
     },
     "execution_count": 51,
     "metadata": {},
     "output_type": "execute_result"
    }
   ],
   "source": [
    "len(best_matched)"
   ]
  },
  {
   "cell_type": "code",
   "execution_count": 52,
   "metadata": {},
   "outputs": [],
   "source": [
    "best_matched.to_excel(r'C:\\Users\\dabinlee\\Documents\\GitHub\\mwdsbe_binny\\MWDSBE\\analysis\\data\\general_funds\\fuzz95_tfidf913.xlsx', header=True)"
   ]
  },
  {
   "cell_type": "markdown",
   "metadata": {},
   "source": [
    "## Fuzz 95 + TFIDF 80"
   ]
  },
  {
   "cell_type": "code",
   "execution_count": 53,
   "metadata": {},
   "outputs": [],
   "source": [
    "t1 = time.time()\n",
    "merged4 = (\n",
    "    skool.fuzzy_merge(cleaned_registry, cleaned_gf, left_on=\"company_name\", right_on=\"VEND_NAME\", score_cutoff=95)\n",
    "    .pipe(skool.fuzzy_merge, cleaned_registry, cleaned_gf, left_on=\"dba_name\", right_on=\"VEND_NAME\", score_cutoff=95)\n",
    "    .pipe(skool.tf_idf_merge, cleaned_registry, cleaned_gf, left_on=\"company_name\", right_on=\"VEND_NAME\", score_cutoff=80)\n",
    "    .pipe(skool.tf_idf_merge, cleaned_registry, cleaned_gf, left_on=\"dba_name\", right_on=\"VEND_NAME\", score_cutoff=80)\n",
    ")\n",
    "t = time.time() - t1"
   ]
  },
  {
   "cell_type": "code",
   "execution_count": 54,
   "metadata": {},
   "outputs": [
    {
     "name": "stdout",
     "output_type": "stream",
     "text": [
      "Execution time: 22.857625369230906 min\n"
     ]
    }
   ],
   "source": [
    "print('Execution time:', t/60, 'min')"
   ]
  },
  {
   "cell_type": "code",
   "execution_count": 56,
   "metadata": {},
   "outputs": [],
   "source": [
    "matched4 = merged4.dropna(subset=['VEND_NAME'])"
   ]
  },
  {
   "cell_type": "code",
   "execution_count": 57,
   "metadata": {},
   "outputs": [
    {
     "data": {
      "text/plain": [
       "150"
      ]
     },
     "execution_count": 57,
     "metadata": {},
     "output_type": "execute_result"
    }
   ],
   "source": [
    "len(matched4)"
   ]
  },
  {
   "cell_type": "code",
   "execution_count": 58,
   "metadata": {},
   "outputs": [],
   "source": [
    "simple_matched4 = matched4[['company_name', 'dba_name', 'match_probability', 'VEND_NAME']]"
   ]
  },
  {
   "cell_type": "code",
   "execution_count": 59,
   "metadata": {},
   "outputs": [],
   "source": [
    "simple_matched4.to_excel(r'C:\\Users\\dabinlee\\Documents\\GitHub\\mwdsbe_binny\\MWDSBE\\analysis\\data\\general_funds\\offset\\fuzz95_tfidf80.xlsx', header=True)"
   ]
  },
  {
   "cell_type": "code",
   "execution_count": 60,
   "metadata": {},
   "outputs": [],
   "source": [
    "matched4.to_excel(r'C:\\Users\\dabinlee\\Documents\\GitHub\\mwdsbe_binny\\MWDSBE\\analysis\\data\\general_funds\\fuzz95_tfidf80.xlsx', header=True)"
   ]
  },
  {
   "cell_type": "code",
   "execution_count": null,
   "metadata": {},
   "outputs": [],
   "source": []
  }
 ],
 "metadata": {
  "kernelspec": {
   "display_name": "Python 3",
   "language": "python",
   "name": "python3"
  },
  "language_info": {
   "codemirror_mode": {
    "name": "ipython",
    "version": 3
   },
   "file_extension": ".py",
   "mimetype": "text/x-python",
   "name": "python",
   "nbconvert_exporter": "python",
   "pygments_lexer": "ipython3",
   "version": "3.7.4"
  }
 },
 "nbformat": 4,
 "nbformat_minor": 2
}
