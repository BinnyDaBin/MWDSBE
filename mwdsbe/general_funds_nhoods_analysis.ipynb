{
 "cells": [
  {
   "cell_type": "markdown",
   "metadata": {},
   "source": [
    "# Top Neighborhoods for Registry + General Funds Matching"
   ]
  },
  {
   "cell_type": "code",
   "execution_count": 1,
   "metadata": {},
   "outputs": [],
   "source": [
    "import pandas as pd\n",
    "import mwdsbe\n",
    "import schuylkill as skool\n",
    "import time\n",
    "import geopandas as gpd"
   ]
  },
  {
   "cell_type": "code",
   "execution_count": 127,
   "metadata": {},
   "outputs": [],
   "source": [
    "import seaborn as sns\n",
    "from matplotlib import pyplot as plt"
   ]
  },
  {
   "cell_type": "markdown",
   "metadata": {},
   "source": [
    "## Data\n",
    "* registry\n",
    "* general funds\n",
    "* matches: matching between registry and general funds\n",
    "* full_matches: full funds per vendor"
   ]
  },
  {
   "cell_type": "code",
   "execution_count": 151,
   "metadata": {},
   "outputs": [],
   "source": [
    "registry = mwdsbe.load_registry() # geopandas df\n",
    "gf = pd.read_excel(r'C:\\Users\\dabinlee\\Documents\\GitHub\\mwdsbe_binny\\MWDSBE\\mwdsbe\\data\\cwedp_37_report.xlsx', sheet_name='general_funds')\n",
    "# gf = pd.read_excel('/Users/dabinlee/Documents/github/MWDSBE/mwdsbe/data/cwedp_37_report.xlsx', sheet_name='general_funds')"
   ]
  },
  {
   "cell_type": "code",
   "execution_count": 152,
   "metadata": {},
   "outputs": [],
   "source": [
    "# filter general funds data\n",
    "gf = gf.loc[gf['MAJ_CLASS'] != 1]\n",
    "gf = gf.loc[gf['VEND_NAME'].dropna().index]"
   ]
  },
  {
   "cell_type": "code",
   "execution_count": 153,
   "metadata": {},
   "outputs": [],
   "source": [
    "# clean data\n",
    "ignore_words = ['inc', 'group', 'llc', 'corp', 'pc', 'incorporated', 'ltd', 'co', 'associates', 'services', 'company', 'enterprises', 'enterprise', 'service', 'corporation']\n",
    "cleaned_registry = skool.clean_strings(registry, ['company_name', 'dba_name'], True, ignore_words)\n",
    "cleaned_gf = skool.clean_strings(gf, ['VEND_NAME'], True, ignore_words)\n",
    "\n",
    "cleaned_registry = cleaned_registry.dropna(subset=['company_name'])\n",
    "cleaned_gf = cleaned_gf.dropna(subset=['VEND_NAME'])"
   ]
  },
  {
   "cell_type": "code",
   "execution_count": 218,
   "metadata": {},
   "outputs": [],
   "source": [
    "matches = pd.read_excel(r'C:\\Users\\dabinlee\\Documents\\GitHub\\mwdsbe_binny\\MWDSBE\\analysis\\data\\general_funds\\fuzz95_tfidf80.xlsx')\n",
    "# matches = pd.read_excel('/Users/dabinlee/Documents/github/MWDSBE/analysis/data/general_funds/fuzz95_tfidf913.xlsx')"
   ]
  },
  {
   "cell_type": "code",
   "execution_count": 219,
   "metadata": {},
   "outputs": [],
   "source": [
    "matches.rename(columns={'Unnamed: 0': 'left_index'}, inplace=True)\n",
    "matches.set_index('left_index', inplace=True)"
   ]
  },
  {
   "cell_type": "code",
   "execution_count": 220,
   "metadata": {},
   "outputs": [],
   "source": [
    "# Manually remove 14 wrong matches\n",
    "wrong_matches = ['a g consulting engineering', 'amercom consulting engineers', 'awk consulting engineers', \n",
    "                 'briones consulting engineering', 'dy consulting engineer p c', 'environmental management',\n",
    "                 'events unlimited', 'hill environmental', 'kma consulting engineers', 'milligan and', \n",
    "                 'ms technologies', 'specialists', 'site contractors', 'stell environmental']"
   ]
  },
  {
   "cell_type": "code",
   "execution_count": 221,
   "metadata": {},
   "outputs": [],
   "source": [
    "matches = matches.loc[matches['company_name'].apply(lambda x : x not in wrong_matches)]"
   ]
  },
  {
   "cell_type": "code",
   "execution_count": 222,
   "metadata": {},
   "outputs": [
    {
     "data": {
      "text/plain": [
       "136"
      ]
     },
     "execution_count": 222,
     "metadata": {},
     "output_type": "execute_result"
    }
   ],
   "source": [
    "len(matches)"
   ]
  },
  {
   "cell_type": "code",
   "execution_count": 223,
   "metadata": {},
   "outputs": [],
   "source": [
    "unique_vendors = matches['VEND_NAME'].tolist()"
   ]
  },
  {
   "cell_type": "code",
   "execution_count": 224,
   "metadata": {},
   "outputs": [],
   "source": [
    "full_matches = cleaned_gf.loc[cleaned_gf['VEND_NAME'].apply(lambda x : x in unique_vendors)]"
   ]
  },
  {
   "cell_type": "code",
   "execution_count": 225,
   "metadata": {
    "scrolled": true
   },
   "outputs": [
    {
     "data": {
      "text/plain": [
       "135"
      ]
     },
     "execution_count": 225,
     "metadata": {},
     "output_type": "execute_result"
    }
   ],
   "source": [
    "len(full_matches['VEND_NAME'].unique())"
   ]
  },
  {
   "cell_type": "code",
   "execution_count": 203,
   "metadata": {},
   "outputs": [],
   "source": [
    "# why one vendor has not found?\n",
    "set1 = set(unique_vendors)\n",
    "set2 = set(full_matches['VEND_NAME'].unique())\n",
    "diff = set1.difference(set2)"
   ]
  },
  {
   "cell_type": "code",
   "execution_count": 204,
   "metadata": {},
   "outputs": [
    {
     "data": {
      "text/plain": [
       "set()"
      ]
     },
     "execution_count": 204,
     "metadata": {},
     "output_type": "execute_result"
    }
   ],
   "source": [
    "diff"
   ]
  },
  {
   "cell_type": "code",
   "execution_count": 205,
   "metadata": {
    "scrolled": true
   },
   "outputs": [
    {
     "data": {
      "text/html": [
       "<div>\n",
       "<style scoped>\n",
       "    .dataframe tbody tr th:only-of-type {\n",
       "        vertical-align: middle;\n",
       "    }\n",
       "\n",
       "    .dataframe tbody tr th {\n",
       "        vertical-align: top;\n",
       "    }\n",
       "\n",
       "    .dataframe thead th {\n",
       "        text-align: right;\n",
       "    }\n",
       "</style>\n",
       "<table border=\"1\" class=\"dataframe\">\n",
       "  <thead>\n",
       "    <tr style=\"text-align: right;\">\n",
       "      <th></th>\n",
       "      <th>DR_ACCT</th>\n",
       "      <th>CR_ACCT</th>\n",
       "      <th>CURR_PRIOR_FLAG</th>\n",
       "      <th>POSTED_DATE</th>\n",
       "      <th>DEPT</th>\n",
       "      <th>SEC_FD</th>\n",
       "      <th>INDEX</th>\n",
       "      <th>PROGRAM_CD</th>\n",
       "      <th>MAJ_CLASS</th>\n",
       "      <th>CLASS</th>\n",
       "      <th>DOC_NUM</th>\n",
       "      <th>TRANS_DESC</th>\n",
       "      <th>DOC_REF_NUM</th>\n",
       "      <th>VEND_NAME</th>\n",
       "      <th>VEND_NUM</th>\n",
       "      <th>AMT</th>\n",
       "      <th>DOC_NUM4</th>\n",
       "      <th>DOC_REF4</th>\n",
       "    </tr>\n",
       "  </thead>\n",
       "  <tbody>\n",
       "    <tr>\n",
       "      <th>76494</th>\n",
       "      <td>433</td>\n",
       "      <td>201</td>\n",
       "      <td>PRIOR</td>\n",
       "      <td>2018-07-05</td>\n",
       "      <td>1</td>\n",
       "      <td>10</td>\n",
       "      <td>10058</td>\n",
       "      <td>NaN</td>\n",
       "      <td>2</td>\n",
       "      <td>0258</td>\n",
       "      <td>VCXX1900008101</td>\n",
       "      <td>*JUN34828S*              CRT RPRTING SVS-6/18</td>\n",
       "      <td>POXX1812349101</td>\n",
       "      <td>strehlow</td>\n",
       "      <td>233036541 01</td>\n",
       "      <td>11125.54</td>\n",
       "      <td>VCXX</td>\n",
       "      <td>POXX</td>\n",
       "    </tr>\n",
       "    <tr>\n",
       "      <th>76510</th>\n",
       "      <td>433</td>\n",
       "      <td>201</td>\n",
       "      <td>PRIOR</td>\n",
       "      <td>2018-07-19</td>\n",
       "      <td>1</td>\n",
       "      <td>10</td>\n",
       "      <td>10058</td>\n",
       "      <td>NaN</td>\n",
       "      <td>2</td>\n",
       "      <td>0258</td>\n",
       "      <td>VCXX1900408101</td>\n",
       "      <td>*JUL35226S*              CRT RPRTING SVS-6/18</td>\n",
       "      <td>POXX1812349101</td>\n",
       "      <td>strehlow</td>\n",
       "      <td>233036541 01</td>\n",
       "      <td>3273.93</td>\n",
       "      <td>VCXX</td>\n",
       "      <td>POXX</td>\n",
       "    </tr>\n",
       "    <tr>\n",
       "      <th>76511</th>\n",
       "      <td>433</td>\n",
       "      <td>201</td>\n",
       "      <td>PRIOR</td>\n",
       "      <td>2018-07-19</td>\n",
       "      <td>1</td>\n",
       "      <td>10</td>\n",
       "      <td>10058</td>\n",
       "      <td>NaN</td>\n",
       "      <td>2</td>\n",
       "      <td>0258</td>\n",
       "      <td>VCXX1900383201</td>\n",
       "      <td>*MAY34385S*              CRT RPRTING SVS-4/18&amp;...</td>\n",
       "      <td>POXX1812349101</td>\n",
       "      <td>strehlow</td>\n",
       "      <td>233036541 01</td>\n",
       "      <td>18024.30</td>\n",
       "      <td>VCXX</td>\n",
       "      <td>POXX</td>\n",
       "    </tr>\n",
       "    <tr>\n",
       "      <th>76694</th>\n",
       "      <td>431</td>\n",
       "      <td>201</td>\n",
       "      <td>CURR</td>\n",
       "      <td>2018-08-10</td>\n",
       "      <td>1</td>\n",
       "      <td>10</td>\n",
       "      <td>10058</td>\n",
       "      <td>NaN</td>\n",
       "      <td>2</td>\n",
       "      <td>0258</td>\n",
       "      <td>VCXX1901049401</td>\n",
       "      <td>*JUL35228S*              CRT RRT WAIT TIME-6/18</td>\n",
       "      <td>POXX1910295101</td>\n",
       "      <td>strehlow</td>\n",
       "      <td>233036541 01</td>\n",
       "      <td>70.00</td>\n",
       "      <td>VCXX</td>\n",
       "      <td>POXX</td>\n",
       "    </tr>\n",
       "    <tr>\n",
       "      <th>76695</th>\n",
       "      <td>431</td>\n",
       "      <td>201</td>\n",
       "      <td>CURR</td>\n",
       "      <td>2018-08-13</td>\n",
       "      <td>1</td>\n",
       "      <td>10</td>\n",
       "      <td>10058</td>\n",
       "      <td>NaN</td>\n",
       "      <td>2</td>\n",
       "      <td>0258</td>\n",
       "      <td>VCXX1901062201</td>\n",
       "      <td>*JUL35391S*              CRT RPRTING SVS-7/18</td>\n",
       "      <td>POXX1910293901</td>\n",
       "      <td>strehlow</td>\n",
       "      <td>233036541 01</td>\n",
       "      <td>587.10</td>\n",
       "      <td>VCXX</td>\n",
       "      <td>POXX</td>\n",
       "    </tr>\n",
       "    <tr>\n",
       "      <th>...</th>\n",
       "      <td>...</td>\n",
       "      <td>...</td>\n",
       "      <td>...</td>\n",
       "      <td>...</td>\n",
       "      <td>...</td>\n",
       "      <td>...</td>\n",
       "      <td>...</td>\n",
       "      <td>...</td>\n",
       "      <td>...</td>\n",
       "      <td>...</td>\n",
       "      <td>...</td>\n",
       "      <td>...</td>\n",
       "      <td>...</td>\n",
       "      <td>...</td>\n",
       "      <td>...</td>\n",
       "      <td>...</td>\n",
       "      <td>...</td>\n",
       "      <td>...</td>\n",
       "    </tr>\n",
       "    <tr>\n",
       "      <th>317129</th>\n",
       "      <td>433</td>\n",
       "      <td>201</td>\n",
       "      <td>PRIOR</td>\n",
       "      <td>2018-07-27</td>\n",
       "      <td>23</td>\n",
       "      <td>10</td>\n",
       "      <td>230073</td>\n",
       "      <td>NaN</td>\n",
       "      <td>4</td>\n",
       "      <td>0427</td>\n",
       "      <td>VCXX1900606001</td>\n",
       "      <td>*B08480763*              B08480763/EQUIP/06/18</td>\n",
       "      <td>POXX1812162501</td>\n",
       "      <td>shi international</td>\n",
       "      <td>223009648 01</td>\n",
       "      <td>21700.00</td>\n",
       "      <td>VCXX</td>\n",
       "      <td>POXX</td>\n",
       "    </tr>\n",
       "    <tr>\n",
       "      <th>317142</th>\n",
       "      <td>431</td>\n",
       "      <td>201</td>\n",
       "      <td>CURR</td>\n",
       "      <td>2019-06-27</td>\n",
       "      <td>22</td>\n",
       "      <td>10</td>\n",
       "      <td>226280</td>\n",
       "      <td>NaN</td>\n",
       "      <td>4</td>\n",
       "      <td>0427</td>\n",
       "      <td>VCXX1909362302</td>\n",
       "      <td>#B10002045#              SCANNER</td>\n",
       "      <td>POXX1912118102</td>\n",
       "      <td>shi international</td>\n",
       "      <td>223009648 01</td>\n",
       "      <td>168.80</td>\n",
       "      <td>VCXX</td>\n",
       "      <td>POXX</td>\n",
       "    </tr>\n",
       "    <tr>\n",
       "      <th>317146</th>\n",
       "      <td>431</td>\n",
       "      <td>201</td>\n",
       "      <td>CURR</td>\n",
       "      <td>2019-06-18</td>\n",
       "      <td>22</td>\n",
       "      <td>10</td>\n",
       "      <td>226280</td>\n",
       "      <td>NaN</td>\n",
       "      <td>4</td>\n",
       "      <td>0427</td>\n",
       "      <td>VCXX1909085702</td>\n",
       "      <td>#B10068691#              WEBCAM</td>\n",
       "      <td>POXX1912141802</td>\n",
       "      <td>shi international</td>\n",
       "      <td>223009648 01</td>\n",
       "      <td>166.00</td>\n",
       "      <td>VCXX</td>\n",
       "      <td>POXX</td>\n",
       "    </tr>\n",
       "    <tr>\n",
       "      <th>317156</th>\n",
       "      <td>433</td>\n",
       "      <td>201</td>\n",
       "      <td>PRIOR</td>\n",
       "      <td>2019-01-08</td>\n",
       "      <td>22</td>\n",
       "      <td>10</td>\n",
       "      <td>226280</td>\n",
       "      <td>NaN</td>\n",
       "      <td>4</td>\n",
       "      <td>0427</td>\n",
       "      <td>VCXX1903988102</td>\n",
       "      <td>#B08440820#              ENDRUN</td>\n",
       "      <td>POXX1812335002</td>\n",
       "      <td>shi international</td>\n",
       "      <td>223009648 01</td>\n",
       "      <td>1785.53</td>\n",
       "      <td>VCXX</td>\n",
       "      <td>POXX</td>\n",
       "    </tr>\n",
       "    <tr>\n",
       "      <th>324164</th>\n",
       "      <td>431</td>\n",
       "      <td>201</td>\n",
       "      <td>CURR</td>\n",
       "      <td>2019-04-15</td>\n",
       "      <td>37</td>\n",
       "      <td>10</td>\n",
       "      <td>370072</td>\n",
       "      <td>NaN</td>\n",
       "      <td>7</td>\n",
       "      <td>0705</td>\n",
       "      <td>PVXX1901010901</td>\n",
       "      <td>*09B EXTENSION* FA FEES</td>\n",
       "      <td>NaN</td>\n",
       "      <td>acacia financial</td>\n",
       "      <td>204775407 01</td>\n",
       "      <td>3000.00</td>\n",
       "      <td>PVXX</td>\n",
       "      <td>NaN</td>\n",
       "    </tr>\n",
       "  </tbody>\n",
       "</table>\n",
       "<p>5661 rows × 18 columns</p>\n",
       "</div>"
      ],
      "text/plain": [
       "        DR_ACCT  CR_ACCT CURR_PRIOR_FLAG POSTED_DATE  DEPT  SEC_FD   INDEX  \\\n",
       "76494       433      201           PRIOR  2018-07-05     1      10   10058   \n",
       "76510       433      201           PRIOR  2018-07-19     1      10   10058   \n",
       "76511       433      201           PRIOR  2018-07-19     1      10   10058   \n",
       "76694       431      201            CURR  2018-08-10     1      10   10058   \n",
       "76695       431      201            CURR  2018-08-13     1      10   10058   \n",
       "...         ...      ...             ...         ...   ...     ...     ...   \n",
       "317129      433      201           PRIOR  2018-07-27    23      10  230073   \n",
       "317142      431      201            CURR  2019-06-27    22      10  226280   \n",
       "317146      431      201            CURR  2019-06-18    22      10  226280   \n",
       "317156      433      201           PRIOR  2019-01-08    22      10  226280   \n",
       "324164      431      201            CURR  2019-04-15    37      10  370072   \n",
       "\n",
       "        PROGRAM_CD  MAJ_CLASS CLASS         DOC_NUM  \\\n",
       "76494          NaN          2  0258  VCXX1900008101   \n",
       "76510          NaN          2  0258  VCXX1900408101   \n",
       "76511          NaN          2  0258  VCXX1900383201   \n",
       "76694          NaN          2  0258  VCXX1901049401   \n",
       "76695          NaN          2  0258  VCXX1901062201   \n",
       "...            ...        ...   ...             ...   \n",
       "317129         NaN          4  0427  VCXX1900606001   \n",
       "317142         NaN          4  0427  VCXX1909362302   \n",
       "317146         NaN          4  0427  VCXX1909085702   \n",
       "317156         NaN          4  0427  VCXX1903988102   \n",
       "324164         NaN          7  0705  PVXX1901010901   \n",
       "\n",
       "                                               TRANS_DESC     DOC_REF_NUM  \\\n",
       "76494       *JUN34828S*              CRT RPRTING SVS-6/18  POXX1812349101   \n",
       "76510       *JUL35226S*              CRT RPRTING SVS-6/18  POXX1812349101   \n",
       "76511   *MAY34385S*              CRT RPRTING SVS-4/18&...  POXX1812349101   \n",
       "76694     *JUL35228S*              CRT RRT WAIT TIME-6/18  POXX1910295101   \n",
       "76695       *JUL35391S*              CRT RPRTING SVS-7/18  POXX1910293901   \n",
       "...                                                   ...             ...   \n",
       "317129     *B08480763*              B08480763/EQUIP/06/18  POXX1812162501   \n",
       "317142                   #B10002045#              SCANNER  POXX1912118102   \n",
       "317146                    #B10068691#              WEBCAM  POXX1912141802   \n",
       "317156                    #B08440820#              ENDRUN  POXX1812335002   \n",
       "324164                            *09B EXTENSION* FA FEES             NaN   \n",
       "\n",
       "                VEND_NAME      VEND_NUM       AMT DOC_NUM4 DOC_REF4  \n",
       "76494            strehlow  233036541 01  11125.54     VCXX     POXX  \n",
       "76510            strehlow  233036541 01   3273.93     VCXX     POXX  \n",
       "76511            strehlow  233036541 01  18024.30     VCXX     POXX  \n",
       "76694            strehlow  233036541 01     70.00     VCXX     POXX  \n",
       "76695            strehlow  233036541 01    587.10     VCXX     POXX  \n",
       "...                   ...           ...       ...      ...      ...  \n",
       "317129  shi international  223009648 01  21700.00     VCXX     POXX  \n",
       "317142  shi international  223009648 01    168.80     VCXX     POXX  \n",
       "317146  shi international  223009648 01    166.00     VCXX     POXX  \n",
       "317156  shi international  223009648 01   1785.53     VCXX     POXX  \n",
       "324164   acacia financial  204775407 01   3000.00     PVXX      NaN  \n",
       "\n",
       "[5661 rows x 18 columns]"
      ]
     },
     "execution_count": 205,
     "metadata": {},
     "output_type": "execute_result"
    }
   ],
   "source": [
    "full_matches"
   ]
  },
  {
   "cell_type": "code",
   "execution_count": 240,
   "metadata": {},
   "outputs": [],
   "source": [
    "data = matches.merge(full_matches, how='right', on='VEND_NAME')"
   ]
  },
  {
   "cell_type": "code",
   "execution_count": 242,
   "metadata": {},
   "outputs": [
    {
     "data": {
      "text/html": [
       "<div>\n",
       "<style scoped>\n",
       "    .dataframe tbody tr th:only-of-type {\n",
       "        vertical-align: middle;\n",
       "    }\n",
       "\n",
       "    .dataframe tbody tr th {\n",
       "        vertical-align: top;\n",
       "    }\n",
       "\n",
       "    .dataframe thead th {\n",
       "        text-align: right;\n",
       "    }\n",
       "</style>\n",
       "<table border=\"1\" class=\"dataframe\">\n",
       "  <thead>\n",
       "    <tr style=\"text-align: right;\">\n",
       "      <th></th>\n",
       "      <th>company_name</th>\n",
       "      <th>dba_name</th>\n",
       "      <th>owner_first</th>\n",
       "      <th>owner_last</th>\n",
       "      <th>location</th>\n",
       "      <th>location_city</th>\n",
       "      <th>location_state</th>\n",
       "      <th>zip_code</th>\n",
       "      <th>mailing_address</th>\n",
       "      <th>mailing_city</th>\n",
       "      <th>...</th>\n",
       "      <th>PROGRAM_CD_y</th>\n",
       "      <th>MAJ_CLASS_y</th>\n",
       "      <th>CLASS_y</th>\n",
       "      <th>DOC_NUM_y</th>\n",
       "      <th>TRANS_DESC_y</th>\n",
       "      <th>DOC_REF_NUM_y</th>\n",
       "      <th>VEND_NUM_y</th>\n",
       "      <th>AMT_y</th>\n",
       "      <th>DOC_NUM4_y</th>\n",
       "      <th>DOC_REF4_y</th>\n",
       "    </tr>\n",
       "  </thead>\n",
       "  <tbody>\n",
       "    <tr>\n",
       "      <th>0</th>\n",
       "      <td>4u</td>\n",
       "      <td>stellar</td>\n",
       "      <td>Liang</td>\n",
       "      <td>Chen</td>\n",
       "      <td>70 West 36th Street, Ste. #702</td>\n",
       "      <td>New York</td>\n",
       "      <td>NY</td>\n",
       "      <td>10018</td>\n",
       "      <td>70 West 36th Street, Ste. #702</td>\n",
       "      <td>New York</td>\n",
       "      <td>...</td>\n",
       "      <td>NaN</td>\n",
       "      <td>2</td>\n",
       "      <td>0250</td>\n",
       "      <td>PVMD1902159601</td>\n",
       "      <td>*1669* MAY19 DAO</td>\n",
       "      <td>MDXX1900001301</td>\n",
       "      <td>113189413 02</td>\n",
       "      <td>7420.00</td>\n",
       "      <td>PVMD</td>\n",
       "      <td>MDXX</td>\n",
       "    </tr>\n",
       "    <tr>\n",
       "      <th>1</th>\n",
       "      <td>4u</td>\n",
       "      <td>stellar</td>\n",
       "      <td>Liang</td>\n",
       "      <td>Chen</td>\n",
       "      <td>70 West 36th Street, Ste. #702</td>\n",
       "      <td>New York</td>\n",
       "      <td>NY</td>\n",
       "      <td>10018</td>\n",
       "      <td>70 West 36th Street, Ste. #702</td>\n",
       "      <td>New York</td>\n",
       "      <td>...</td>\n",
       "      <td>NaN</td>\n",
       "      <td>2</td>\n",
       "      <td>0250</td>\n",
       "      <td>PVMD1901949904</td>\n",
       "      <td>*BILL002235* DEC18</td>\n",
       "      <td>MDXX1900001301</td>\n",
       "      <td>113189413 02</td>\n",
       "      <td>7700.00</td>\n",
       "      <td>PVMD</td>\n",
       "      <td>MDXX</td>\n",
       "    </tr>\n",
       "    <tr>\n",
       "      <th>2</th>\n",
       "      <td>4u</td>\n",
       "      <td>stellar</td>\n",
       "      <td>Liang</td>\n",
       "      <td>Chen</td>\n",
       "      <td>70 West 36th Street, Ste. #702</td>\n",
       "      <td>New York</td>\n",
       "      <td>NY</td>\n",
       "      <td>10018</td>\n",
       "      <td>70 West 36th Street, Ste. #702</td>\n",
       "      <td>New York</td>\n",
       "      <td>...</td>\n",
       "      <td>NaN</td>\n",
       "      <td>2</td>\n",
       "      <td>0250</td>\n",
       "      <td>PVMD1901949903</td>\n",
       "      <td>*BILL002070* OCT18</td>\n",
       "      <td>MDXX1900001301</td>\n",
       "      <td>113189413 02</td>\n",
       "      <td>4900.00</td>\n",
       "      <td>PVMD</td>\n",
       "      <td>MDXX</td>\n",
       "    </tr>\n",
       "    <tr>\n",
       "      <th>3</th>\n",
       "      <td>4u</td>\n",
       "      <td>stellar</td>\n",
       "      <td>Liang</td>\n",
       "      <td>Chen</td>\n",
       "      <td>70 West 36th Street, Ste. #702</td>\n",
       "      <td>New York</td>\n",
       "      <td>NY</td>\n",
       "      <td>10018</td>\n",
       "      <td>70 West 36th Street, Ste. #702</td>\n",
       "      <td>New York</td>\n",
       "      <td>...</td>\n",
       "      <td>NaN</td>\n",
       "      <td>2</td>\n",
       "      <td>0250</td>\n",
       "      <td>PVMD1901949902</td>\n",
       "      <td>*BILL001983* SEP18</td>\n",
       "      <td>MDXX1900001301</td>\n",
       "      <td>113189413 02</td>\n",
       "      <td>2660.00</td>\n",
       "      <td>PVMD</td>\n",
       "      <td>MDXX</td>\n",
       "    </tr>\n",
       "    <tr>\n",
       "      <th>4</th>\n",
       "      <td>4u</td>\n",
       "      <td>stellar</td>\n",
       "      <td>Liang</td>\n",
       "      <td>Chen</td>\n",
       "      <td>70 West 36th Street, Ste. #702</td>\n",
       "      <td>New York</td>\n",
       "      <td>NY</td>\n",
       "      <td>10018</td>\n",
       "      <td>70 West 36th Street, Ste. #702</td>\n",
       "      <td>New York</td>\n",
       "      <td>...</td>\n",
       "      <td>NaN</td>\n",
       "      <td>2</td>\n",
       "      <td>0250</td>\n",
       "      <td>PVMD1901949901</td>\n",
       "      <td>*BILL001736* JUN18</td>\n",
       "      <td>MDXX1900001301</td>\n",
       "      <td>113189413 02</td>\n",
       "      <td>11250.00</td>\n",
       "      <td>PVMD</td>\n",
       "      <td>MDXX</td>\n",
       "    </tr>\n",
       "    <tr>\n",
       "      <th>...</th>\n",
       "      <td>...</td>\n",
       "      <td>...</td>\n",
       "      <td>...</td>\n",
       "      <td>...</td>\n",
       "      <td>...</td>\n",
       "      <td>...</td>\n",
       "      <td>...</td>\n",
       "      <td>...</td>\n",
       "      <td>...</td>\n",
       "      <td>...</td>\n",
       "      <td>...</td>\n",
       "      <td>...</td>\n",
       "      <td>...</td>\n",
       "      <td>...</td>\n",
       "      <td>...</td>\n",
       "      <td>...</td>\n",
       "      <td>...</td>\n",
       "      <td>...</td>\n",
       "      <td>...</td>\n",
       "      <td>...</td>\n",
       "      <td>...</td>\n",
       "    </tr>\n",
       "    <tr>\n",
       "      <th>5661</th>\n",
       "      <td>zanaras reporting video</td>\n",
       "      <td>NaN</td>\n",
       "      <td>JULIE</td>\n",
       "      <td>ZANARAS</td>\n",
       "      <td>1845 WALNUT STREET, Suite 938</td>\n",
       "      <td>Philadelphia</td>\n",
       "      <td>PA</td>\n",
       "      <td>19103</td>\n",
       "      <td>1845 WALNUT STREET, Suite 938</td>\n",
       "      <td>Philadelphia</td>\n",
       "      <td>...</td>\n",
       "      <td>NaN</td>\n",
       "      <td>2</td>\n",
       "      <td>0258</td>\n",
       "      <td>PVXX1900215301</td>\n",
       "      <td>*55196* AUG18 REED V. SEPTA 16-2851-001</td>\n",
       "      <td>NaN</td>\n",
       "      <td>510620006 01</td>\n",
       "      <td>365.40</td>\n",
       "      <td>PVXX</td>\n",
       "      <td>NaN</td>\n",
       "    </tr>\n",
       "    <tr>\n",
       "      <th>5662</th>\n",
       "      <td>zanaras reporting video</td>\n",
       "      <td>NaN</td>\n",
       "      <td>JULIE</td>\n",
       "      <td>ZANARAS</td>\n",
       "      <td>1845 WALNUT STREET, Suite 938</td>\n",
       "      <td>Philadelphia</td>\n",
       "      <td>PA</td>\n",
       "      <td>19103</td>\n",
       "      <td>1845 WALNUT STREET, Suite 938</td>\n",
       "      <td>Philadelphia</td>\n",
       "      <td>...</td>\n",
       "      <td>NaN</td>\n",
       "      <td>2</td>\n",
       "      <td>0258</td>\n",
       "      <td>PVXX1900096101</td>\n",
       "      <td>*53849* MAR18 98523 STREETS CALZADO V. SEPTA</td>\n",
       "      <td>NaN</td>\n",
       "      <td>510620006 01</td>\n",
       "      <td>225.60</td>\n",
       "      <td>PVXX</td>\n",
       "      <td>NaN</td>\n",
       "    </tr>\n",
       "    <tr>\n",
       "      <th>5663</th>\n",
       "      <td>zanaras reporting video</td>\n",
       "      <td>NaN</td>\n",
       "      <td>JULIE</td>\n",
       "      <td>ZANARAS</td>\n",
       "      <td>1845 WALNUT STREET, Suite 938</td>\n",
       "      <td>Philadelphia</td>\n",
       "      <td>PA</td>\n",
       "      <td>19103</td>\n",
       "      <td>1845 WALNUT STREET, Suite 938</td>\n",
       "      <td>Philadelphia</td>\n",
       "      <td>...</td>\n",
       "      <td>NaN</td>\n",
       "      <td>2</td>\n",
       "      <td>0258</td>\n",
       "      <td>PVXX1900071801</td>\n",
       "      <td>*54850* JUL18 98724 STREETS ANDREWS V. SEPTA</td>\n",
       "      <td>NaN</td>\n",
       "      <td>510620006 01</td>\n",
       "      <td>248.75</td>\n",
       "      <td>PVXX</td>\n",
       "      <td>NaN</td>\n",
       "    </tr>\n",
       "    <tr>\n",
       "      <th>5664</th>\n",
       "      <td>zanaras reporting video</td>\n",
       "      <td>NaN</td>\n",
       "      <td>JULIE</td>\n",
       "      <td>ZANARAS</td>\n",
       "      <td>1845 WALNUT STREET, Suite 938</td>\n",
       "      <td>Philadelphia</td>\n",
       "      <td>PA</td>\n",
       "      <td>19103</td>\n",
       "      <td>1845 WALNUT STREET, Suite 938</td>\n",
       "      <td>Philadelphia</td>\n",
       "      <td>...</td>\n",
       "      <td>NaN</td>\n",
       "      <td>2</td>\n",
       "      <td>0258</td>\n",
       "      <td>PVXX1900018601</td>\n",
       "      <td>*54513* MAY18 99242 STREETS JOHNSON V. CITY</td>\n",
       "      <td>NaN</td>\n",
       "      <td>510620006 01</td>\n",
       "      <td>481.95</td>\n",
       "      <td>PVXX</td>\n",
       "      <td>NaN</td>\n",
       "    </tr>\n",
       "    <tr>\n",
       "      <th>5665</th>\n",
       "      <td>zones</td>\n",
       "      <td>NaN</td>\n",
       "      <td>Mr.</td>\n",
       "      <td>Lalji</td>\n",
       "      <td>1102 15TH ST SW</td>\n",
       "      <td>Auburn</td>\n",
       "      <td>WA</td>\n",
       "      <td>98001</td>\n",
       "      <td>1102 15TH ST SW</td>\n",
       "      <td>Auburn</td>\n",
       "      <td>...</td>\n",
       "      <td>NaN</td>\n",
       "      <td>2</td>\n",
       "      <td>0266</td>\n",
       "      <td>VCXX1905112101</td>\n",
       "      <td>*K11760410101*           SOFTWARE SERVICE AGRE...</td>\n",
       "      <td>POXX1910647301</td>\n",
       "      <td>911431894 01</td>\n",
       "      <td>14519.39</td>\n",
       "      <td>VCXX</td>\n",
       "      <td>POXX</td>\n",
       "    </tr>\n",
       "  </tbody>\n",
       "</table>\n",
       "<p>5666 rows × 57 columns</p>\n",
       "</div>"
      ],
      "text/plain": [
       "                 company_name dba_name owner_first owner_last  \\\n",
       "0                          4u  stellar       Liang       Chen   \n",
       "1                          4u  stellar       Liang       Chen   \n",
       "2                          4u  stellar       Liang       Chen   \n",
       "3                          4u  stellar       Liang       Chen   \n",
       "4                          4u  stellar       Liang       Chen   \n",
       "...                       ...      ...         ...        ...   \n",
       "5661  zanaras reporting video      NaN       JULIE    ZANARAS   \n",
       "5662  zanaras reporting video      NaN       JULIE    ZANARAS   \n",
       "5663  zanaras reporting video      NaN       JULIE    ZANARAS   \n",
       "5664  zanaras reporting video      NaN       JULIE    ZANARAS   \n",
       "5665                    zones      NaN         Mr.      Lalji   \n",
       "\n",
       "                            location location_city location_state  zip_code  \\\n",
       "0     70 West 36th Street, Ste. #702      New York             NY     10018   \n",
       "1     70 West 36th Street, Ste. #702      New York             NY     10018   \n",
       "2     70 West 36th Street, Ste. #702      New York             NY     10018   \n",
       "3     70 West 36th Street, Ste. #702      New York             NY     10018   \n",
       "4     70 West 36th Street, Ste. #702      New York             NY     10018   \n",
       "...                              ...           ...            ...       ...   \n",
       "5661   1845 WALNUT STREET, Suite 938  Philadelphia             PA     19103   \n",
       "5662   1845 WALNUT STREET, Suite 938  Philadelphia             PA     19103   \n",
       "5663   1845 WALNUT STREET, Suite 938  Philadelphia             PA     19103   \n",
       "5664   1845 WALNUT STREET, Suite 938  Philadelphia             PA     19103   \n",
       "5665                 1102 15TH ST SW        Auburn             WA     98001   \n",
       "\n",
       "                     mailing_address  mailing_city  ... PROGRAM_CD_y  \\\n",
       "0     70 West 36th Street, Ste. #702      New York  ...          NaN   \n",
       "1     70 West 36th Street, Ste. #702      New York  ...          NaN   \n",
       "2     70 West 36th Street, Ste. #702      New York  ...          NaN   \n",
       "3     70 West 36th Street, Ste. #702      New York  ...          NaN   \n",
       "4     70 West 36th Street, Ste. #702      New York  ...          NaN   \n",
       "...                              ...           ...  ...          ...   \n",
       "5661   1845 WALNUT STREET, Suite 938  Philadelphia  ...          NaN   \n",
       "5662   1845 WALNUT STREET, Suite 938  Philadelphia  ...          NaN   \n",
       "5663   1845 WALNUT STREET, Suite 938  Philadelphia  ...          NaN   \n",
       "5664   1845 WALNUT STREET, Suite 938  Philadelphia  ...          NaN   \n",
       "5665                 1102 15TH ST SW        Auburn  ...          NaN   \n",
       "\n",
       "      MAJ_CLASS_y CLASS_y       DOC_NUM_y  \\\n",
       "0               2    0250  PVMD1902159601   \n",
       "1               2    0250  PVMD1901949904   \n",
       "2               2    0250  PVMD1901949903   \n",
       "3               2    0250  PVMD1901949902   \n",
       "4               2    0250  PVMD1901949901   \n",
       "...           ...     ...             ...   \n",
       "5661            2    0258  PVXX1900215301   \n",
       "5662            2    0258  PVXX1900096101   \n",
       "5663            2    0258  PVXX1900071801   \n",
       "5664            2    0258  PVXX1900018601   \n",
       "5665            2    0266  VCXX1905112101   \n",
       "\n",
       "                                           TRANS_DESC_y   DOC_REF_NUM_y  \\\n",
       "0                                      *1669* MAY19 DAO  MDXX1900001301   \n",
       "1                                    *BILL002235* DEC18  MDXX1900001301   \n",
       "2                                    *BILL002070* OCT18  MDXX1900001301   \n",
       "3                                    *BILL001983* SEP18  MDXX1900001301   \n",
       "4                                    *BILL001736* JUN18  MDXX1900001301   \n",
       "...                                                 ...             ...   \n",
       "5661            *55196* AUG18 REED V. SEPTA 16-2851-001             NaN   \n",
       "5662       *53849* MAR18 98523 STREETS CALZADO V. SEPTA             NaN   \n",
       "5663       *54850* JUL18 98724 STREETS ANDREWS V. SEPTA             NaN   \n",
       "5664        *54513* MAY18 99242 STREETS JOHNSON V. CITY             NaN   \n",
       "5665  *K11760410101*           SOFTWARE SERVICE AGRE...  POXX1910647301   \n",
       "\n",
       "        VEND_NUM_y     AMT_y  DOC_NUM4_y DOC_REF4_y  \n",
       "0     113189413 02   7420.00        PVMD       MDXX  \n",
       "1     113189413 02   7700.00        PVMD       MDXX  \n",
       "2     113189413 02   4900.00        PVMD       MDXX  \n",
       "3     113189413 02   2660.00        PVMD       MDXX  \n",
       "4     113189413 02  11250.00        PVMD       MDXX  \n",
       "...            ...       ...         ...        ...  \n",
       "5661  510620006 01    365.40        PVXX        NaN  \n",
       "5662  510620006 01    225.60        PVXX        NaN  \n",
       "5663  510620006 01    248.75        PVXX        NaN  \n",
       "5664  510620006 01    481.95        PVXX        NaN  \n",
       "5665  911431894 01  14519.39        VCXX       POXX  \n",
       "\n",
       "[5666 rows x 57 columns]"
      ]
     },
     "execution_count": 242,
     "metadata": {},
     "output_type": "execute_result"
    }
   ],
   "source": [
    "# do not use columns with _x\n",
    "data"
   ]
  },
  {
   "cell_type": "markdown",
   "metadata": {},
   "source": [
    "data has invalid geometry. Drop the existing geometry column and recreate it using lng and lat"
   ]
  },
  {
   "cell_type": "code",
   "execution_count": 261,
   "metadata": {},
   "outputs": [],
   "source": [
    "data_geo = data.dropna(subset=['geometry'])"
   ]
  },
  {
   "cell_type": "code",
   "execution_count": 262,
   "metadata": {},
   "outputs": [
    {
     "data": {
      "text/plain": [
       "2720"
      ]
     },
     "execution_count": 262,
     "metadata": {},
     "output_type": "execute_result"
    }
   ],
   "source": [
    "len(data_geo)"
   ]
  },
  {
   "cell_type": "code",
   "execution_count": 263,
   "metadata": {},
   "outputs": [
    {
     "name": "stderr",
     "output_type": "stream",
     "text": [
      "C:\\Users\\dabinlee\\AppData\\Local\\Continuum\\anaconda3\\lib\\site-packages\\pandas\\core\\frame.py:4117: SettingWithCopyWarning: \n",
      "A value is trying to be set on a copy of a slice from a DataFrame\n",
      "\n",
      "See the caveats in the documentation: http://pandas.pydata.org/pandas-docs/stable/user_guide/indexing.html#returning-a-view-versus-a-copy\n",
      "  errors=errors,\n"
     ]
    }
   ],
   "source": [
    "# drop existing geometry and create a new one\n",
    "data_geo.drop('geometry', axis=1, inplace=True)"
   ]
  },
  {
   "cell_type": "code",
   "execution_count": 264,
   "metadata": {},
   "outputs": [
    {
     "name": "stderr",
     "output_type": "stream",
     "text": [
      "C:\\Users\\dabinlee\\AppData\\Local\\Continuum\\anaconda3\\lib\\site-packages\\ipykernel_launcher.py:1: SettingWithCopyWarning: \n",
      "A value is trying to be set on a copy of a slice from a DataFrame.\n",
      "Try using .loc[row_indexer,col_indexer] = value instead\n",
      "\n",
      "See the caveats in the documentation: http://pandas.pydata.org/pandas-docs/stable/user_guide/indexing.html#returning-a-view-versus-a-copy\n",
      "  \"\"\"Entry point for launching an IPython kernel.\n"
     ]
    }
   ],
   "source": [
    "data_geo['geometry'] = list(zip(data_geo['lng'], data_geo['lat']))"
   ]
  },
  {
   "cell_type": "code",
   "execution_count": 265,
   "metadata": {},
   "outputs": [
    {
     "name": "stderr",
     "output_type": "stream",
     "text": [
      "C:\\Users\\dabinlee\\AppData\\Local\\Continuum\\anaconda3\\lib\\site-packages\\ipykernel_launcher.py:2: SettingWithCopyWarning: \n",
      "A value is trying to be set on a copy of a slice from a DataFrame.\n",
      "Try using .loc[row_indexer,col_indexer] = value instead\n",
      "\n",
      "See the caveats in the documentation: http://pandas.pydata.org/pandas-docs/stable/user_guide/indexing.html#returning-a-view-versus-a-copy\n",
      "  \n"
     ]
    }
   ],
   "source": [
    "from shapely.geometry import Point\n",
    "data_geo['geometry'] = data_geo['geometry'].apply(Point)"
   ]
  },
  {
   "cell_type": "code",
   "execution_count": 266,
   "metadata": {},
   "outputs": [],
   "source": [
    "data_gdf = gpd.GeoDataFrame(data_geo, geometry='geometry', crs={\"init\": \"epsg:4326\"})"
   ]
  },
  {
   "cell_type": "code",
   "execution_count": 267,
   "metadata": {},
   "outputs": [
    {
     "data": {
      "text/plain": [
       "2720"
      ]
     },
     "execution_count": 267,
     "metadata": {},
     "output_type": "execute_result"
    }
   ],
   "source": [
    "len(data_gdf)"
   ]
  },
  {
   "cell_type": "code",
   "execution_count": 268,
   "metadata": {},
   "outputs": [],
   "source": [
    "zillow = gpd.read_file('data/neighborhood/zillow_neighborhoods.geojson')\n",
    "# zillow = zillow.to_crs(epsg=3857)"
   ]
  },
  {
   "cell_type": "code",
   "execution_count": 269,
   "metadata": {},
   "outputs": [],
   "source": [
    "joined = gpd.sjoin(data_gdf, zillow, op='within', how='left')"
   ]
  },
  {
   "cell_type": "code",
   "execution_count": 270,
   "metadata": {},
   "outputs": [
    {
     "data": {
      "text/plain": [
       "2720"
      ]
     },
     "execution_count": 270,
     "metadata": {},
     "output_type": "execute_result"
    }
   ],
   "source": [
    "len(joined)"
   ]
  },
  {
   "cell_type": "code",
   "execution_count": 271,
   "metadata": {},
   "outputs": [],
   "source": [
    "# joined with unique companies for exact number of vendors by neighborhoods\n",
    "unique_joined = joined.drop_duplicates(subset=['VEND_NAME'])"
   ]
  },
  {
   "cell_type": "code",
   "execution_count": 272,
   "metadata": {},
   "outputs": [
    {
     "data": {
      "text/plain": [
       "55"
      ]
     },
     "execution_count": 272,
     "metadata": {},
     "output_type": "execute_result"
    }
   ],
   "source": [
    "len(unique_joined)"
   ]
  },
  {
   "cell_type": "code",
   "execution_count": 273,
   "metadata": {},
   "outputs": [
    {
     "data": {
      "text/plain": [
       "Index(['company_name', 'dba_name', 'owner_first', 'owner_last', 'location',\n",
       "       'location_city', 'location_state', 'zip_code', 'mailing_address',\n",
       "       'mailing_city', 'mailing_state', 'mailing_zip', 'certification_type',\n",
       "       'capability', 'local', 'out_of_state', 'location_standard', 'lat',\n",
       "       'lng', 'match_probability', 'right_index', 'DR_ACCT_x', 'CR_ACCT_x',\n",
       "       'CURR_PRIOR_FLAG_x', 'POSTED_DATE_x', 'DEPT_x', 'SEC_FD_x', 'INDEX_x',\n",
       "       'PROGRAM_CD_x', 'MAJ_CLASS_x', 'CLASS_x', 'DOC_NUM_x', 'TRANS_DESC_x',\n",
       "       'DOC_REF_NUM_x', 'VEND_NAME', 'VEND_NUM_x', 'AMT_x', 'DOC_NUM4_x',\n",
       "       'DOC_REF4_x', 'DR_ACCT_y', 'CR_ACCT_y', 'CURR_PRIOR_FLAG_y',\n",
       "       'POSTED_DATE_y', 'DEPT_y', 'SEC_FD_y', 'INDEX_y', 'PROGRAM_CD_y',\n",
       "       'MAJ_CLASS_y', 'CLASS_y', 'DOC_NUM_y', 'TRANS_DESC_y', 'DOC_REF_NUM_y',\n",
       "       'VEND_NUM_y', 'AMT_y', 'DOC_NUM4_y', 'DOC_REF4_y', 'department_title_x',\n",
       "       'N_x', 'department_title_y', 'N_y', 'geometry', 'index_right',\n",
       "       'ZillowName'],\n",
       "      dtype='object')"
      ]
     },
     "execution_count": 273,
     "metadata": {},
     "output_type": "execute_result"
    }
   ],
   "source": [
    "joined.columns"
   ]
  },
  {
   "cell_type": "code",
   "execution_count": 274,
   "metadata": {},
   "outputs": [
    {
     "data": {
      "text/html": [
       "<div>\n",
       "<style scoped>\n",
       "    .dataframe tbody tr th:only-of-type {\n",
       "        vertical-align: middle;\n",
       "    }\n",
       "\n",
       "    .dataframe tbody tr th {\n",
       "        vertical-align: top;\n",
       "    }\n",
       "\n",
       "    .dataframe thead th {\n",
       "        text-align: right;\n",
       "    }\n",
       "</style>\n",
       "<table border=\"1\" class=\"dataframe\">\n",
       "  <thead>\n",
       "    <tr style=\"text-align: right;\">\n",
       "      <th></th>\n",
       "      <th>ZillowName</th>\n",
       "      <th>total_amt</th>\n",
       "    </tr>\n",
       "  </thead>\n",
       "  <tbody>\n",
       "    <tr>\n",
       "      <th>0</th>\n",
       "      <td>Allegheny West</td>\n",
       "      <td>2416064.47</td>\n",
       "    </tr>\n",
       "    <tr>\n",
       "      <th>1</th>\n",
       "      <td>Callow Hill</td>\n",
       "      <td>76522.41</td>\n",
       "    </tr>\n",
       "    <tr>\n",
       "      <th>2</th>\n",
       "      <td>Cedarbrook</td>\n",
       "      <td>19318.10</td>\n",
       "    </tr>\n",
       "    <tr>\n",
       "      <th>3</th>\n",
       "      <td>Chestnut Hill</td>\n",
       "      <td>1300.00</td>\n",
       "    </tr>\n",
       "    <tr>\n",
       "      <th>4</th>\n",
       "      <td>East Passyunk</td>\n",
       "      <td>1230.00</td>\n",
       "    </tr>\n",
       "  </tbody>\n",
       "</table>\n",
       "</div>"
      ],
      "text/plain": [
       "       ZillowName   total_amt\n",
       "0  Allegheny West  2416064.47\n",
       "1     Callow Hill    76522.41\n",
       "2      Cedarbrook    19318.10\n",
       "3   Chestnut Hill     1300.00\n",
       "4   East Passyunk     1230.00"
      ]
     },
     "execution_count": 274,
     "metadata": {},
     "output_type": "execute_result"
    }
   ],
   "source": [
    "total_amt = joined.groupby('ZillowName')['AMT_y'].sum()\n",
    "total_amt = total_amt.to_frame('total_amt').reset_index()\n",
    "total_amt.head()"
   ]
  },
  {
   "cell_type": "code",
   "execution_count": 275,
   "metadata": {},
   "outputs": [
    {
     "data": {
      "text/html": [
       "<div>\n",
       "<style scoped>\n",
       "    .dataframe tbody tr th:only-of-type {\n",
       "        vertical-align: middle;\n",
       "    }\n",
       "\n",
       "    .dataframe tbody tr th {\n",
       "        vertical-align: top;\n",
       "    }\n",
       "\n",
       "    .dataframe thead th {\n",
       "        text-align: right;\n",
       "    }\n",
       "</style>\n",
       "<table border=\"1\" class=\"dataframe\">\n",
       "  <thead>\n",
       "    <tr style=\"text-align: right;\">\n",
       "      <th></th>\n",
       "      <th>ZillowName</th>\n",
       "      <th>total_n</th>\n",
       "    </tr>\n",
       "  </thead>\n",
       "  <tbody>\n",
       "    <tr>\n",
       "      <th>0</th>\n",
       "      <td>Allegheny West</td>\n",
       "      <td>1</td>\n",
       "    </tr>\n",
       "    <tr>\n",
       "      <th>1</th>\n",
       "      <td>Callow Hill</td>\n",
       "      <td>1</td>\n",
       "    </tr>\n",
       "    <tr>\n",
       "      <th>2</th>\n",
       "      <td>Cedarbrook</td>\n",
       "      <td>1</td>\n",
       "    </tr>\n",
       "    <tr>\n",
       "      <th>3</th>\n",
       "      <td>Chestnut Hill</td>\n",
       "      <td>1</td>\n",
       "    </tr>\n",
       "    <tr>\n",
       "      <th>4</th>\n",
       "      <td>East Passyunk</td>\n",
       "      <td>1</td>\n",
       "    </tr>\n",
       "  </tbody>\n",
       "</table>\n",
       "</div>"
      ],
      "text/plain": [
       "       ZillowName  total_n\n",
       "0  Allegheny West        1\n",
       "1     Callow Hill        1\n",
       "2      Cedarbrook        1\n",
       "3   Chestnut Hill        1\n",
       "4   East Passyunk        1"
      ]
     },
     "execution_count": 275,
     "metadata": {},
     "output_type": "execute_result"
    }
   ],
   "source": [
    "total_n = unique_joined.groupby('ZillowName').size()\n",
    "total_n = total_n.to_frame('total_n').reset_index()\n",
    "total_n.head()"
   ]
  },
  {
   "cell_type": "code",
   "execution_count": 276,
   "metadata": {},
   "outputs": [
    {
     "data": {
      "text/plain": [
       "array(['WBE', 'MBE', 'MWBE'], dtype=object)"
      ]
     },
     "execution_count": 276,
     "metadata": {},
     "output_type": "execute_result"
    }
   ],
   "source": [
    "joined.certification_type.unique()"
   ]
  },
  {
   "cell_type": "code",
   "execution_count": 277,
   "metadata": {},
   "outputs": [
    {
     "data": {
      "text/html": [
       "<div>\n",
       "<style scoped>\n",
       "    .dataframe tbody tr th:only-of-type {\n",
       "        vertical-align: middle;\n",
       "    }\n",
       "\n",
       "    .dataframe tbody tr th {\n",
       "        vertical-align: top;\n",
       "    }\n",
       "\n",
       "    .dataframe thead th {\n",
       "        text-align: right;\n",
       "    }\n",
       "</style>\n",
       "<table border=\"1\" class=\"dataframe\">\n",
       "  <thead>\n",
       "    <tr style=\"text-align: right;\">\n",
       "      <th></th>\n",
       "      <th>ZillowName</th>\n",
       "      <th>certification_type</th>\n",
       "      <th>amt_cert_type</th>\n",
       "    </tr>\n",
       "  </thead>\n",
       "  <tbody>\n",
       "    <tr>\n",
       "      <th>0</th>\n",
       "      <td>Allegheny West</td>\n",
       "      <td>MBE</td>\n",
       "      <td>2416064.47</td>\n",
       "    </tr>\n",
       "    <tr>\n",
       "      <th>1</th>\n",
       "      <td>Callow Hill</td>\n",
       "      <td>MBE</td>\n",
       "      <td>76522.41</td>\n",
       "    </tr>\n",
       "    <tr>\n",
       "      <th>2</th>\n",
       "      <td>Cedarbrook</td>\n",
       "      <td>MBE</td>\n",
       "      <td>19318.10</td>\n",
       "    </tr>\n",
       "    <tr>\n",
       "      <th>3</th>\n",
       "      <td>Chestnut Hill</td>\n",
       "      <td>MWBE</td>\n",
       "      <td>1300.00</td>\n",
       "    </tr>\n",
       "    <tr>\n",
       "      <th>4</th>\n",
       "      <td>East Passyunk</td>\n",
       "      <td>MBE</td>\n",
       "      <td>1230.00</td>\n",
       "    </tr>\n",
       "  </tbody>\n",
       "</table>\n",
       "</div>"
      ],
      "text/plain": [
       "       ZillowName certification_type  amt_cert_type\n",
       "0  Allegheny West                MBE     2416064.47\n",
       "1     Callow Hill                MBE       76522.41\n",
       "2      Cedarbrook                MBE       19318.10\n",
       "3   Chestnut Hill               MWBE        1300.00\n",
       "4   East Passyunk                MBE        1230.00"
      ]
     },
     "execution_count": 277,
     "metadata": {},
     "output_type": "execute_result"
    }
   ],
   "source": [
    "total_cert = joined.groupby(['ZillowName', 'certification_type'])['AMT_y'].sum()\n",
    "total_cert = total_cert.to_frame('amt_cert_type').reset_index()\n",
    "total_cert.head()"
   ]
  },
  {
   "cell_type": "code",
   "execution_count": 278,
   "metadata": {},
   "outputs": [
    {
     "name": "stderr",
     "output_type": "stream",
     "text": [
      "C:\\Users\\dabinlee\\AppData\\Local\\Continuum\\anaconda3\\lib\\site-packages\\pandas\\core\\frame.py:4117: SettingWithCopyWarning: \n",
      "A value is trying to be set on a copy of a slice from a DataFrame\n",
      "\n",
      "See the caveats in the documentation: http://pandas.pydata.org/pandas-docs/stable/user_guide/indexing.html#returning-a-view-versus-a-copy\n",
      "  errors=errors,\n",
      "C:\\Users\\dabinlee\\AppData\\Local\\Continuum\\anaconda3\\lib\\site-packages\\pandas\\core\\frame.py:4238: SettingWithCopyWarning: \n",
      "A value is trying to be set on a copy of a slice from a DataFrame\n",
      "\n",
      "See the caveats in the documentation: http://pandas.pydata.org/pandas-docs/stable/user_guide/indexing.html#returning-a-view-versus-a-copy\n",
      "  return super().rename(**kwargs)\n"
     ]
    }
   ],
   "source": [
    "total_mbe_amt = total_cert.loc[total_cert['certification_type'] == 'MBE']\n",
    "total_mbe_amt.drop('certification_type', axis=1, inplace=True)\n",
    "total_mbe_amt.rename(columns={'amt_cert_type': 'mbe_amt'}, inplace=True)"
   ]
  },
  {
   "cell_type": "code",
   "execution_count": 279,
   "metadata": {},
   "outputs": [
    {
     "data": {
      "text/html": [
       "<div>\n",
       "<style scoped>\n",
       "    .dataframe tbody tr th:only-of-type {\n",
       "        vertical-align: middle;\n",
       "    }\n",
       "\n",
       "    .dataframe tbody tr th {\n",
       "        vertical-align: top;\n",
       "    }\n",
       "\n",
       "    .dataframe thead th {\n",
       "        text-align: right;\n",
       "    }\n",
       "</style>\n",
       "<table border=\"1\" class=\"dataframe\">\n",
       "  <thead>\n",
       "    <tr style=\"text-align: right;\">\n",
       "      <th></th>\n",
       "      <th>ZillowName</th>\n",
       "      <th>mbe_amt</th>\n",
       "    </tr>\n",
       "  </thead>\n",
       "  <tbody>\n",
       "    <tr>\n",
       "      <th>0</th>\n",
       "      <td>Allegheny West</td>\n",
       "      <td>2416064.47</td>\n",
       "    </tr>\n",
       "    <tr>\n",
       "      <th>1</th>\n",
       "      <td>Callow Hill</td>\n",
       "      <td>76522.41</td>\n",
       "    </tr>\n",
       "    <tr>\n",
       "      <th>2</th>\n",
       "      <td>Cedarbrook</td>\n",
       "      <td>19318.10</td>\n",
       "    </tr>\n",
       "    <tr>\n",
       "      <th>4</th>\n",
       "      <td>East Passyunk</td>\n",
       "      <td>1230.00</td>\n",
       "    </tr>\n",
       "    <tr>\n",
       "      <th>8</th>\n",
       "      <td>Holmesburg</td>\n",
       "      <td>1081458.06</td>\n",
       "    </tr>\n",
       "  </tbody>\n",
       "</table>\n",
       "</div>"
      ],
      "text/plain": [
       "       ZillowName     mbe_amt\n",
       "0  Allegheny West  2416064.47\n",
       "1     Callow Hill    76522.41\n",
       "2      Cedarbrook    19318.10\n",
       "4   East Passyunk     1230.00\n",
       "8      Holmesburg  1081458.06"
      ]
     },
     "execution_count": 279,
     "metadata": {},
     "output_type": "execute_result"
    }
   ],
   "source": [
    "total_mbe_amt.head()"
   ]
  },
  {
   "cell_type": "code",
   "execution_count": 280,
   "metadata": {},
   "outputs": [],
   "source": [
    "total_wbe_amt = total_cert.loc[total_cert['certification_type'] == 'WBE']\n",
    "total_wbe_amt.drop('certification_type', axis=1, inplace=True)\n",
    "total_wbe_amt.rename(columns={'amt_cert_type': 'wbe_amt'}, inplace=True)"
   ]
  },
  {
   "cell_type": "code",
   "execution_count": 281,
   "metadata": {},
   "outputs": [
    {
     "data": {
      "text/html": [
       "<div>\n",
       "<style scoped>\n",
       "    .dataframe tbody tr th:only-of-type {\n",
       "        vertical-align: middle;\n",
       "    }\n",
       "\n",
       "    .dataframe tbody tr th {\n",
       "        vertical-align: top;\n",
       "    }\n",
       "\n",
       "    .dataframe thead th {\n",
       "        text-align: right;\n",
       "    }\n",
       "</style>\n",
       "<table border=\"1\" class=\"dataframe\">\n",
       "  <thead>\n",
       "    <tr style=\"text-align: right;\">\n",
       "      <th></th>\n",
       "      <th>ZillowName</th>\n",
       "      <th>wbe_amt</th>\n",
       "    </tr>\n",
       "  </thead>\n",
       "  <tbody>\n",
       "    <tr>\n",
       "      <th>5</th>\n",
       "      <td>Fishtown</td>\n",
       "      <td>31528.00</td>\n",
       "    </tr>\n",
       "    <tr>\n",
       "      <th>7</th>\n",
       "      <td>Germantown West Central</td>\n",
       "      <td>1178.64</td>\n",
       "    </tr>\n",
       "    <tr>\n",
       "      <th>9</th>\n",
       "      <td>Holmesburg</td>\n",
       "      <td>150524.04</td>\n",
       "    </tr>\n",
       "    <tr>\n",
       "      <th>12</th>\n",
       "      <td>Logan Square</td>\n",
       "      <td>24772.57</td>\n",
       "    </tr>\n",
       "    <tr>\n",
       "      <th>16</th>\n",
       "      <td>Northeast Airport</td>\n",
       "      <td>28174.74</td>\n",
       "    </tr>\n",
       "  </tbody>\n",
       "</table>\n",
       "</div>"
      ],
      "text/plain": [
       "                 ZillowName    wbe_amt\n",
       "5                  Fishtown   31528.00\n",
       "7   Germantown West Central    1178.64\n",
       "9                Holmesburg  150524.04\n",
       "12             Logan Square   24772.57\n",
       "16        Northeast Airport   28174.74"
      ]
     },
     "execution_count": 281,
     "metadata": {},
     "output_type": "execute_result"
    }
   ],
   "source": [
    "total_wbe_amt.head()"
   ]
  },
  {
   "cell_type": "code",
   "execution_count": 282,
   "metadata": {},
   "outputs": [],
   "source": [
    "total_mwbe_amt = total_cert.loc[total_cert['certification_type'] == 'MWBE']\n",
    "total_mwbe_amt.drop('certification_type', axis=1, inplace=True)\n",
    "total_mwbe_amt.rename(columns={'amt_cert_type': 'mwbe_amt'}, inplace=True)"
   ]
  },
  {
   "cell_type": "code",
   "execution_count": 283,
   "metadata": {},
   "outputs": [
    {
     "data": {
      "text/html": [
       "<div>\n",
       "<style scoped>\n",
       "    .dataframe tbody tr th:only-of-type {\n",
       "        vertical-align: middle;\n",
       "    }\n",
       "\n",
       "    .dataframe tbody tr th {\n",
       "        vertical-align: top;\n",
       "    }\n",
       "\n",
       "    .dataframe thead th {\n",
       "        text-align: right;\n",
       "    }\n",
       "</style>\n",
       "<table border=\"1\" class=\"dataframe\">\n",
       "  <thead>\n",
       "    <tr style=\"text-align: right;\">\n",
       "      <th></th>\n",
       "      <th>ZillowName</th>\n",
       "      <th>mwbe_amt</th>\n",
       "    </tr>\n",
       "  </thead>\n",
       "  <tbody>\n",
       "    <tr>\n",
       "      <th>3</th>\n",
       "      <td>Chestnut Hill</td>\n",
       "      <td>1300.00</td>\n",
       "    </tr>\n",
       "    <tr>\n",
       "      <th>6</th>\n",
       "      <td>Germantown Southwest</td>\n",
       "      <td>895.83</td>\n",
       "    </tr>\n",
       "    <tr>\n",
       "      <th>10</th>\n",
       "      <td>Lawndale</td>\n",
       "      <td>1271.00</td>\n",
       "    </tr>\n",
       "    <tr>\n",
       "      <th>13</th>\n",
       "      <td>Mount Airy East</td>\n",
       "      <td>106607.00</td>\n",
       "    </tr>\n",
       "    <tr>\n",
       "      <th>14</th>\n",
       "      <td>Mount Airy West</td>\n",
       "      <td>104062.50</td>\n",
       "    </tr>\n",
       "  </tbody>\n",
       "</table>\n",
       "</div>"
      ],
      "text/plain": [
       "              ZillowName   mwbe_amt\n",
       "3          Chestnut Hill    1300.00\n",
       "6   Germantown Southwest     895.83\n",
       "10              Lawndale    1271.00\n",
       "13       Mount Airy East  106607.00\n",
       "14       Mount Airy West  104062.50"
      ]
     },
     "execution_count": 283,
     "metadata": {},
     "output_type": "execute_result"
    }
   ],
   "source": [
    "total_mwbe_amt.head()"
   ]
  },
  {
   "cell_type": "code",
   "execution_count": 284,
   "metadata": {},
   "outputs": [
    {
     "data": {
      "text/html": [
       "<div>\n",
       "<style scoped>\n",
       "    .dataframe tbody tr th:only-of-type {\n",
       "        vertical-align: middle;\n",
       "    }\n",
       "\n",
       "    .dataframe tbody tr th {\n",
       "        vertical-align: top;\n",
       "    }\n",
       "\n",
       "    .dataframe thead th {\n",
       "        text-align: right;\n",
       "    }\n",
       "</style>\n",
       "<table border=\"1\" class=\"dataframe\">\n",
       "  <thead>\n",
       "    <tr style=\"text-align: right;\">\n",
       "      <th></th>\n",
       "      <th>ZillowName</th>\n",
       "      <th>certification_type</th>\n",
       "      <th>n_cert_type</th>\n",
       "    </tr>\n",
       "  </thead>\n",
       "  <tbody>\n",
       "    <tr>\n",
       "      <th>0</th>\n",
       "      <td>Allegheny West</td>\n",
       "      <td>MBE</td>\n",
       "      <td>1</td>\n",
       "    </tr>\n",
       "    <tr>\n",
       "      <th>1</th>\n",
       "      <td>Callow Hill</td>\n",
       "      <td>MBE</td>\n",
       "      <td>1</td>\n",
       "    </tr>\n",
       "    <tr>\n",
       "      <th>2</th>\n",
       "      <td>Cedarbrook</td>\n",
       "      <td>MBE</td>\n",
       "      <td>1</td>\n",
       "    </tr>\n",
       "    <tr>\n",
       "      <th>3</th>\n",
       "      <td>Chestnut Hill</td>\n",
       "      <td>MWBE</td>\n",
       "      <td>1</td>\n",
       "    </tr>\n",
       "    <tr>\n",
       "      <th>4</th>\n",
       "      <td>East Passyunk</td>\n",
       "      <td>MBE</td>\n",
       "      <td>1</td>\n",
       "    </tr>\n",
       "  </tbody>\n",
       "</table>\n",
       "</div>"
      ],
      "text/plain": [
       "       ZillowName certification_type  n_cert_type\n",
       "0  Allegheny West                MBE            1\n",
       "1     Callow Hill                MBE            1\n",
       "2      Cedarbrook                MBE            1\n",
       "3   Chestnut Hill               MWBE            1\n",
       "4   East Passyunk                MBE            1"
      ]
     },
     "execution_count": 284,
     "metadata": {},
     "output_type": "execute_result"
    }
   ],
   "source": [
    "total_cert_n = unique_joined.groupby(['ZillowName', 'certification_type']).size()\n",
    "total_cert_n = total_cert_n.to_frame('n_cert_type').reset_index()\n",
    "total_cert_n.head()"
   ]
  },
  {
   "cell_type": "code",
   "execution_count": 285,
   "metadata": {},
   "outputs": [],
   "source": [
    "total_mbe_n = total_cert_n.loc[total_cert_n['certification_type'] == 'MBE']\n",
    "total_mbe_n.drop('certification_type', axis=1, inplace=True)\n",
    "total_mbe_n.rename(columns={'n_cert_type': 'mbe_n'}, inplace=True)"
   ]
  },
  {
   "cell_type": "code",
   "execution_count": 286,
   "metadata": {},
   "outputs": [
    {
     "data": {
      "text/html": [
       "<div>\n",
       "<style scoped>\n",
       "    .dataframe tbody tr th:only-of-type {\n",
       "        vertical-align: middle;\n",
       "    }\n",
       "\n",
       "    .dataframe tbody tr th {\n",
       "        vertical-align: top;\n",
       "    }\n",
       "\n",
       "    .dataframe thead th {\n",
       "        text-align: right;\n",
       "    }\n",
       "</style>\n",
       "<table border=\"1\" class=\"dataframe\">\n",
       "  <thead>\n",
       "    <tr style=\"text-align: right;\">\n",
       "      <th></th>\n",
       "      <th>ZillowName</th>\n",
       "      <th>mbe_n</th>\n",
       "    </tr>\n",
       "  </thead>\n",
       "  <tbody>\n",
       "    <tr>\n",
       "      <th>0</th>\n",
       "      <td>Allegheny West</td>\n",
       "      <td>1</td>\n",
       "    </tr>\n",
       "    <tr>\n",
       "      <th>1</th>\n",
       "      <td>Callow Hill</td>\n",
       "      <td>1</td>\n",
       "    </tr>\n",
       "    <tr>\n",
       "      <th>2</th>\n",
       "      <td>Cedarbrook</td>\n",
       "      <td>1</td>\n",
       "    </tr>\n",
       "    <tr>\n",
       "      <th>4</th>\n",
       "      <td>East Passyunk</td>\n",
       "      <td>1</td>\n",
       "    </tr>\n",
       "    <tr>\n",
       "      <th>8</th>\n",
       "      <td>Holmesburg</td>\n",
       "      <td>1</td>\n",
       "    </tr>\n",
       "  </tbody>\n",
       "</table>\n",
       "</div>"
      ],
      "text/plain": [
       "       ZillowName  mbe_n\n",
       "0  Allegheny West      1\n",
       "1     Callow Hill      1\n",
       "2      Cedarbrook      1\n",
       "4   East Passyunk      1\n",
       "8      Holmesburg      1"
      ]
     },
     "execution_count": 286,
     "metadata": {},
     "output_type": "execute_result"
    }
   ],
   "source": [
    "total_mbe_n.head()"
   ]
  },
  {
   "cell_type": "code",
   "execution_count": 287,
   "metadata": {
    "scrolled": true
   },
   "outputs": [],
   "source": [
    "total_wbe_n = total_cert_n.loc[total_cert_n['certification_type'] == 'WBE']\n",
    "total_wbe_n.drop('certification_type', axis=1, inplace=True)\n",
    "total_wbe_n.rename(columns={'n_cert_type': 'wbe_n'}, inplace=True)"
   ]
  },
  {
   "cell_type": "code",
   "execution_count": 288,
   "metadata": {},
   "outputs": [
    {
     "data": {
      "text/html": [
       "<div>\n",
       "<style scoped>\n",
       "    .dataframe tbody tr th:only-of-type {\n",
       "        vertical-align: middle;\n",
       "    }\n",
       "\n",
       "    .dataframe tbody tr th {\n",
       "        vertical-align: top;\n",
       "    }\n",
       "\n",
       "    .dataframe thead th {\n",
       "        text-align: right;\n",
       "    }\n",
       "</style>\n",
       "<table border=\"1\" class=\"dataframe\">\n",
       "  <thead>\n",
       "    <tr style=\"text-align: right;\">\n",
       "      <th></th>\n",
       "      <th>ZillowName</th>\n",
       "      <th>wbe_n</th>\n",
       "    </tr>\n",
       "  </thead>\n",
       "  <tbody>\n",
       "    <tr>\n",
       "      <th>5</th>\n",
       "      <td>Fishtown</td>\n",
       "      <td>1</td>\n",
       "    </tr>\n",
       "    <tr>\n",
       "      <th>7</th>\n",
       "      <td>Germantown West Central</td>\n",
       "      <td>1</td>\n",
       "    </tr>\n",
       "    <tr>\n",
       "      <th>9</th>\n",
       "      <td>Holmesburg</td>\n",
       "      <td>3</td>\n",
       "    </tr>\n",
       "    <tr>\n",
       "      <th>12</th>\n",
       "      <td>Logan Square</td>\n",
       "      <td>1</td>\n",
       "    </tr>\n",
       "    <tr>\n",
       "      <th>16</th>\n",
       "      <td>Northeast Airport</td>\n",
       "      <td>1</td>\n",
       "    </tr>\n",
       "  </tbody>\n",
       "</table>\n",
       "</div>"
      ],
      "text/plain": [
       "                 ZillowName  wbe_n\n",
       "5                  Fishtown      1\n",
       "7   Germantown West Central      1\n",
       "9                Holmesburg      3\n",
       "12             Logan Square      1\n",
       "16        Northeast Airport      1"
      ]
     },
     "execution_count": 288,
     "metadata": {},
     "output_type": "execute_result"
    }
   ],
   "source": [
    "total_wbe_n.head()"
   ]
  },
  {
   "cell_type": "code",
   "execution_count": 289,
   "metadata": {},
   "outputs": [],
   "source": [
    "total_mwbe_n = total_cert_n.loc[total_cert_n['certification_type'] == 'MWBE']\n",
    "total_mwbe_n.drop('certification_type', axis=1, inplace=True)\n",
    "total_mwbe_n.rename(columns={'n_cert_type': 'mwbe_n'}, inplace=True)"
   ]
  },
  {
   "cell_type": "code",
   "execution_count": 290,
   "metadata": {},
   "outputs": [
    {
     "data": {
      "text/html": [
       "<div>\n",
       "<style scoped>\n",
       "    .dataframe tbody tr th:only-of-type {\n",
       "        vertical-align: middle;\n",
       "    }\n",
       "\n",
       "    .dataframe tbody tr th {\n",
       "        vertical-align: top;\n",
       "    }\n",
       "\n",
       "    .dataframe thead th {\n",
       "        text-align: right;\n",
       "    }\n",
       "</style>\n",
       "<table border=\"1\" class=\"dataframe\">\n",
       "  <thead>\n",
       "    <tr style=\"text-align: right;\">\n",
       "      <th></th>\n",
       "      <th>ZillowName</th>\n",
       "      <th>mwbe_n</th>\n",
       "    </tr>\n",
       "  </thead>\n",
       "  <tbody>\n",
       "    <tr>\n",
       "      <th>3</th>\n",
       "      <td>Chestnut Hill</td>\n",
       "      <td>1</td>\n",
       "    </tr>\n",
       "    <tr>\n",
       "      <th>6</th>\n",
       "      <td>Germantown Southwest</td>\n",
       "      <td>1</td>\n",
       "    </tr>\n",
       "    <tr>\n",
       "      <th>10</th>\n",
       "      <td>Lawndale</td>\n",
       "      <td>1</td>\n",
       "    </tr>\n",
       "    <tr>\n",
       "      <th>13</th>\n",
       "      <td>Mount Airy East</td>\n",
       "      <td>1</td>\n",
       "    </tr>\n",
       "    <tr>\n",
       "      <th>14</th>\n",
       "      <td>Mount Airy West</td>\n",
       "      <td>1</td>\n",
       "    </tr>\n",
       "  </tbody>\n",
       "</table>\n",
       "</div>"
      ],
      "text/plain": [
       "              ZillowName  mwbe_n\n",
       "3          Chestnut Hill       1\n",
       "6   Germantown Southwest       1\n",
       "10              Lawndale       1\n",
       "13       Mount Airy East       1\n",
       "14       Mount Airy West       1"
      ]
     },
     "execution_count": 290,
     "metadata": {},
     "output_type": "execute_result"
    }
   ],
   "source": [
    "total_mwbe_n.head()"
   ]
  },
  {
   "cell_type": "code",
   "execution_count": 291,
   "metadata": {},
   "outputs": [],
   "source": [
    "totals = zillow.merge(total_amt, on='ZillowName', how='left')\n",
    "totals = totals.merge(total_mbe_amt, on='ZillowName', how='left')\n",
    "totals = totals.merge(total_wbe_amt, on='ZillowName', how='left')\n",
    "totals = totals.merge(total_mwbe_amt, on='ZillowName', how='left')\n",
    "totals = totals.merge(total_n, on='ZillowName', how='left')\n",
    "totals = totals.merge(total_mbe_n, on='ZillowName', how='left')\n",
    "totals = totals.merge(total_wbe_n, on='ZillowName', how='left')\n",
    "totals = totals.merge(total_mwbe_n, on='ZillowName', how='left')"
   ]
  },
  {
   "cell_type": "code",
   "execution_count": 292,
   "metadata": {},
   "outputs": [],
   "source": [
    "totals['total_amt'] = totals['total_amt'].fillna(0)\n",
    "totals['mbe_amt'] = totals['mbe_amt'].fillna(0)\n",
    "totals['wbe_amt'] = totals['wbe_amt'].fillna(0)\n",
    "totals['mwbe_amt'] = totals['mwbe_amt'].fillna(0)\n",
    "totals['total_n'] = totals['total_n'].fillna(0)\n",
    "totals['mbe_n'] = totals['mbe_n'].fillna(0)\n",
    "totals['wbe_n'] = totals['wbe_n'].fillna(0)\n",
    "totals['mwbe_n'] = totals['mwbe_n'].fillna(0)"
   ]
  },
  {
   "cell_type": "code",
   "execution_count": 293,
   "metadata": {},
   "outputs": [
    {
     "data": {
      "text/html": [
       "<div>\n",
       "<style scoped>\n",
       "    .dataframe tbody tr th:only-of-type {\n",
       "        vertical-align: middle;\n",
       "    }\n",
       "\n",
       "    .dataframe tbody tr th {\n",
       "        vertical-align: top;\n",
       "    }\n",
       "\n",
       "    .dataframe thead th {\n",
       "        text-align: right;\n",
       "    }\n",
       "</style>\n",
       "<table border=\"1\" class=\"dataframe\">\n",
       "  <thead>\n",
       "    <tr style=\"text-align: right;\">\n",
       "      <th></th>\n",
       "      <th>ZillowName</th>\n",
       "      <th>geometry</th>\n",
       "      <th>total_amt</th>\n",
       "      <th>mbe_amt</th>\n",
       "      <th>wbe_amt</th>\n",
       "      <th>mwbe_amt</th>\n",
       "      <th>total_n</th>\n",
       "      <th>mbe_n</th>\n",
       "      <th>wbe_n</th>\n",
       "      <th>mwbe_n</th>\n",
       "    </tr>\n",
       "  </thead>\n",
       "  <tbody>\n",
       "    <tr>\n",
       "      <th>0</th>\n",
       "      <td>Academy Gardens</td>\n",
       "      <td>POLYGON ((-74.99851 40.06435, -74.99456 40.061...</td>\n",
       "      <td>0.00</td>\n",
       "      <td>0.00</td>\n",
       "      <td>0.0</td>\n",
       "      <td>0.0</td>\n",
       "      <td>0.0</td>\n",
       "      <td>0.0</td>\n",
       "      <td>0.0</td>\n",
       "      <td>0.0</td>\n",
       "    </tr>\n",
       "    <tr>\n",
       "      <th>1</th>\n",
       "      <td>Airport</td>\n",
       "      <td>POLYGON ((-75.19728 39.89252, -75.19617 39.892...</td>\n",
       "      <td>0.00</td>\n",
       "      <td>0.00</td>\n",
       "      <td>0.0</td>\n",
       "      <td>0.0</td>\n",
       "      <td>0.0</td>\n",
       "      <td>0.0</td>\n",
       "      <td>0.0</td>\n",
       "      <td>0.0</td>\n",
       "    </tr>\n",
       "    <tr>\n",
       "      <th>2</th>\n",
       "      <td>Allegheny West</td>\n",
       "      <td>POLYGON ((-75.16592 40.00327, -75.16596 40.003...</td>\n",
       "      <td>2416064.47</td>\n",
       "      <td>2416064.47</td>\n",
       "      <td>0.0</td>\n",
       "      <td>0.0</td>\n",
       "      <td>1.0</td>\n",
       "      <td>1.0</td>\n",
       "      <td>0.0</td>\n",
       "      <td>0.0</td>\n",
       "    </tr>\n",
       "    <tr>\n",
       "      <th>3</th>\n",
       "      <td>Andorra</td>\n",
       "      <td>POLYGON ((-75.22463 40.06686, -75.22588 40.065...</td>\n",
       "      <td>0.00</td>\n",
       "      <td>0.00</td>\n",
       "      <td>0.0</td>\n",
       "      <td>0.0</td>\n",
       "      <td>0.0</td>\n",
       "      <td>0.0</td>\n",
       "      <td>0.0</td>\n",
       "      <td>0.0</td>\n",
       "    </tr>\n",
       "    <tr>\n",
       "      <th>4</th>\n",
       "      <td>Aston Woodbridge</td>\n",
       "      <td>POLYGON ((-75.00860 40.05369, -75.00861 40.053...</td>\n",
       "      <td>0.00</td>\n",
       "      <td>0.00</td>\n",
       "      <td>0.0</td>\n",
       "      <td>0.0</td>\n",
       "      <td>0.0</td>\n",
       "      <td>0.0</td>\n",
       "      <td>0.0</td>\n",
       "      <td>0.0</td>\n",
       "    </tr>\n",
       "    <tr>\n",
       "      <th>...</th>\n",
       "      <td>...</td>\n",
       "      <td>...</td>\n",
       "      <td>...</td>\n",
       "      <td>...</td>\n",
       "      <td>...</td>\n",
       "      <td>...</td>\n",
       "      <td>...</td>\n",
       "      <td>...</td>\n",
       "      <td>...</td>\n",
       "      <td>...</td>\n",
       "    </tr>\n",
       "    <tr>\n",
       "      <th>153</th>\n",
       "      <td>Wister</td>\n",
       "      <td>POLYGON ((-75.17210 40.03840, -75.17197 40.037...</td>\n",
       "      <td>0.00</td>\n",
       "      <td>0.00</td>\n",
       "      <td>0.0</td>\n",
       "      <td>0.0</td>\n",
       "      <td>0.0</td>\n",
       "      <td>0.0</td>\n",
       "      <td>0.0</td>\n",
       "      <td>0.0</td>\n",
       "    </tr>\n",
       "    <tr>\n",
       "      <th>154</th>\n",
       "      <td>Woodland Terrace</td>\n",
       "      <td>POLYGON ((-75.20399 39.94968, -75.20396 39.949...</td>\n",
       "      <td>35655.11</td>\n",
       "      <td>35655.11</td>\n",
       "      <td>0.0</td>\n",
       "      <td>0.0</td>\n",
       "      <td>1.0</td>\n",
       "      <td>1.0</td>\n",
       "      <td>0.0</td>\n",
       "      <td>0.0</td>\n",
       "    </tr>\n",
       "    <tr>\n",
       "      <th>155</th>\n",
       "      <td>Wynnefield</td>\n",
       "      <td>POLYGON ((-75.22070 40.00392, -75.21792 39.994...</td>\n",
       "      <td>0.00</td>\n",
       "      <td>0.00</td>\n",
       "      <td>0.0</td>\n",
       "      <td>0.0</td>\n",
       "      <td>0.0</td>\n",
       "      <td>0.0</td>\n",
       "      <td>0.0</td>\n",
       "      <td>0.0</td>\n",
       "    </tr>\n",
       "    <tr>\n",
       "      <th>156</th>\n",
       "      <td>Wynnefield Heights</td>\n",
       "      <td>POLYGON ((-75.20103 40.00419, -75.20410 40.000...</td>\n",
       "      <td>0.00</td>\n",
       "      <td>0.00</td>\n",
       "      <td>0.0</td>\n",
       "      <td>0.0</td>\n",
       "      <td>0.0</td>\n",
       "      <td>0.0</td>\n",
       "      <td>0.0</td>\n",
       "      <td>0.0</td>\n",
       "    </tr>\n",
       "    <tr>\n",
       "      <th>157</th>\n",
       "      <td>Yorktown</td>\n",
       "      <td>POLYGON ((-75.14917 39.97907, -75.15096 39.970...</td>\n",
       "      <td>0.00</td>\n",
       "      <td>0.00</td>\n",
       "      <td>0.0</td>\n",
       "      <td>0.0</td>\n",
       "      <td>0.0</td>\n",
       "      <td>0.0</td>\n",
       "      <td>0.0</td>\n",
       "      <td>0.0</td>\n",
       "    </tr>\n",
       "  </tbody>\n",
       "</table>\n",
       "<p>158 rows × 10 columns</p>\n",
       "</div>"
      ],
      "text/plain": [
       "             ZillowName                                           geometry  \\\n",
       "0       Academy Gardens  POLYGON ((-74.99851 40.06435, -74.99456 40.061...   \n",
       "1               Airport  POLYGON ((-75.19728 39.89252, -75.19617 39.892...   \n",
       "2        Allegheny West  POLYGON ((-75.16592 40.00327, -75.16596 40.003...   \n",
       "3               Andorra  POLYGON ((-75.22463 40.06686, -75.22588 40.065...   \n",
       "4      Aston Woodbridge  POLYGON ((-75.00860 40.05369, -75.00861 40.053...   \n",
       "..                  ...                                                ...   \n",
       "153              Wister  POLYGON ((-75.17210 40.03840, -75.17197 40.037...   \n",
       "154    Woodland Terrace  POLYGON ((-75.20399 39.94968, -75.20396 39.949...   \n",
       "155          Wynnefield  POLYGON ((-75.22070 40.00392, -75.21792 39.994...   \n",
       "156  Wynnefield Heights  POLYGON ((-75.20103 40.00419, -75.20410 40.000...   \n",
       "157            Yorktown  POLYGON ((-75.14917 39.97907, -75.15096 39.970...   \n",
       "\n",
       "      total_amt     mbe_amt  wbe_amt  mwbe_amt  total_n  mbe_n  wbe_n  mwbe_n  \n",
       "0          0.00        0.00      0.0       0.0      0.0    0.0    0.0     0.0  \n",
       "1          0.00        0.00      0.0       0.0      0.0    0.0    0.0     0.0  \n",
       "2    2416064.47  2416064.47      0.0       0.0      1.0    1.0    0.0     0.0  \n",
       "3          0.00        0.00      0.0       0.0      0.0    0.0    0.0     0.0  \n",
       "4          0.00        0.00      0.0       0.0      0.0    0.0    0.0     0.0  \n",
       "..          ...         ...      ...       ...      ...    ...    ...     ...  \n",
       "153        0.00        0.00      0.0       0.0      0.0    0.0    0.0     0.0  \n",
       "154    35655.11    35655.11      0.0       0.0      1.0    1.0    0.0     0.0  \n",
       "155        0.00        0.00      0.0       0.0      0.0    0.0    0.0     0.0  \n",
       "156        0.00        0.00      0.0       0.0      0.0    0.0    0.0     0.0  \n",
       "157        0.00        0.00      0.0       0.0      0.0    0.0    0.0     0.0  \n",
       "\n",
       "[158 rows x 10 columns]"
      ]
     },
     "execution_count": 293,
     "metadata": {},
     "output_type": "execute_result"
    }
   ],
   "source": [
    "totals"
   ]
  },
  {
   "cell_type": "code",
   "execution_count": 294,
   "metadata": {},
   "outputs": [],
   "source": [
    "totals.to_file(r'C:\\Users\\dabinlee\\Documents\\GitHub\\mwdsbe_binny\\MWDSBE\\analysis\\data\\general_funds\\totals_nhoods_136.geojson', driver='GeoJSON')\n",
    "# totals.to_file('/Users/dabinlee/Documents/github/MWDSBE/analysis/data/general_funds/totals_nhoods_136.geojson', driver='GeoJSON')"
   ]
  },
  {
   "cell_type": "markdown",
   "metadata": {},
   "source": [
    "## Analysis"
   ]
  },
  {
   "cell_type": "markdown",
   "metadata": {},
   "source": [
    "### Top 10 Vendors by dollar amount"
   ]
  },
  {
   "cell_type": "code",
   "execution_count": 243,
   "metadata": {},
   "outputs": [
    {
     "data": {
      "text/plain": [
       "Index(['company_name', 'dba_name', 'owner_first', 'owner_last', 'location',\n",
       "       'location_city', 'location_state', 'zip_code', 'mailing_address',\n",
       "       'mailing_city', 'mailing_state', 'mailing_zip', 'certification_type',\n",
       "       'capability', 'local', 'out_of_state', 'location_standard', 'lat',\n",
       "       'lng', 'geometry', 'match_probability', 'right_index', 'DR_ACCT_x',\n",
       "       'CR_ACCT_x', 'CURR_PRIOR_FLAG_x', 'POSTED_DATE_x', 'DEPT_x', 'SEC_FD_x',\n",
       "       'INDEX_x', 'PROGRAM_CD_x', 'MAJ_CLASS_x', 'CLASS_x', 'DOC_NUM_x',\n",
       "       'TRANS_DESC_x', 'DOC_REF_NUM_x', 'VEND_NAME', 'VEND_NUM_x', 'AMT_x',\n",
       "       'DOC_NUM4_x', 'DOC_REF4_x', 'DR_ACCT_y', 'CR_ACCT_y',\n",
       "       'CURR_PRIOR_FLAG_y', 'POSTED_DATE_y', 'DEPT_y', 'SEC_FD_y', 'INDEX_y',\n",
       "       'PROGRAM_CD_y', 'MAJ_CLASS_y', 'CLASS_y', 'DOC_NUM_y', 'TRANS_DESC_y',\n",
       "       'DOC_REF_NUM_y', 'VEND_NUM_y', 'AMT_y', 'DOC_NUM4_y', 'DOC_REF4_y'],\n",
       "      dtype='object')"
      ]
     },
     "execution_count": 243,
     "metadata": {},
     "output_type": "execute_result"
    }
   ],
   "source": [
    "data.columns"
   ]
  },
  {
   "cell_type": "code",
   "execution_count": 244,
   "metadata": {},
   "outputs": [],
   "source": [
    "vendors_amt = data.groupby('VEND_NAME')['AMT_y'].sum().to_frame('AMT').reset_index()"
   ]
  },
  {
   "cell_type": "code",
   "execution_count": 245,
   "metadata": {},
   "outputs": [],
   "source": [
    "top10_vendors_amt = vendors_amt.sort_values(by='AMT', ascending=False)[:10]"
   ]
  },
  {
   "cell_type": "code",
   "execution_count": 246,
   "metadata": {},
   "outputs": [
    {
     "data": {
      "image/png": "[encoded data removed]",
      "text/plain": [
       "<Figure size 432x288 with 1 Axes>"
      ]
     },
     "metadata": {},
     "output_type": "display_data"
    }
   ],
   "source": [
    "sns.set(style=\"whitegrid\")\n",
    "ax = sns.barplot(x=\"AMT\", y=\"VEND_NAME\", data=top10_vendors_amt)\n",
    "ax.set(xlabel='Dollar Amount', ylabel='Vendor Name')\n",
    "ax.xaxis.set_major_locator(plt.MaxNLocator(5))\n",
    "plt.show()"
   ]
  },
  {
   "cell_type": "markdown",
   "metadata": {},
   "source": [
    "### Top 10 Departments by dollar amount"
   ]
  },
  {
   "cell_type": "code",
   "execution_count": 251,
   "metadata": {},
   "outputs": [],
   "source": [
    "# get dept title from city payments data\n",
    "city_payments = pd.read_excel(r'C:\\Users\\dabinlee\\Documents\\GitHub\\mwdsbe_binny\\MWDSBE\\analysis\\data\\payments\\city_payments_detailed_2017.xlsx')"
   ]
  },
  {
   "cell_type": "code",
   "execution_count": 252,
   "metadata": {},
   "outputs": [],
   "source": [
    "simple_cp = city_payments[['dept', 'department_title']]"
   ]
  },
  {
   "cell_type": "code",
   "execution_count": 253,
   "metadata": {},
   "outputs": [],
   "source": [
    "simple_cp = simple_cp.groupby(['dept', 'department_title']).size().to_frame('N').reset_index()"
   ]
  },
  {
   "cell_type": "code",
   "execution_count": 254,
   "metadata": {},
   "outputs": [],
   "source": [
    "data = data.merge(simple_cp, how='left', left_on='DEPT_y', right_on='dept').drop(['dept'], axis=1)"
   ]
  },
  {
   "cell_type": "code",
   "execution_count": 257,
   "metadata": {},
   "outputs": [],
   "source": [
    "dept_amt = data.groupby('department_title_y')['AMT_y'].sum().to_frame('AMT').reset_index()"
   ]
  },
  {
   "cell_type": "code",
   "execution_count": 258,
   "metadata": {},
   "outputs": [],
   "source": [
    "top10_dept_amt = dept_amt.sort_values(by='AMT', ascending=False)[:10]"
   ]
  },
  {
   "cell_type": "code",
   "execution_count": 260,
   "metadata": {},
   "outputs": [
    {
     "data": {
      "image/png": "[encoded data removed]",
      "text/plain": [
       "<Figure size 432x288 with 1 Axes>"
      ]
     },
     "metadata": {},
     "output_type": "display_data"
    }
   ],
   "source": [
    "sns.set(style=\"whitegrid\")\n",
    "ax = sns.barplot(x=\"AMT\", y=\"department_title_y\", data=top10_dept_amt)\n",
    "ax.set(xlabel='Dollar Amount', ylabel='Department')\n",
    "ax.xaxis.set_major_locator(plt.MaxNLocator(5))\n",
    "plt.show()"
   ]
  },
  {
   "cell_type": "code",
   "execution_count": null,
   "metadata": {},
   "outputs": [],
   "source": []
  }
 ],
 "metadata": {
  "kernelspec": {
   "display_name": "Python 3",
   "language": "python",
   "name": "python3"
  },
  "language_info": {
   "codemirror_mode": {
    "name": "ipython",
    "version": 3
   },
   "file_extension": ".py",
   "mimetype": "text/x-python",
   "name": "python",
   "nbconvert_exporter": "python",
   "pygments_lexer": "ipython3",
   "version": "3.7.4"
  }
 },
 "nbformat": 4,
 "nbformat_minor": 2
}
