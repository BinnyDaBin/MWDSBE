{
 "cells": [
  {
   "cell_type": "markdown",
   "metadata": {},
   "source": [
    "# TF-IDF"
   ]
  },
  {
   "cell_type": "code",
   "execution_count": 1,
   "metadata": {},
   "outputs": [],
   "source": [
    "import mwdsbe\n",
    "import mwdsbe.datasets.licenses as licenses\n",
    "import schuylkill as skool\n",
    "import pandas as pd\n",
    "import numpy as np"
   ]
  },
  {
   "cell_type": "code",
   "execution_count": 2,
   "metadata": {},
   "outputs": [],
   "source": [
    "# import registry\n",
    "registry = mwdsbe.load_registry() # geopandas df"
   ]
  },
  {
   "cell_type": "code",
   "execution_count": 3,
   "metadata": {},
   "outputs": [
    {
     "data": {
      "text/html": [
       "<div>\n",
       "<style scoped>\n",
       "    .dataframe tbody tr th:only-of-type {\n",
       "        vertical-align: middle;\n",
       "    }\n",
       "\n",
       "    .dataframe tbody tr th {\n",
       "        vertical-align: top;\n",
       "    }\n",
       "\n",
       "    .dataframe thead th {\n",
       "        text-align: right;\n",
       "    }\n",
       "</style>\n",
       "<table border=\"1\" class=\"dataframe\">\n",
       "  <thead>\n",
       "    <tr style=\"text-align: right;\">\n",
       "      <th></th>\n",
       "      <th>company_name</th>\n",
       "      <th>dba_name</th>\n",
       "      <th>owner_first</th>\n",
       "      <th>owner_last</th>\n",
       "      <th>location</th>\n",
       "      <th>location_city</th>\n",
       "      <th>location_state</th>\n",
       "      <th>zip_code</th>\n",
       "      <th>mailing_address</th>\n",
       "      <th>mailing_city</th>\n",
       "      <th>mailing_state</th>\n",
       "      <th>mailing_zip</th>\n",
       "      <th>certification_type</th>\n",
       "      <th>capability</th>\n",
       "      <th>local</th>\n",
       "      <th>out_of_state</th>\n",
       "      <th>location_standard</th>\n",
       "      <th>lat</th>\n",
       "      <th>lng</th>\n",
       "      <th>geometry</th>\n",
       "    </tr>\n",
       "    <tr>\n",
       "      <th>registry_id</th>\n",
       "      <th></th>\n",
       "      <th></th>\n",
       "      <th></th>\n",
       "      <th></th>\n",
       "      <th></th>\n",
       "      <th></th>\n",
       "      <th></th>\n",
       "      <th></th>\n",
       "      <th></th>\n",
       "      <th></th>\n",
       "      <th></th>\n",
       "      <th></th>\n",
       "      <th></th>\n",
       "      <th></th>\n",
       "      <th></th>\n",
       "      <th></th>\n",
       "      <th></th>\n",
       "      <th></th>\n",
       "      <th></th>\n",
       "      <th></th>\n",
       "    </tr>\n",
       "  </thead>\n",
       "  <tbody>\n",
       "    <tr>\n",
       "      <td>0</td>\n",
       "      <td>119 Degrees Architects</td>\n",
       "      <td>NaN</td>\n",
       "      <td>Rafael</td>\n",
       "      <td>Utrera</td>\n",
       "      <td>1503 Green Street, Suite # 4</td>\n",
       "      <td>Philadelphia</td>\n",
       "      <td>PA</td>\n",
       "      <td>19130.0</td>\n",
       "      <td>1503 Green Street, Suite # 4</td>\n",
       "      <td>Philadelphia</td>\n",
       "      <td>PA</td>\n",
       "      <td>19130.0</td>\n",
       "      <td>MBE</td>\n",
       "      <td>NAICS 5413 Architectural, Engineering, and Rel...</td>\n",
       "      <td>True</td>\n",
       "      <td>False</td>\n",
       "      <td>1503 GREEN ST</td>\n",
       "      <td>39.964275</td>\n",
       "      <td>-75.163042</td>\n",
       "      <td>POINT (-75.16304190105227 39.96427495800303)</td>\n",
       "    </tr>\n",
       "    <tr>\n",
       "      <td>1</td>\n",
       "      <td>12Bravo Group</td>\n",
       "      <td>NaN</td>\n",
       "      <td>JEFFREY</td>\n",
       "      <td>YEKENCHIK</td>\n",
       "      <td>236 McKendimen Road</td>\n",
       "      <td>Medford Lakes</td>\n",
       "      <td>NJ</td>\n",
       "      <td>8055.0</td>\n",
       "      <td>236 McKendimen Road</td>\n",
       "      <td>Medford Lakes</td>\n",
       "      <td>NJ</td>\n",
       "      <td>8055.0</td>\n",
       "      <td>DSBE</td>\n",
       "      <td>Addition, alteration and renovation for-sale b...</td>\n",
       "      <td>False</td>\n",
       "      <td>True</td>\n",
       "      <td>NaN</td>\n",
       "      <td>NaN</td>\n",
       "      <td>NaN</td>\n",
       "      <td>NaN</td>\n",
       "    </tr>\n",
       "    <tr>\n",
       "      <td>2</td>\n",
       "      <td>1st Choice Financial Group</td>\n",
       "      <td>ProVisio</td>\n",
       "      <td>Kathrina</td>\n",
       "      <td>Nease</td>\n",
       "      <td>133 N. 21st Street</td>\n",
       "      <td>Camp Hill</td>\n",
       "      <td>PA</td>\n",
       "      <td>17011.0</td>\n",
       "      <td>133 N. 21st Street</td>\n",
       "      <td>Camp Hill</td>\n",
       "      <td>PA</td>\n",
       "      <td>17011.0</td>\n",
       "      <td>WBE</td>\n",
       "      <td>NAICS 928120 International Affairs</td>\n",
       "      <td>False</td>\n",
       "      <td>False</td>\n",
       "      <td>NaN</td>\n",
       "      <td>NaN</td>\n",
       "      <td>NaN</td>\n",
       "      <td>NaN</td>\n",
       "    </tr>\n",
       "    <tr>\n",
       "      <td>3</td>\n",
       "      <td>212 Harakawa Inc.</td>\n",
       "      <td>Two Twelve</td>\n",
       "      <td>Ann</td>\n",
       "      <td>Harakawa</td>\n",
       "      <td>236 W 27th Street, Suite 802</td>\n",
       "      <td>New York</td>\n",
       "      <td>NY</td>\n",
       "      <td>10001.0</td>\n",
       "      <td>236 W 27th Street, Suite 802</td>\n",
       "      <td>New York</td>\n",
       "      <td>NY</td>\n",
       "      <td>10001.0</td>\n",
       "      <td>MWBE</td>\n",
       "      <td>Graphic Design Services; Graphic design servic...</td>\n",
       "      <td>False</td>\n",
       "      <td>True</td>\n",
       "      <td>NaN</td>\n",
       "      <td>NaN</td>\n",
       "      <td>NaN</td>\n",
       "      <td>NaN</td>\n",
       "    </tr>\n",
       "    <tr>\n",
       "      <td>4</td>\n",
       "      <td>215 Media Solutions</td>\n",
       "      <td>NaN</td>\n",
       "      <td>Dewain</td>\n",
       "      <td>Johnson</td>\n",
       "      <td>810 Felton Avenue</td>\n",
       "      <td>Sharon Hill</td>\n",
       "      <td>PA</td>\n",
       "      <td>19079.0</td>\n",
       "      <td>810 Felton Avenue</td>\n",
       "      <td>Sharon Hill</td>\n",
       "      <td>PA</td>\n",
       "      <td>19079.0</td>\n",
       "      <td>MBE</td>\n",
       "      <td>NAICS 5414 Specialized Design Services ; NAICS...</td>\n",
       "      <td>False</td>\n",
       "      <td>False</td>\n",
       "      <td>NaN</td>\n",
       "      <td>NaN</td>\n",
       "      <td>NaN</td>\n",
       "      <td>NaN</td>\n",
       "    </tr>\n",
       "  </tbody>\n",
       "</table>\n",
       "</div>"
      ],
      "text/plain": [
       "                           company_name    dba_name owner_first owner_last  \\\n",
       "registry_id                                                                  \n",
       "0                119 Degrees Architects         NaN      Rafael     Utrera   \n",
       "1                         12Bravo Group         NaN     JEFFREY  YEKENCHIK   \n",
       "2            1st Choice Financial Group    ProVisio    Kathrina      Nease   \n",
       "3                     212 Harakawa Inc.  Two Twelve         Ann   Harakawa   \n",
       "4                   215 Media Solutions         NaN      Dewain    Johnson   \n",
       "\n",
       "                                 location  location_city location_state  \\\n",
       "registry_id                                                               \n",
       "0            1503 Green Street, Suite # 4   Philadelphia             PA   \n",
       "1                     236 McKendimen Road  Medford Lakes             NJ   \n",
       "2                      133 N. 21st Street      Camp Hill             PA   \n",
       "3            236 W 27th Street, Suite 802       New York             NY   \n",
       "4                       810 Felton Avenue    Sharon Hill             PA   \n",
       "\n",
       "             zip_code               mailing_address   mailing_city  \\\n",
       "registry_id                                                          \n",
       "0             19130.0  1503 Green Street, Suite # 4   Philadelphia   \n",
       "1              8055.0           236 McKendimen Road  Medford Lakes   \n",
       "2             17011.0            133 N. 21st Street      Camp Hill   \n",
       "3             10001.0  236 W 27th Street, Suite 802       New York   \n",
       "4             19079.0             810 Felton Avenue    Sharon Hill   \n",
       "\n",
       "            mailing_state  mailing_zip certification_type  \\\n",
       "registry_id                                                 \n",
       "0                      PA      19130.0                MBE   \n",
       "1                      NJ       8055.0               DSBE   \n",
       "2                      PA      17011.0                WBE   \n",
       "3                      NY      10001.0               MWBE   \n",
       "4                      PA      19079.0                MBE   \n",
       "\n",
       "                                                    capability  local  \\\n",
       "registry_id                                                             \n",
       "0            NAICS 5413 Architectural, Engineering, and Rel...   True   \n",
       "1            Addition, alteration and renovation for-sale b...  False   \n",
       "2                           NAICS 928120 International Affairs  False   \n",
       "3            Graphic Design Services; Graphic design servic...  False   \n",
       "4            NAICS 5414 Specialized Design Services ; NAICS...  False   \n",
       "\n",
       "             out_of_state location_standard        lat        lng  \\\n",
       "registry_id                                                         \n",
       "0                   False     1503 GREEN ST  39.964275 -75.163042   \n",
       "1                    True               NaN        NaN        NaN   \n",
       "2                   False               NaN        NaN        NaN   \n",
       "3                    True               NaN        NaN        NaN   \n",
       "4                   False               NaN        NaN        NaN   \n",
       "\n",
       "                                                 geometry  \n",
       "registry_id                                                \n",
       "0            POINT (-75.16304190105227 39.96427495800303)  \n",
       "1                                                     NaN  \n",
       "2                                                     NaN  \n",
       "3                                                     NaN  \n",
       "4                                                     NaN  "
      ]
     },
     "execution_count": 3,
     "metadata": {},
     "output_type": "execute_result"
    }
   ],
   "source": [
    "registry.head()"
   ]
  },
  {
   "cell_type": "code",
   "execution_count": 5,
   "metadata": {},
   "outputs": [],
   "source": [
    "# import license data\n",
    "license = licenses.CommercialActivityLicenses.download()"
   ]
  },
  {
   "cell_type": "code",
   "execution_count": 6,
   "metadata": {},
   "outputs": [
    {
     "data": {
      "text/html": [
       "<div>\n",
       "<style scoped>\n",
       "    .dataframe tbody tr th:only-of-type {\n",
       "        vertical-align: middle;\n",
       "    }\n",
       "\n",
       "    .dataframe tbody tr th {\n",
       "        vertical-align: top;\n",
       "    }\n",
       "\n",
       "    .dataframe thead th {\n",
       "        text-align: right;\n",
       "    }\n",
       "</style>\n",
       "<table border=\"1\" class=\"dataframe\">\n",
       "  <thead>\n",
       "    <tr style=\"text-align: right;\">\n",
       "      <th></th>\n",
       "      <th>license_num</th>\n",
       "      <th>issue_date</th>\n",
       "      <th>license_status</th>\n",
       "      <th>company_name</th>\n",
       "    </tr>\n",
       "  </thead>\n",
       "  <tbody>\n",
       "    <tr>\n",
       "      <td>0</td>\n",
       "      <td>188053</td>\n",
       "      <td>1990-01-01T00:00:00Z</td>\n",
       "      <td>Active</td>\n",
       "      <td>BIRMINGHAM FIRE INS CO OF PA T</td>\n",
       "    </tr>\n",
       "    <tr>\n",
       "      <td>1</td>\n",
       "      <td>058781</td>\n",
       "      <td>1990-01-12T00:00:00Z</td>\n",
       "      <td>Active</td>\n",
       "      <td>CLAYMAN EDWARD P ESQ</td>\n",
       "    </tr>\n",
       "    <tr>\n",
       "      <td>2</td>\n",
       "      <td>057406</td>\n",
       "      <td>1990-01-23T00:00:00Z</td>\n",
       "      <td>Active</td>\n",
       "      <td>BRENNAN J F</td>\n",
       "    </tr>\n",
       "    <tr>\n",
       "      <td>3</td>\n",
       "      <td>332055</td>\n",
       "      <td>1990-02-08T00:00:00Z</td>\n",
       "      <td>Active</td>\n",
       "      <td>TASTY BAKING COMPANY</td>\n",
       "    </tr>\n",
       "    <tr>\n",
       "      <td>4</td>\n",
       "      <td>188058</td>\n",
       "      <td>1990-12-31T00:00:00Z</td>\n",
       "      <td>Active</td>\n",
       "      <td>MAGARGEE BROS INC</td>\n",
       "    </tr>\n",
       "  </tbody>\n",
       "</table>\n",
       "</div>"
      ],
      "text/plain": [
       "  license_num            issue_date license_status  \\\n",
       "0      188053  1990-01-01T00:00:00Z         Active   \n",
       "1      058781  1990-01-12T00:00:00Z         Active   \n",
       "2      057406  1990-01-23T00:00:00Z         Active   \n",
       "3      332055  1990-02-08T00:00:00Z         Active   \n",
       "4      188058  1990-12-31T00:00:00Z         Active   \n",
       "\n",
       "                     company_name  \n",
       "0  BIRMINGHAM FIRE INS CO OF PA T  \n",
       "1            CLAYMAN EDWARD P ESQ  \n",
       "2                     BRENNAN J F  \n",
       "3            TASTY BAKING COMPANY  \n",
       "4               MAGARGEE BROS INC  "
      ]
     },
     "execution_count": 6,
     "metadata": {},
     "output_type": "execute_result"
    }
   ],
   "source": [
    "license.head()"
   ]
  },
  {
   "cell_type": "code",
   "execution_count": 6,
   "metadata": {},
   "outputs": [],
   "source": [
    "mini_registry = registry[:5]"
   ]
  },
  {
   "cell_type": "code",
   "execution_count": 7,
   "metadata": {},
   "outputs": [],
   "source": [
    "# clean company_name and dba_name of clean datasets\n",
    "ignore = ['inc', 'group', 'llc', 'corp', 'pc', 'incorporated', 'ltd']\n",
    "registry = skool.clean_strings(registry, ['company_name', 'dba_name'], True, ignore)\n",
    "license = skool.clean_strings(license, ['company_name'], True, ignore)"
   ]
  },
  {
   "cell_type": "code",
   "execution_count": 8,
   "metadata": {},
   "outputs": [
    {
     "ename": "ModuleNotFoundError",
     "evalue": "No module named 'ftfy'",
     "output_type": "error",
     "traceback": [
      "\u001b[1;31m---------------------------------------------------------------------------\u001b[0m",
      "\u001b[1;31mModuleNotFoundError\u001b[0m                       Traceback (most recent call last)",
      "\u001b[1;32m<ipython-input-8-def075cbfbcf>\u001b[0m in \u001b[0;36m<module>\u001b[1;34m\u001b[0m\n\u001b[1;32m----> 1\u001b[1;33m \u001b[1;32mfrom\u001b[0m \u001b[0mftfy\u001b[0m \u001b[1;32mimport\u001b[0m \u001b[0mfix_text\u001b[0m\u001b[1;33m\u001b[0m\u001b[1;33m\u001b[0m\u001b[0m\n\u001b[0m",
      "\u001b[1;31mModuleNotFoundError\u001b[0m: No module named 'ftfy'"
     ]
    }
   ],
   "source": [
    "from ftfy import fix_text"
   ]
  },
  {
   "cell_type": "code",
   "execution_count": 12,
   "metadata": {},
   "outputs": [],
   "source": [
    "import re\n",
    "\n",
    "def ngrams(string, n=3):\n",
    "    string = re.sub(r'[,-./]|\\sBD',r'', string)\n",
    "    ngrams = zip(*[string[i:] for i in range(n)])\n",
    "    return [''.join(ngram) for ngram in ngrams]"
   ]
  },
  {
   "cell_type": "code",
   "execution_count": 17,
   "metadata": {},
   "outputs": [
    {
     "data": {
      "text/plain": [
       "['119',\n",
       " '19 ',\n",
       " '9 d',\n",
       " ' de',\n",
       " 'deg',\n",
       " 'egr',\n",
       " 'gre',\n",
       " 'ree',\n",
       " 'ees',\n",
       " 'es ',\n",
       " 's a',\n",
       " ' ar',\n",
       " 'arc',\n",
       " 'rch',\n",
       " 'chi',\n",
       " 'hit',\n",
       " 'ite',\n",
       " 'tec',\n",
       " 'ect',\n",
       " 'cts']"
      ]
     },
     "execution_count": 17,
     "metadata": {},
     "output_type": "execute_result"
    }
   ],
   "source": [
    "ngrams(registry['company_name'].iloc[0])"
   ]
  },
  {
   "cell_type": "code",
   "execution_count": 9,
   "metadata": {},
   "outputs": [],
   "source": [
    "from scipy.sparse import csr_matrix\n",
    "import sparse_dot_topn.sparse_dot_topn as ct"
   ]
  },
  {
   "cell_type": "code",
   "execution_count": 10,
   "metadata": {},
   "outputs": [],
   "source": [
    "def awesome_cossim_top(A, B, ntop, lower_bound=0):\n",
    "    # force A and B as a CSR matrix.\n",
    "    # If they have already been CSR, there is no overhead\n",
    "    A = A.tocsr()\n",
    "    B = B.tocsr()\n",
    "    M, _ = A.shape\n",
    "    _, N = B.shape\n",
    " \n",
    "    idx_dtype = np.int32\n",
    " \n",
    "    nnz_max = M*ntop\n",
    " \n",
    "    indptr = np.zeros(M+1, dtype=idx_dtype)\n",
    "    indices = np.zeros(nnz_max, dtype=idx_dtype)\n",
    "    data = np.zeros(nnz_max, dtype=A.dtype)\n",
    "\n",
    "    ct.sparse_dot_topn(\n",
    "        M, N, np.asarray(A.indptr, dtype=idx_dtype),\n",
    "        np.asarray(A.indices, dtype=idx_dtype),\n",
    "        A.data,\n",
    "        np.asarray(B.indptr, dtype=idx_dtype),\n",
    "        np.asarray(B.indices, dtype=idx_dtype),\n",
    "        B.data,\n",
    "        ntop,\n",
    "        lower_bound,\n",
    "        indptr, indices, data)\n",
    "\n",
    "    return csr_matrix((data,indices,indptr),shape=(M,N))"
   ]
  },
  {
   "cell_type": "code",
   "execution_count": 13,
   "metadata": {},
   "outputs": [],
   "source": [
    "from sklearn.feature_extraction.text import TfidfVectorizer\n",
    "\n",
    "company_names = registry['company_name'].iloc[:100]\n",
    "vectorizer = TfidfVectorizer(min_df=1, analyzer=ngrams)\n",
    "tf_idf_matrix = vectorizer.fit_transform(company_names)"
   ]
  },
  {
   "cell_type": "code",
   "execution_count": 14,
   "metadata": {},
   "outputs": [
    {
     "data": {
      "text/plain": [
       "<100x852 sparse matrix of type '<class 'numpy.float64'>'\n",
       "\twith 1740 stored elements in Compressed Sparse Row format>"
      ]
     },
     "execution_count": 14,
     "metadata": {},
     "output_type": "execute_result"
    }
   ],
   "source": [
    "tf_idf_matrix"
   ]
  },
  {
   "cell_type": "code",
   "execution_count": 15,
   "metadata": {},
   "outputs": [],
   "source": [
    "def get_matches_df(sparse_matrix, name_vector, top=100):\n",
    "    non_zeros = sparse_matrix.nonzero()\n",
    "    \n",
    "    sparserows = non_zeros[0]\n",
    "    sparsecols = non_zeros[1]\n",
    "    \n",
    "    if top:\n",
    "        nr_matches = top\n",
    "    else:\n",
    "        nr_matches = sparsecols.size\n",
    "    \n",
    "    left_side = np.empty([nr_matches], dtype=object)\n",
    "    right_side = np.empty([nr_matches], dtype=object)\n",
    "    similairity = np.zeros(nr_matches)\n",
    "    \n",
    "    for index in range(0, nr_matches):\n",
    "        left_side[index] = name_vector[sparserows[index]]\n",
    "        right_side[index] = name_vector[sparsecols[index]]\n",
    "        similairity[index] = sparse_matrix.data[index]\n",
    "    \n",
    "    return pd.DataFrame({'left_side': left_side,\n",
    "                          'right_side': right_side,\n",
    "                           'similairity': similairity})"
   ]
  },
  {
   "cell_type": "code",
   "execution_count": 16,
   "metadata": {},
   "outputs": [],
   "source": [
    "all_company_names = pd.concat([registry['company_name'].dropna(), license['company_name'].dropna()]).unique()"
   ]
  },
  {
   "cell_type": "code",
   "execution_count": 17,
   "metadata": {},
   "outputs": [
    {
     "data": {
      "text/plain": [
       "196713"
      ]
     },
     "execution_count": 17,
     "metadata": {},
     "output_type": "execute_result"
    }
   ],
   "source": [
    "len(all_company_names)"
   ]
  },
  {
   "cell_type": "code",
   "execution_count": 18,
   "metadata": {},
   "outputs": [],
   "source": [
    "vectorizer = TfidfVectorizer(min_df=1, analyzer=ngrams)\n",
    "tf_idf_matrix = vectorizer.fit_transform(all_company_names)"
   ]
  },
  {
   "cell_type": "code",
   "execution_count": 19,
   "metadata": {},
   "outputs": [
    {
     "name": "stdout",
     "output_type": "stream",
     "text": [
      "SELFTIMED: 102.27375102043152\n"
     ]
    }
   ],
   "source": [
    "import time\n",
    "t1 = time.time()\n",
    "matches = awesome_cossim_top(tf_idf_matrix, tf_idf_matrix.transpose(), 10, 0.85)\n",
    "t = time.time()-t1\n",
    "print(\"SELFTIMED:\", t)"
   ]
  },
  {
   "cell_type": "code",
   "execution_count": 20,
   "metadata": {},
   "outputs": [
    {
     "data": {
      "text/plain": [
       "<196713x196713 sparse matrix of type '<class 'numpy.float64'>'\n",
       "\twith 214256 stored elements in Compressed Sparse Row format>"
      ]
     },
     "execution_count": 20,
     "metadata": {},
     "output_type": "execute_result"
    }
   ],
   "source": [
    "matches"
   ]
  },
  {
   "cell_type": "code",
   "execution_count": 21,
   "metadata": {},
   "outputs": [],
   "source": [
    "def get_matches_df(sparse_matrix, name_vector, top=100):\n",
    "    non_zeros = sparse_matrix.nonzero()\n",
    "    \n",
    "    sparserows = non_zeros[0]\n",
    "    sparsecols = non_zeros[1]\n",
    "    \n",
    "    if top:\n",
    "        nr_matches = top\n",
    "    else:\n",
    "        nr_matches = sparsecols.size\n",
    "    \n",
    "    left_side = np.empty([nr_matches], dtype=object)\n",
    "    right_side = np.empty([nr_matches], dtype=object)\n",
    "    similairity = np.zeros(nr_matches)\n",
    "    \n",
    "    for index in range(0, nr_matches):\n",
    "        left_side[index] = name_vector[sparserows[index]]\n",
    "        right_side[index] = name_vector[sparsecols[index]]\n",
    "        similairity[index] = sparse_matrix.data[index]\n",
    "    \n",
    "    return pd.DataFrame({'left_side': left_side,\n",
    "                          'right_side': right_side,\n",
    "                           'similarity': similairity})"
   ]
  },
  {
   "cell_type": "code",
   "execution_count": 22,
   "metadata": {},
   "outputs": [],
   "source": [
    "matches_df = get_matches_df(matches, all_company_names, top=100000)"
   ]
  },
  {
   "cell_type": "code",
   "execution_count": 23,
   "metadata": {},
   "outputs": [],
   "source": [
    "pd.options.display.max_rows = 999"
   ]
  },
  {
   "cell_type": "code",
   "execution_count": 26,
   "metadata": {
    "scrolled": false
   },
   "outputs": [],
   "source": [
    "matched = matches_df.loc[(matches_df['similarity'] < 0.99999) & (matches_df['similarity'] > 0.94)]"
   ]
  },
  {
   "cell_type": "code",
   "execution_count": 27,
   "metadata": {},
   "outputs": [
    {
     "data": {
      "text/plain": [
       "768"
      ]
     },
     "execution_count": 27,
     "metadata": {},
     "output_type": "execute_result"
    }
   ],
   "source": [
    "len(matched)"
   ]
  },
  {
   "cell_type": "code",
   "execution_count": null,
   "metadata": {},
   "outputs": [],
   "source": []
  }
 ],
 "metadata": {
  "kernelspec": {
   "display_name": "Python 3",
   "language": "python",
   "name": "python3"
  },
  "language_info": {
   "codemirror_mode": {
    "name": "ipython",
    "version": 3
   },
   "file_extension": ".py",
   "mimetype": "text/x-python",
   "name": "python",
   "nbconvert_exporter": "python",
   "pygments_lexer": "ipython3",
   "version": "3.7.4"
  }
 },
 "nbformat": 4,
 "nbformat_minor": 4
}
